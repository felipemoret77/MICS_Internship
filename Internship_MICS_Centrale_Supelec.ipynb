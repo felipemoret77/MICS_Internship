{
 "cells": [
  {
   "cell_type": "markdown",
   "metadata": {},
   "source": [
    "## Internship - MICS - CentraleSupelec - Felipe Moret & Ioane Muni Toke"
   ]
  },
  {
   "cell_type": "code",
   "execution_count": 831,
   "metadata": {},
   "outputs": [],
   "source": [
    "import sys\n",
    "import pandas as pd\n",
    "import datetime as dt\n",
    "import numpy as np\n",
    "import matplotlib.pyplot as plt\n",
    "import seaborn as sns\n",
    "\n",
    "pd.set_option('display.max_columns', None)\n",
    "pd.set_option('display.max_rows', None)\n",
    "np.set_printoptions(threshold=sys.maxsize)"
   ]
  },
  {
   "cell_type": "markdown",
   "metadata": {},
   "source": [
    "**Investigating tick by tick data - Reconstruction of Order Flow using Aggregated Data**"
   ]
  },
  {
   "cell_type": "markdown",
   "metadata": {},
   "source": [
    "**Reading Data**"
   ]
  },
  {
   "cell_type": "code",
   "execution_count": 832,
   "metadata": {},
   "outputs": [
    {
     "name": "stderr",
     "output_type": "stream",
     "text": [
      "/opt/anaconda3/lib/python3.7/site-packages/IPython/core/interactiveshell.py:3331: FutureWarning: The error_bad_lines argument has been deprecated and will be removed in a future version.\n",
      "\n",
      "\n",
      "  exec(code_obj, self.user_global_ns, self.user_ns)\n",
      "/opt/anaconda3/lib/python3.7/site-packages/IPython/core/interactiveshell.py:3331: DtypeWarning: Columns (21,22,23,24,25,26,27,28,29,30,31,32,33,34,35,36,37,38,39,40) have mixed types.Specify dtype option on import or set low_memory=False.\n",
      "  exec(code_obj, self.user_global_ns, self.user_ns)\n"
     ]
    }
   ],
   "source": [
    "quote_data_path = \"/Users/felipemoret/Desktop/MICS_Internship/FR/book/BNPP.PA/2016-01-04-BNPP.PA-book.csv.gz\"\n",
    "trade_data_path = \"/Users/felipemoret/Desktop/MICS_Internship/FR/trade/BNPP.PA/2016-01-04-BNPP.PA-trade.csv.gz\"\n",
    "\n",
    "##Reading order book (quotes) data\n",
    "quote_data = pd.read_csv(quote_data_path, compression ='gzip', error_bad_lines = False)\n",
    "trade_data = pd.read_csv(trade_data_path, compression ='gzip', error_bad_lines = False)"
   ]
  },
  {
   "cell_type": "markdown",
   "metadata": {},
   "source": [
    "**Correcting columns' index for quotes data**"
   ]
  },
  {
   "cell_type": "code",
   "execution_count": 833,
   "metadata": {},
   "outputs": [
    {
     "data": {
      "text/html": [
       "<div>\n",
       "<style scoped>\n",
       "    .dataframe tbody tr th:only-of-type {\n",
       "        vertical-align: middle;\n",
       "    }\n",
       "\n",
       "    .dataframe tbody tr th {\n",
       "        vertical-align: top;\n",
       "    }\n",
       "\n",
       "    .dataframe thead th {\n",
       "        text-align: right;\n",
       "    }\n",
       "</style>\n",
       "<table border=\"1\" class=\"dataframe\">\n",
       "  <thead>\n",
       "    <tr style=\"text-align: right;\">\n",
       "      <th></th>\n",
       "      <th>xltime</th>\n",
       "      <th>Unnamed: 1</th>\n",
       "      <th>bid-price-1</th>\n",
       "      <th>bid-volume-1</th>\n",
       "      <th>ask-price-1</th>\n",
       "      <th>ask-volume-1</th>\n",
       "      <th>bid-price-2</th>\n",
       "      <th>bid-volume-2</th>\n",
       "      <th>ask-price-2</th>\n",
       "      <th>ask-volume-2</th>\n",
       "      <th>bid-price-3</th>\n",
       "      <th>bid-volume-3</th>\n",
       "      <th>ask-price-3</th>\n",
       "      <th>ask-volume-3</th>\n",
       "      <th>bid-price-4</th>\n",
       "      <th>bid-volume-4</th>\n",
       "      <th>ask-price-4</th>\n",
       "      <th>ask-volume-4</th>\n",
       "      <th>bid-price-5</th>\n",
       "      <th>bid-volume-5</th>\n",
       "      <th>ask-price-5</th>\n",
       "      <th>ask-volume-5</th>\n",
       "      <th>bid-price-6</th>\n",
       "      <th>bid-volume-6</th>\n",
       "      <th>ask-price-6</th>\n",
       "      <th>ask-volume-6</th>\n",
       "      <th>bid-price-7</th>\n",
       "      <th>bid-volume-7</th>\n",
       "      <th>ask-price-7</th>\n",
       "      <th>ask-volume-7</th>\n",
       "      <th>bid-price-8</th>\n",
       "      <th>bid-volume-8</th>\n",
       "      <th>ask-price-8</th>\n",
       "      <th>ask-volume-8</th>\n",
       "      <th>bid-price-9</th>\n",
       "      <th>bid-volume-9</th>\n",
       "      <th>ask-price-9</th>\n",
       "      <th>ask-volume-9</th>\n",
       "      <th>bid-price-10</th>\n",
       "      <th>bid-volume-10</th>\n",
       "      <th>ask-price-10</th>\n",
       "      <th>ask-volume-10</th>\n",
       "    </tr>\n",
       "  </thead>\n",
       "  <tbody>\n",
       "    <tr>\n",
       "      <th>0</th>\n",
       "      <td>42373.218982</td>\n",
       "      <td>43.5</td>\n",
       "      <td>70</td>\n",
       "      <td>69.0</td>\n",
       "      <td>166</td>\n",
       "      <td>43.5</td>\n",
       "      <td>170</td>\n",
       "      <td>69.0</td>\n",
       "      <td>166</td>\n",
       "      <td>38.8</td>\n",
       "      <td>1500</td>\n",
       "      <td>69.0</td>\n",
       "      <td>166</td>\n",
       "      <td>37.8</td>\n",
       "      <td>1500</td>\n",
       "      <td>69.0</td>\n",
       "      <td>166</td>\n",
       "      <td>37.8</td>\n",
       "      <td>3000</td>\n",
       "      <td>69.0</td>\n",
       "      <td>166</td>\n",
       "      <td>()</td>\n",
       "      <td>()</td>\n",
       "      <td>()</td>\n",
       "      <td>()</td>\n",
       "      <td>()</td>\n",
       "      <td>()</td>\n",
       "      <td>()</td>\n",
       "      <td>()</td>\n",
       "      <td>()</td>\n",
       "      <td>()</td>\n",
       "      <td>()</td>\n",
       "      <td>()</td>\n",
       "      <td>()</td>\n",
       "      <td>()</td>\n",
       "      <td>()</td>\n",
       "      <td>()</td>\n",
       "      <td>()</td>\n",
       "      <td>()</td>\n",
       "      <td>()</td>\n",
       "      <td>()</td>\n",
       "      <td>NaN</td>\n",
       "    </tr>\n",
       "    <tr>\n",
       "      <th>1</th>\n",
       "      <td>42373.218982</td>\n",
       "      <td>43.5</td>\n",
       "      <td>70</td>\n",
       "      <td>69.0</td>\n",
       "      <td>166</td>\n",
       "      <td>43.5</td>\n",
       "      <td>170</td>\n",
       "      <td>69.0</td>\n",
       "      <td>166</td>\n",
       "      <td>38.8</td>\n",
       "      <td>1500</td>\n",
       "      <td>69.0</td>\n",
       "      <td>166</td>\n",
       "      <td>37.8</td>\n",
       "      <td>1500</td>\n",
       "      <td>69.0</td>\n",
       "      <td>166</td>\n",
       "      <td>37.8</td>\n",
       "      <td>3000</td>\n",
       "      <td>69.0</td>\n",
       "      <td>166</td>\n",
       "      <td>()</td>\n",
       "      <td>()</td>\n",
       "      <td>69</td>\n",
       "      <td>166</td>\n",
       "      <td>()</td>\n",
       "      <td>()</td>\n",
       "      <td>()</td>\n",
       "      <td>()</td>\n",
       "      <td>()</td>\n",
       "      <td>()</td>\n",
       "      <td>()</td>\n",
       "      <td>()</td>\n",
       "      <td>()</td>\n",
       "      <td>()</td>\n",
       "      <td>()</td>\n",
       "      <td>()</td>\n",
       "      <td>()</td>\n",
       "      <td>()</td>\n",
       "      <td>()</td>\n",
       "      <td>()</td>\n",
       "      <td>NaN</td>\n",
       "    </tr>\n",
       "    <tr>\n",
       "      <th>2</th>\n",
       "      <td>42373.218982</td>\n",
       "      <td>43.5</td>\n",
       "      <td>70</td>\n",
       "      <td>61.5</td>\n",
       "      <td>22</td>\n",
       "      <td>43.5</td>\n",
       "      <td>170</td>\n",
       "      <td>69.0</td>\n",
       "      <td>166</td>\n",
       "      <td>38.8</td>\n",
       "      <td>3000</td>\n",
       "      <td>68.5</td>\n",
       "      <td>50</td>\n",
       "      <td>37.8</td>\n",
       "      <td>3000</td>\n",
       "      <td>68.5</td>\n",
       "      <td>50</td>\n",
       "      <td>37.8</td>\n",
       "      <td>3000</td>\n",
       "      <td>69.0</td>\n",
       "      <td>166</td>\n",
       "      <td>()</td>\n",
       "      <td>()</td>\n",
       "      <td>69</td>\n",
       "      <td>166</td>\n",
       "      <td>()</td>\n",
       "      <td>()</td>\n",
       "      <td>()</td>\n",
       "      <td>()</td>\n",
       "      <td>()</td>\n",
       "      <td>()</td>\n",
       "      <td>()</td>\n",
       "      <td>()</td>\n",
       "      <td>()</td>\n",
       "      <td>()</td>\n",
       "      <td>()</td>\n",
       "      <td>()</td>\n",
       "      <td>()</td>\n",
       "      <td>()</td>\n",
       "      <td>()</td>\n",
       "      <td>()</td>\n",
       "      <td>NaN</td>\n",
       "    </tr>\n",
       "    <tr>\n",
       "      <th>3</th>\n",
       "      <td>42373.218982</td>\n",
       "      <td>43.5</td>\n",
       "      <td>70</td>\n",
       "      <td>61.5</td>\n",
       "      <td>22</td>\n",
       "      <td>43.5</td>\n",
       "      <td>170</td>\n",
       "      <td>69.0</td>\n",
       "      <td>166</td>\n",
       "      <td>38.8</td>\n",
       "      <td>3000</td>\n",
       "      <td>68.5</td>\n",
       "      <td>50</td>\n",
       "      <td>37.8</td>\n",
       "      <td>3000</td>\n",
       "      <td>68.5</td>\n",
       "      <td>50</td>\n",
       "      <td>37.8</td>\n",
       "      <td>3000</td>\n",
       "      <td>69.0</td>\n",
       "      <td>166</td>\n",
       "      <td>()</td>\n",
       "      <td>()</td>\n",
       "      <td>69</td>\n",
       "      <td>166</td>\n",
       "      <td>()</td>\n",
       "      <td>()</td>\n",
       "      <td>()</td>\n",
       "      <td>()</td>\n",
       "      <td>()</td>\n",
       "      <td>()</td>\n",
       "      <td>()</td>\n",
       "      <td>()</td>\n",
       "      <td>()</td>\n",
       "      <td>()</td>\n",
       "      <td>()</td>\n",
       "      <td>()</td>\n",
       "      <td>()</td>\n",
       "      <td>()</td>\n",
       "      <td>()</td>\n",
       "      <td>()</td>\n",
       "      <td>NaN</td>\n",
       "    </tr>\n",
       "    <tr>\n",
       "      <th>4</th>\n",
       "      <td>42373.218982</td>\n",
       "      <td>43.5</td>\n",
       "      <td>70</td>\n",
       "      <td>61.5</td>\n",
       "      <td>22</td>\n",
       "      <td>43.5</td>\n",
       "      <td>170</td>\n",
       "      <td>69.0</td>\n",
       "      <td>166</td>\n",
       "      <td>38.8</td>\n",
       "      <td>3000</td>\n",
       "      <td>68.5</td>\n",
       "      <td>50</td>\n",
       "      <td>37.8</td>\n",
       "      <td>3000</td>\n",
       "      <td>68.5</td>\n",
       "      <td>50</td>\n",
       "      <td>37.8</td>\n",
       "      <td>3000</td>\n",
       "      <td>69.0</td>\n",
       "      <td>166</td>\n",
       "      <td>()</td>\n",
       "      <td>()</td>\n",
       "      <td>69</td>\n",
       "      <td>166</td>\n",
       "      <td>()</td>\n",
       "      <td>()</td>\n",
       "      <td>()</td>\n",
       "      <td>()</td>\n",
       "      <td>()</td>\n",
       "      <td>()</td>\n",
       "      <td>()</td>\n",
       "      <td>()</td>\n",
       "      <td>()</td>\n",
       "      <td>()</td>\n",
       "      <td>()</td>\n",
       "      <td>()</td>\n",
       "      <td>()</td>\n",
       "      <td>()</td>\n",
       "      <td>()</td>\n",
       "      <td>()</td>\n",
       "      <td>NaN</td>\n",
       "    </tr>\n",
       "  </tbody>\n",
       "</table>\n",
       "</div>"
      ],
      "text/plain": [
       "         xltime  Unnamed: 1  bid-price-1  bid-volume-1  ask-price-1  \\\n",
       "0  42373.218982        43.5           70          69.0          166   \n",
       "1  42373.218982        43.5           70          69.0          166   \n",
       "2  42373.218982        43.5           70          61.5           22   \n",
       "3  42373.218982        43.5           70          61.5           22   \n",
       "4  42373.218982        43.5           70          61.5           22   \n",
       "\n",
       "   ask-volume-1  bid-price-2  bid-volume-2  ask-price-2  ask-volume-2  \\\n",
       "0          43.5          170          69.0          166          38.8   \n",
       "1          43.5          170          69.0          166          38.8   \n",
       "2          43.5          170          69.0          166          38.8   \n",
       "3          43.5          170          69.0          166          38.8   \n",
       "4          43.5          170          69.0          166          38.8   \n",
       "\n",
       "   bid-price-3  bid-volume-3  ask-price-3  ask-volume-3  bid-price-4  \\\n",
       "0         1500          69.0          166          37.8         1500   \n",
       "1         1500          69.0          166          37.8         1500   \n",
       "2         3000          68.5           50          37.8         3000   \n",
       "3         3000          68.5           50          37.8         3000   \n",
       "4         3000          68.5           50          37.8         3000   \n",
       "\n",
       "   bid-volume-4  ask-price-4  ask-volume-4  bid-price-5  bid-volume-5  \\\n",
       "0          69.0          166          37.8         3000          69.0   \n",
       "1          69.0          166          37.8         3000          69.0   \n",
       "2          68.5           50          37.8         3000          69.0   \n",
       "3          68.5           50          37.8         3000          69.0   \n",
       "4          68.5           50          37.8         3000          69.0   \n",
       "\n",
       "   ask-price-5 ask-volume-5 bid-price-6 bid-volume-6 ask-price-6 ask-volume-6  \\\n",
       "0          166           ()          ()           ()          ()           ()   \n",
       "1          166           ()          ()           69         166           ()   \n",
       "2          166           ()          ()           69         166           ()   \n",
       "3          166           ()          ()           69         166           ()   \n",
       "4          166           ()          ()           69         166           ()   \n",
       "\n",
       "  bid-price-7 bid-volume-7 ask-price-7 ask-volume-7 bid-price-8 bid-volume-8  \\\n",
       "0          ()           ()          ()           ()          ()           ()   \n",
       "1          ()           ()          ()           ()          ()           ()   \n",
       "2          ()           ()          ()           ()          ()           ()   \n",
       "3          ()           ()          ()           ()          ()           ()   \n",
       "4          ()           ()          ()           ()          ()           ()   \n",
       "\n",
       "  ask-price-8 ask-volume-8 bid-price-9 bid-volume-9 ask-price-9 ask-volume-9  \\\n",
       "0          ()           ()          ()           ()          ()           ()   \n",
       "1          ()           ()          ()           ()          ()           ()   \n",
       "2          ()           ()          ()           ()          ()           ()   \n",
       "3          ()           ()          ()           ()          ()           ()   \n",
       "4          ()           ()          ()           ()          ()           ()   \n",
       "\n",
       "  bid-price-10 bid-volume-10 ask-price-10  ask-volume-10  \n",
       "0           ()            ()           ()            NaN  \n",
       "1           ()            ()           ()            NaN  \n",
       "2           ()            ()           ()            NaN  \n",
       "3           ()            ()           ()            NaN  \n",
       "4           ()            ()           ()            NaN  "
      ]
     },
     "execution_count": 833,
     "metadata": {},
     "output_type": "execute_result"
    }
   ],
   "source": [
    "quote_data.head()"
   ]
  },
  {
   "cell_type": "code",
   "execution_count": 834,
   "metadata": {},
   "outputs": [],
   "source": [
    "quote_data_columns = quote_data.columns\n",
    "quote_data_first_column = quote_data_columns[0] \n",
    "quote_data_columns = quote_data.columns[2:]\n",
    "quote_data_columns = quote_data_columns.insert(0, quote_data_first_column)"
   ]
  },
  {
   "cell_type": "code",
   "execution_count": 835,
   "metadata": {},
   "outputs": [],
   "source": [
    "quote_data = quote_data.iloc[: , :-1]"
   ]
  },
  {
   "cell_type": "code",
   "execution_count": 836,
   "metadata": {},
   "outputs": [],
   "source": [
    "quote_data.columns = quote_data_columns"
   ]
  },
  {
   "cell_type": "code",
   "execution_count": 837,
   "metadata": {},
   "outputs": [
    {
     "data": {
      "text/html": [
       "<div>\n",
       "<style scoped>\n",
       "    .dataframe tbody tr th:only-of-type {\n",
       "        vertical-align: middle;\n",
       "    }\n",
       "\n",
       "    .dataframe tbody tr th {\n",
       "        vertical-align: top;\n",
       "    }\n",
       "\n",
       "    .dataframe thead th {\n",
       "        text-align: right;\n",
       "    }\n",
       "</style>\n",
       "<table border=\"1\" class=\"dataframe\">\n",
       "  <thead>\n",
       "    <tr style=\"text-align: right;\">\n",
       "      <th></th>\n",
       "      <th>xltime</th>\n",
       "      <th>bid-price-1</th>\n",
       "      <th>bid-volume-1</th>\n",
       "      <th>ask-price-1</th>\n",
       "      <th>ask-volume-1</th>\n",
       "      <th>bid-price-2</th>\n",
       "      <th>bid-volume-2</th>\n",
       "      <th>ask-price-2</th>\n",
       "      <th>ask-volume-2</th>\n",
       "      <th>bid-price-3</th>\n",
       "      <th>bid-volume-3</th>\n",
       "      <th>ask-price-3</th>\n",
       "      <th>ask-volume-3</th>\n",
       "      <th>bid-price-4</th>\n",
       "      <th>bid-volume-4</th>\n",
       "      <th>ask-price-4</th>\n",
       "      <th>ask-volume-4</th>\n",
       "      <th>bid-price-5</th>\n",
       "      <th>bid-volume-5</th>\n",
       "      <th>ask-price-5</th>\n",
       "      <th>ask-volume-5</th>\n",
       "      <th>bid-price-6</th>\n",
       "      <th>bid-volume-6</th>\n",
       "      <th>ask-price-6</th>\n",
       "      <th>ask-volume-6</th>\n",
       "      <th>bid-price-7</th>\n",
       "      <th>bid-volume-7</th>\n",
       "      <th>ask-price-7</th>\n",
       "      <th>ask-volume-7</th>\n",
       "      <th>bid-price-8</th>\n",
       "      <th>bid-volume-8</th>\n",
       "      <th>ask-price-8</th>\n",
       "      <th>ask-volume-8</th>\n",
       "      <th>bid-price-9</th>\n",
       "      <th>bid-volume-9</th>\n",
       "      <th>ask-price-9</th>\n",
       "      <th>ask-volume-9</th>\n",
       "      <th>bid-price-10</th>\n",
       "      <th>bid-volume-10</th>\n",
       "      <th>ask-price-10</th>\n",
       "      <th>ask-volume-10</th>\n",
       "    </tr>\n",
       "  </thead>\n",
       "  <tbody>\n",
       "    <tr>\n",
       "      <th>0</th>\n",
       "      <td>42373.218982</td>\n",
       "      <td>43.5</td>\n",
       "      <td>70</td>\n",
       "      <td>69.0</td>\n",
       "      <td>166</td>\n",
       "      <td>43.5</td>\n",
       "      <td>170</td>\n",
       "      <td>69.0</td>\n",
       "      <td>166</td>\n",
       "      <td>38.8</td>\n",
       "      <td>1500</td>\n",
       "      <td>69.0</td>\n",
       "      <td>166</td>\n",
       "      <td>37.8</td>\n",
       "      <td>1500</td>\n",
       "      <td>69.0</td>\n",
       "      <td>166</td>\n",
       "      <td>37.8</td>\n",
       "      <td>3000</td>\n",
       "      <td>69.0</td>\n",
       "      <td>166</td>\n",
       "      <td>()</td>\n",
       "      <td>()</td>\n",
       "      <td>()</td>\n",
       "      <td>()</td>\n",
       "      <td>()</td>\n",
       "      <td>()</td>\n",
       "      <td>()</td>\n",
       "      <td>()</td>\n",
       "      <td>()</td>\n",
       "      <td>()</td>\n",
       "      <td>()</td>\n",
       "      <td>()</td>\n",
       "      <td>()</td>\n",
       "      <td>()</td>\n",
       "      <td>()</td>\n",
       "      <td>()</td>\n",
       "      <td>()</td>\n",
       "      <td>()</td>\n",
       "      <td>()</td>\n",
       "      <td>()</td>\n",
       "    </tr>\n",
       "    <tr>\n",
       "      <th>1</th>\n",
       "      <td>42373.218982</td>\n",
       "      <td>43.5</td>\n",
       "      <td>70</td>\n",
       "      <td>69.0</td>\n",
       "      <td>166</td>\n",
       "      <td>43.5</td>\n",
       "      <td>170</td>\n",
       "      <td>69.0</td>\n",
       "      <td>166</td>\n",
       "      <td>38.8</td>\n",
       "      <td>1500</td>\n",
       "      <td>69.0</td>\n",
       "      <td>166</td>\n",
       "      <td>37.8</td>\n",
       "      <td>1500</td>\n",
       "      <td>69.0</td>\n",
       "      <td>166</td>\n",
       "      <td>37.8</td>\n",
       "      <td>3000</td>\n",
       "      <td>69.0</td>\n",
       "      <td>166</td>\n",
       "      <td>()</td>\n",
       "      <td>()</td>\n",
       "      <td>69</td>\n",
       "      <td>166</td>\n",
       "      <td>()</td>\n",
       "      <td>()</td>\n",
       "      <td>()</td>\n",
       "      <td>()</td>\n",
       "      <td>()</td>\n",
       "      <td>()</td>\n",
       "      <td>()</td>\n",
       "      <td>()</td>\n",
       "      <td>()</td>\n",
       "      <td>()</td>\n",
       "      <td>()</td>\n",
       "      <td>()</td>\n",
       "      <td>()</td>\n",
       "      <td>()</td>\n",
       "      <td>()</td>\n",
       "      <td>()</td>\n",
       "    </tr>\n",
       "    <tr>\n",
       "      <th>2</th>\n",
       "      <td>42373.218982</td>\n",
       "      <td>43.5</td>\n",
       "      <td>70</td>\n",
       "      <td>61.5</td>\n",
       "      <td>22</td>\n",
       "      <td>43.5</td>\n",
       "      <td>170</td>\n",
       "      <td>69.0</td>\n",
       "      <td>166</td>\n",
       "      <td>38.8</td>\n",
       "      <td>3000</td>\n",
       "      <td>68.5</td>\n",
       "      <td>50</td>\n",
       "      <td>37.8</td>\n",
       "      <td>3000</td>\n",
       "      <td>68.5</td>\n",
       "      <td>50</td>\n",
       "      <td>37.8</td>\n",
       "      <td>3000</td>\n",
       "      <td>69.0</td>\n",
       "      <td>166</td>\n",
       "      <td>()</td>\n",
       "      <td>()</td>\n",
       "      <td>69</td>\n",
       "      <td>166</td>\n",
       "      <td>()</td>\n",
       "      <td>()</td>\n",
       "      <td>()</td>\n",
       "      <td>()</td>\n",
       "      <td>()</td>\n",
       "      <td>()</td>\n",
       "      <td>()</td>\n",
       "      <td>()</td>\n",
       "      <td>()</td>\n",
       "      <td>()</td>\n",
       "      <td>()</td>\n",
       "      <td>()</td>\n",
       "      <td>()</td>\n",
       "      <td>()</td>\n",
       "      <td>()</td>\n",
       "      <td>()</td>\n",
       "    </tr>\n",
       "    <tr>\n",
       "      <th>3</th>\n",
       "      <td>42373.218982</td>\n",
       "      <td>43.5</td>\n",
       "      <td>70</td>\n",
       "      <td>61.5</td>\n",
       "      <td>22</td>\n",
       "      <td>43.5</td>\n",
       "      <td>170</td>\n",
       "      <td>69.0</td>\n",
       "      <td>166</td>\n",
       "      <td>38.8</td>\n",
       "      <td>3000</td>\n",
       "      <td>68.5</td>\n",
       "      <td>50</td>\n",
       "      <td>37.8</td>\n",
       "      <td>3000</td>\n",
       "      <td>68.5</td>\n",
       "      <td>50</td>\n",
       "      <td>37.8</td>\n",
       "      <td>3000</td>\n",
       "      <td>69.0</td>\n",
       "      <td>166</td>\n",
       "      <td>()</td>\n",
       "      <td>()</td>\n",
       "      <td>69</td>\n",
       "      <td>166</td>\n",
       "      <td>()</td>\n",
       "      <td>()</td>\n",
       "      <td>()</td>\n",
       "      <td>()</td>\n",
       "      <td>()</td>\n",
       "      <td>()</td>\n",
       "      <td>()</td>\n",
       "      <td>()</td>\n",
       "      <td>()</td>\n",
       "      <td>()</td>\n",
       "      <td>()</td>\n",
       "      <td>()</td>\n",
       "      <td>()</td>\n",
       "      <td>()</td>\n",
       "      <td>()</td>\n",
       "      <td>()</td>\n",
       "    </tr>\n",
       "    <tr>\n",
       "      <th>4</th>\n",
       "      <td>42373.218982</td>\n",
       "      <td>43.5</td>\n",
       "      <td>70</td>\n",
       "      <td>61.5</td>\n",
       "      <td>22</td>\n",
       "      <td>43.5</td>\n",
       "      <td>170</td>\n",
       "      <td>69.0</td>\n",
       "      <td>166</td>\n",
       "      <td>38.8</td>\n",
       "      <td>3000</td>\n",
       "      <td>68.5</td>\n",
       "      <td>50</td>\n",
       "      <td>37.8</td>\n",
       "      <td>3000</td>\n",
       "      <td>68.5</td>\n",
       "      <td>50</td>\n",
       "      <td>37.8</td>\n",
       "      <td>3000</td>\n",
       "      <td>69.0</td>\n",
       "      <td>166</td>\n",
       "      <td>()</td>\n",
       "      <td>()</td>\n",
       "      <td>69</td>\n",
       "      <td>166</td>\n",
       "      <td>()</td>\n",
       "      <td>()</td>\n",
       "      <td>()</td>\n",
       "      <td>()</td>\n",
       "      <td>()</td>\n",
       "      <td>()</td>\n",
       "      <td>()</td>\n",
       "      <td>()</td>\n",
       "      <td>()</td>\n",
       "      <td>()</td>\n",
       "      <td>()</td>\n",
       "      <td>()</td>\n",
       "      <td>()</td>\n",
       "      <td>()</td>\n",
       "      <td>()</td>\n",
       "      <td>()</td>\n",
       "    </tr>\n",
       "  </tbody>\n",
       "</table>\n",
       "</div>"
      ],
      "text/plain": [
       "         xltime  bid-price-1  bid-volume-1  ask-price-1  ask-volume-1  \\\n",
       "0  42373.218982         43.5            70         69.0           166   \n",
       "1  42373.218982         43.5            70         69.0           166   \n",
       "2  42373.218982         43.5            70         61.5            22   \n",
       "3  42373.218982         43.5            70         61.5            22   \n",
       "4  42373.218982         43.5            70         61.5            22   \n",
       "\n",
       "   bid-price-2  bid-volume-2  ask-price-2  ask-volume-2  bid-price-3  \\\n",
       "0         43.5           170         69.0           166         38.8   \n",
       "1         43.5           170         69.0           166         38.8   \n",
       "2         43.5           170         69.0           166         38.8   \n",
       "3         43.5           170         69.0           166         38.8   \n",
       "4         43.5           170         69.0           166         38.8   \n",
       "\n",
       "   bid-volume-3  ask-price-3  ask-volume-3  bid-price-4  bid-volume-4  \\\n",
       "0          1500         69.0           166         37.8          1500   \n",
       "1          1500         69.0           166         37.8          1500   \n",
       "2          3000         68.5            50         37.8          3000   \n",
       "3          3000         68.5            50         37.8          3000   \n",
       "4          3000         68.5            50         37.8          3000   \n",
       "\n",
       "   ask-price-4  ask-volume-4  bid-price-5  bid-volume-5  ask-price-5  \\\n",
       "0         69.0           166         37.8          3000         69.0   \n",
       "1         69.0           166         37.8          3000         69.0   \n",
       "2         68.5            50         37.8          3000         69.0   \n",
       "3         68.5            50         37.8          3000         69.0   \n",
       "4         68.5            50         37.8          3000         69.0   \n",
       "\n",
       "   ask-volume-5 bid-price-6 bid-volume-6 ask-price-6 ask-volume-6 bid-price-7  \\\n",
       "0           166          ()           ()          ()           ()          ()   \n",
       "1           166          ()           ()          69          166          ()   \n",
       "2           166          ()           ()          69          166          ()   \n",
       "3           166          ()           ()          69          166          ()   \n",
       "4           166          ()           ()          69          166          ()   \n",
       "\n",
       "  bid-volume-7 ask-price-7 ask-volume-7 bid-price-8 bid-volume-8 ask-price-8  \\\n",
       "0           ()          ()           ()          ()           ()          ()   \n",
       "1           ()          ()           ()          ()           ()          ()   \n",
       "2           ()          ()           ()          ()           ()          ()   \n",
       "3           ()          ()           ()          ()           ()          ()   \n",
       "4           ()          ()           ()          ()           ()          ()   \n",
       "\n",
       "  ask-volume-8 bid-price-9 bid-volume-9 ask-price-9 ask-volume-9 bid-price-10  \\\n",
       "0           ()          ()           ()          ()           ()           ()   \n",
       "1           ()          ()           ()          ()           ()           ()   \n",
       "2           ()          ()           ()          ()           ()           ()   \n",
       "3           ()          ()           ()          ()           ()           ()   \n",
       "4           ()          ()           ()          ()           ()           ()   \n",
       "\n",
       "  bid-volume-10 ask-price-10 ask-volume-10  \n",
       "0            ()           ()            ()  \n",
       "1            ()           ()            ()  \n",
       "2            ()           ()            ()  \n",
       "3            ()           ()            ()  \n",
       "4            ()           ()            ()  "
      ]
     },
     "execution_count": 837,
     "metadata": {},
     "output_type": "execute_result"
    }
   ],
   "source": [
    "quote_data.head()"
   ]
  },
  {
   "cell_type": "markdown",
   "metadata": {},
   "source": [
    "**Converting excel datetime for Paris datetime**"
   ]
  },
  {
   "cell_type": "code",
   "execution_count": 838,
   "metadata": {},
   "outputs": [],
   "source": [
    "quote_data['fulldate'] = pd.TimedeltaIndex(quote_data['xltime'], unit = 'd') + dt.datetime(1899,12,30)\n",
    "quote_data['fulldate'] = quote_data['fulldate'].astype('datetime64[ms]')\n",
    "quote_data = quote_data.set_index('fulldate').tz_localize('UTC').tz_convert('Europe/Paris').tz_localize(None)\n",
    "#quote_data = quote_data.reset_index()"
   ]
  },
  {
   "cell_type": "code",
   "execution_count": 839,
   "metadata": {},
   "outputs": [],
   "source": [
    "quote_data = quote_data.drop(\"xltime\", axis = 1)"
   ]
  },
  {
   "cell_type": "code",
   "execution_count": 840,
   "metadata": {},
   "outputs": [
    {
     "data": {
      "text/html": [
       "<div>\n",
       "<style scoped>\n",
       "    .dataframe tbody tr th:only-of-type {\n",
       "        vertical-align: middle;\n",
       "    }\n",
       "\n",
       "    .dataframe tbody tr th {\n",
       "        vertical-align: top;\n",
       "    }\n",
       "\n",
       "    .dataframe thead th {\n",
       "        text-align: right;\n",
       "    }\n",
       "</style>\n",
       "<table border=\"1\" class=\"dataframe\">\n",
       "  <thead>\n",
       "    <tr style=\"text-align: right;\">\n",
       "      <th></th>\n",
       "      <th>bid-price-1</th>\n",
       "      <th>bid-volume-1</th>\n",
       "      <th>ask-price-1</th>\n",
       "      <th>ask-volume-1</th>\n",
       "      <th>bid-price-2</th>\n",
       "      <th>bid-volume-2</th>\n",
       "      <th>ask-price-2</th>\n",
       "      <th>ask-volume-2</th>\n",
       "      <th>bid-price-3</th>\n",
       "      <th>bid-volume-3</th>\n",
       "      <th>ask-price-3</th>\n",
       "      <th>ask-volume-3</th>\n",
       "      <th>bid-price-4</th>\n",
       "      <th>bid-volume-4</th>\n",
       "      <th>ask-price-4</th>\n",
       "      <th>ask-volume-4</th>\n",
       "      <th>bid-price-5</th>\n",
       "      <th>bid-volume-5</th>\n",
       "      <th>ask-price-5</th>\n",
       "      <th>ask-volume-5</th>\n",
       "      <th>bid-price-6</th>\n",
       "      <th>bid-volume-6</th>\n",
       "      <th>ask-price-6</th>\n",
       "      <th>ask-volume-6</th>\n",
       "      <th>bid-price-7</th>\n",
       "      <th>bid-volume-7</th>\n",
       "      <th>ask-price-7</th>\n",
       "      <th>ask-volume-7</th>\n",
       "      <th>bid-price-8</th>\n",
       "      <th>bid-volume-8</th>\n",
       "      <th>ask-price-8</th>\n",
       "      <th>ask-volume-8</th>\n",
       "      <th>bid-price-9</th>\n",
       "      <th>bid-volume-9</th>\n",
       "      <th>ask-price-9</th>\n",
       "      <th>ask-volume-9</th>\n",
       "      <th>bid-price-10</th>\n",
       "      <th>bid-volume-10</th>\n",
       "      <th>ask-price-10</th>\n",
       "      <th>ask-volume-10</th>\n",
       "    </tr>\n",
       "    <tr>\n",
       "      <th>fulldate</th>\n",
       "      <th></th>\n",
       "      <th></th>\n",
       "      <th></th>\n",
       "      <th></th>\n",
       "      <th></th>\n",
       "      <th></th>\n",
       "      <th></th>\n",
       "      <th></th>\n",
       "      <th></th>\n",
       "      <th></th>\n",
       "      <th></th>\n",
       "      <th></th>\n",
       "      <th></th>\n",
       "      <th></th>\n",
       "      <th></th>\n",
       "      <th></th>\n",
       "      <th></th>\n",
       "      <th></th>\n",
       "      <th></th>\n",
       "      <th></th>\n",
       "      <th></th>\n",
       "      <th></th>\n",
       "      <th></th>\n",
       "      <th></th>\n",
       "      <th></th>\n",
       "      <th></th>\n",
       "      <th></th>\n",
       "      <th></th>\n",
       "      <th></th>\n",
       "      <th></th>\n",
       "      <th></th>\n",
       "      <th></th>\n",
       "      <th></th>\n",
       "      <th></th>\n",
       "      <th></th>\n",
       "      <th></th>\n",
       "      <th></th>\n",
       "      <th></th>\n",
       "      <th></th>\n",
       "      <th></th>\n",
       "    </tr>\n",
       "  </thead>\n",
       "  <tbody>\n",
       "    <tr>\n",
       "      <th>2016-01-04 06:15:20.042</th>\n",
       "      <td>43.5</td>\n",
       "      <td>70</td>\n",
       "      <td>69.0</td>\n",
       "      <td>166</td>\n",
       "      <td>43.5</td>\n",
       "      <td>170</td>\n",
       "      <td>69.0</td>\n",
       "      <td>166</td>\n",
       "      <td>38.8</td>\n",
       "      <td>1500</td>\n",
       "      <td>69.0</td>\n",
       "      <td>166</td>\n",
       "      <td>37.8</td>\n",
       "      <td>1500</td>\n",
       "      <td>69.0</td>\n",
       "      <td>166</td>\n",
       "      <td>37.8</td>\n",
       "      <td>3000</td>\n",
       "      <td>69.0</td>\n",
       "      <td>166</td>\n",
       "      <td>()</td>\n",
       "      <td>()</td>\n",
       "      <td>()</td>\n",
       "      <td>()</td>\n",
       "      <td>()</td>\n",
       "      <td>()</td>\n",
       "      <td>()</td>\n",
       "      <td>()</td>\n",
       "      <td>()</td>\n",
       "      <td>()</td>\n",
       "      <td>()</td>\n",
       "      <td>()</td>\n",
       "      <td>()</td>\n",
       "      <td>()</td>\n",
       "      <td>()</td>\n",
       "      <td>()</td>\n",
       "      <td>()</td>\n",
       "      <td>()</td>\n",
       "      <td>()</td>\n",
       "      <td>()</td>\n",
       "    </tr>\n",
       "    <tr>\n",
       "      <th>2016-01-04 06:15:20.042</th>\n",
       "      <td>43.5</td>\n",
       "      <td>70</td>\n",
       "      <td>69.0</td>\n",
       "      <td>166</td>\n",
       "      <td>43.5</td>\n",
       "      <td>170</td>\n",
       "      <td>69.0</td>\n",
       "      <td>166</td>\n",
       "      <td>38.8</td>\n",
       "      <td>1500</td>\n",
       "      <td>69.0</td>\n",
       "      <td>166</td>\n",
       "      <td>37.8</td>\n",
       "      <td>1500</td>\n",
       "      <td>69.0</td>\n",
       "      <td>166</td>\n",
       "      <td>37.8</td>\n",
       "      <td>3000</td>\n",
       "      <td>69.0</td>\n",
       "      <td>166</td>\n",
       "      <td>()</td>\n",
       "      <td>()</td>\n",
       "      <td>69</td>\n",
       "      <td>166</td>\n",
       "      <td>()</td>\n",
       "      <td>()</td>\n",
       "      <td>()</td>\n",
       "      <td>()</td>\n",
       "      <td>()</td>\n",
       "      <td>()</td>\n",
       "      <td>()</td>\n",
       "      <td>()</td>\n",
       "      <td>()</td>\n",
       "      <td>()</td>\n",
       "      <td>()</td>\n",
       "      <td>()</td>\n",
       "      <td>()</td>\n",
       "      <td>()</td>\n",
       "      <td>()</td>\n",
       "      <td>()</td>\n",
       "    </tr>\n",
       "    <tr>\n",
       "      <th>2016-01-04 06:15:20.042</th>\n",
       "      <td>43.5</td>\n",
       "      <td>70</td>\n",
       "      <td>61.5</td>\n",
       "      <td>22</td>\n",
       "      <td>43.5</td>\n",
       "      <td>170</td>\n",
       "      <td>69.0</td>\n",
       "      <td>166</td>\n",
       "      <td>38.8</td>\n",
       "      <td>3000</td>\n",
       "      <td>68.5</td>\n",
       "      <td>50</td>\n",
       "      <td>37.8</td>\n",
       "      <td>3000</td>\n",
       "      <td>68.5</td>\n",
       "      <td>50</td>\n",
       "      <td>37.8</td>\n",
       "      <td>3000</td>\n",
       "      <td>69.0</td>\n",
       "      <td>166</td>\n",
       "      <td>()</td>\n",
       "      <td>()</td>\n",
       "      <td>69</td>\n",
       "      <td>166</td>\n",
       "      <td>()</td>\n",
       "      <td>()</td>\n",
       "      <td>()</td>\n",
       "      <td>()</td>\n",
       "      <td>()</td>\n",
       "      <td>()</td>\n",
       "      <td>()</td>\n",
       "      <td>()</td>\n",
       "      <td>()</td>\n",
       "      <td>()</td>\n",
       "      <td>()</td>\n",
       "      <td>()</td>\n",
       "      <td>()</td>\n",
       "      <td>()</td>\n",
       "      <td>()</td>\n",
       "      <td>()</td>\n",
       "    </tr>\n",
       "    <tr>\n",
       "      <th>2016-01-04 06:15:20.042</th>\n",
       "      <td>43.5</td>\n",
       "      <td>70</td>\n",
       "      <td>61.5</td>\n",
       "      <td>22</td>\n",
       "      <td>43.5</td>\n",
       "      <td>170</td>\n",
       "      <td>69.0</td>\n",
       "      <td>166</td>\n",
       "      <td>38.8</td>\n",
       "      <td>3000</td>\n",
       "      <td>68.5</td>\n",
       "      <td>50</td>\n",
       "      <td>37.8</td>\n",
       "      <td>3000</td>\n",
       "      <td>68.5</td>\n",
       "      <td>50</td>\n",
       "      <td>37.8</td>\n",
       "      <td>3000</td>\n",
       "      <td>69.0</td>\n",
       "      <td>166</td>\n",
       "      <td>()</td>\n",
       "      <td>()</td>\n",
       "      <td>69</td>\n",
       "      <td>166</td>\n",
       "      <td>()</td>\n",
       "      <td>()</td>\n",
       "      <td>()</td>\n",
       "      <td>()</td>\n",
       "      <td>()</td>\n",
       "      <td>()</td>\n",
       "      <td>()</td>\n",
       "      <td>()</td>\n",
       "      <td>()</td>\n",
       "      <td>()</td>\n",
       "      <td>()</td>\n",
       "      <td>()</td>\n",
       "      <td>()</td>\n",
       "      <td>()</td>\n",
       "      <td>()</td>\n",
       "      <td>()</td>\n",
       "    </tr>\n",
       "    <tr>\n",
       "      <th>2016-01-04 06:15:20.042</th>\n",
       "      <td>43.5</td>\n",
       "      <td>70</td>\n",
       "      <td>61.5</td>\n",
       "      <td>22</td>\n",
       "      <td>43.5</td>\n",
       "      <td>170</td>\n",
       "      <td>69.0</td>\n",
       "      <td>166</td>\n",
       "      <td>38.8</td>\n",
       "      <td>3000</td>\n",
       "      <td>68.5</td>\n",
       "      <td>50</td>\n",
       "      <td>37.8</td>\n",
       "      <td>3000</td>\n",
       "      <td>68.5</td>\n",
       "      <td>50</td>\n",
       "      <td>37.8</td>\n",
       "      <td>3000</td>\n",
       "      <td>69.0</td>\n",
       "      <td>166</td>\n",
       "      <td>()</td>\n",
       "      <td>()</td>\n",
       "      <td>69</td>\n",
       "      <td>166</td>\n",
       "      <td>()</td>\n",
       "      <td>()</td>\n",
       "      <td>()</td>\n",
       "      <td>()</td>\n",
       "      <td>()</td>\n",
       "      <td>()</td>\n",
       "      <td>()</td>\n",
       "      <td>()</td>\n",
       "      <td>()</td>\n",
       "      <td>()</td>\n",
       "      <td>()</td>\n",
       "      <td>()</td>\n",
       "      <td>()</td>\n",
       "      <td>()</td>\n",
       "      <td>()</td>\n",
       "      <td>()</td>\n",
       "    </tr>\n",
       "  </tbody>\n",
       "</table>\n",
       "</div>"
      ],
      "text/plain": [
       "                         bid-price-1  bid-volume-1  ask-price-1  ask-volume-1  \\\n",
       "fulldate                                                                        \n",
       "2016-01-04 06:15:20.042         43.5            70         69.0           166   \n",
       "2016-01-04 06:15:20.042         43.5            70         69.0           166   \n",
       "2016-01-04 06:15:20.042         43.5            70         61.5            22   \n",
       "2016-01-04 06:15:20.042         43.5            70         61.5            22   \n",
       "2016-01-04 06:15:20.042         43.5            70         61.5            22   \n",
       "\n",
       "                         bid-price-2  bid-volume-2  ask-price-2  ask-volume-2  \\\n",
       "fulldate                                                                        \n",
       "2016-01-04 06:15:20.042         43.5           170         69.0           166   \n",
       "2016-01-04 06:15:20.042         43.5           170         69.0           166   \n",
       "2016-01-04 06:15:20.042         43.5           170         69.0           166   \n",
       "2016-01-04 06:15:20.042         43.5           170         69.0           166   \n",
       "2016-01-04 06:15:20.042         43.5           170         69.0           166   \n",
       "\n",
       "                         bid-price-3  bid-volume-3  ask-price-3  ask-volume-3  \\\n",
       "fulldate                                                                        \n",
       "2016-01-04 06:15:20.042         38.8          1500         69.0           166   \n",
       "2016-01-04 06:15:20.042         38.8          1500         69.0           166   \n",
       "2016-01-04 06:15:20.042         38.8          3000         68.5            50   \n",
       "2016-01-04 06:15:20.042         38.8          3000         68.5            50   \n",
       "2016-01-04 06:15:20.042         38.8          3000         68.5            50   \n",
       "\n",
       "                         bid-price-4  bid-volume-4  ask-price-4  ask-volume-4  \\\n",
       "fulldate                                                                        \n",
       "2016-01-04 06:15:20.042         37.8          1500         69.0           166   \n",
       "2016-01-04 06:15:20.042         37.8          1500         69.0           166   \n",
       "2016-01-04 06:15:20.042         37.8          3000         68.5            50   \n",
       "2016-01-04 06:15:20.042         37.8          3000         68.5            50   \n",
       "2016-01-04 06:15:20.042         37.8          3000         68.5            50   \n",
       "\n",
       "                         bid-price-5  bid-volume-5  ask-price-5  ask-volume-5  \\\n",
       "fulldate                                                                        \n",
       "2016-01-04 06:15:20.042         37.8          3000         69.0           166   \n",
       "2016-01-04 06:15:20.042         37.8          3000         69.0           166   \n",
       "2016-01-04 06:15:20.042         37.8          3000         69.0           166   \n",
       "2016-01-04 06:15:20.042         37.8          3000         69.0           166   \n",
       "2016-01-04 06:15:20.042         37.8          3000         69.0           166   \n",
       "\n",
       "                        bid-price-6 bid-volume-6 ask-price-6 ask-volume-6  \\\n",
       "fulldate                                                                    \n",
       "2016-01-04 06:15:20.042          ()           ()          ()           ()   \n",
       "2016-01-04 06:15:20.042          ()           ()          69          166   \n",
       "2016-01-04 06:15:20.042          ()           ()          69          166   \n",
       "2016-01-04 06:15:20.042          ()           ()          69          166   \n",
       "2016-01-04 06:15:20.042          ()           ()          69          166   \n",
       "\n",
       "                        bid-price-7 bid-volume-7 ask-price-7 ask-volume-7  \\\n",
       "fulldate                                                                    \n",
       "2016-01-04 06:15:20.042          ()           ()          ()           ()   \n",
       "2016-01-04 06:15:20.042          ()           ()          ()           ()   \n",
       "2016-01-04 06:15:20.042          ()           ()          ()           ()   \n",
       "2016-01-04 06:15:20.042          ()           ()          ()           ()   \n",
       "2016-01-04 06:15:20.042          ()           ()          ()           ()   \n",
       "\n",
       "                        bid-price-8 bid-volume-8 ask-price-8 ask-volume-8  \\\n",
       "fulldate                                                                    \n",
       "2016-01-04 06:15:20.042          ()           ()          ()           ()   \n",
       "2016-01-04 06:15:20.042          ()           ()          ()           ()   \n",
       "2016-01-04 06:15:20.042          ()           ()          ()           ()   \n",
       "2016-01-04 06:15:20.042          ()           ()          ()           ()   \n",
       "2016-01-04 06:15:20.042          ()           ()          ()           ()   \n",
       "\n",
       "                        bid-price-9 bid-volume-9 ask-price-9 ask-volume-9  \\\n",
       "fulldate                                                                    \n",
       "2016-01-04 06:15:20.042          ()           ()          ()           ()   \n",
       "2016-01-04 06:15:20.042          ()           ()          ()           ()   \n",
       "2016-01-04 06:15:20.042          ()           ()          ()           ()   \n",
       "2016-01-04 06:15:20.042          ()           ()          ()           ()   \n",
       "2016-01-04 06:15:20.042          ()           ()          ()           ()   \n",
       "\n",
       "                        bid-price-10 bid-volume-10 ask-price-10 ask-volume-10  \n",
       "fulldate                                                                       \n",
       "2016-01-04 06:15:20.042           ()            ()           ()            ()  \n",
       "2016-01-04 06:15:20.042           ()            ()           ()            ()  \n",
       "2016-01-04 06:15:20.042           ()            ()           ()            ()  \n",
       "2016-01-04 06:15:20.042           ()            ()           ()            ()  \n",
       "2016-01-04 06:15:20.042           ()            ()           ()            ()  "
      ]
     },
     "execution_count": 840,
     "metadata": {},
     "output_type": "execute_result"
    }
   ],
   "source": [
    "quote_data.head()"
   ]
  },
  {
   "cell_type": "markdown",
   "metadata": {},
   "source": [
    "**Correcting columns' index for trades data**"
   ]
  },
  {
   "cell_type": "code",
   "execution_count": 841,
   "metadata": {},
   "outputs": [],
   "source": [
    "trade_data.columns = ['ts', 'price', 'volume', 'flag', 'rawflag']"
   ]
  },
  {
   "cell_type": "code",
   "execution_count": 842,
   "metadata": {},
   "outputs": [
    {
     "data": {
      "text/html": [
       "<div>\n",
       "<style scoped>\n",
       "    .dataframe tbody tr th:only-of-type {\n",
       "        vertical-align: middle;\n",
       "    }\n",
       "\n",
       "    .dataframe tbody tr th {\n",
       "        vertical-align: top;\n",
       "    }\n",
       "\n",
       "    .dataframe thead th {\n",
       "        text-align: right;\n",
       "    }\n",
       "</style>\n",
       "<table border=\"1\" class=\"dataframe\">\n",
       "  <thead>\n",
       "    <tr style=\"text-align: right;\">\n",
       "      <th></th>\n",
       "      <th>ts</th>\n",
       "      <th>price</th>\n",
       "      <th>volume</th>\n",
       "      <th>flag</th>\n",
       "      <th>rawflag</th>\n",
       "    </tr>\n",
       "  </thead>\n",
       "  <tbody>\n",
       "    <tr>\n",
       "      <th>0</th>\n",
       "      <td>42373.100934</td>\n",
       "      <td>52.59</td>\n",
       "      <td>0.0</td>\n",
       "      <td>settlementprice</td>\n",
       "      <td>[BNPP]Settlement Price</td>\n",
       "    </tr>\n",
       "    <tr>\n",
       "      <th>1</th>\n",
       "      <td>42373.231234</td>\n",
       "      <td>52.23</td>\n",
       "      <td>0.0</td>\n",
       "      <td>settlementprice</td>\n",
       "      <td>[BNPP]Settlement Price</td>\n",
       "    </tr>\n",
       "    <tr>\n",
       "      <th>2</th>\n",
       "      <td>42373.260417</td>\n",
       "      <td>52.23</td>\n",
       "      <td>0.0</td>\n",
       "      <td>auctionphase</td>\n",
       "      <td>[BNPP]Auction Phase</td>\n",
       "    </tr>\n",
       "    <tr>\n",
       "      <th>3</th>\n",
       "      <td>42373.260418</td>\n",
       "      <td>52.23</td>\n",
       "      <td>0.0</td>\n",
       "      <td>theoricalprice|auctionphase</td>\n",
       "      <td>[PRC_QL_CD]IND[BNPP]Auction Phase</td>\n",
       "    </tr>\n",
       "    <tr>\n",
       "      <th>4</th>\n",
       "      <td>42373.260735</td>\n",
       "      <td>52.20</td>\n",
       "      <td>50.0</td>\n",
       "      <td>auctionphase</td>\n",
       "      <td>[BNPP]Auction Phase</td>\n",
       "    </tr>\n",
       "  </tbody>\n",
       "</table>\n",
       "</div>"
      ],
      "text/plain": [
       "             ts  price  volume                         flag  \\\n",
       "0  42373.100934  52.59     0.0              settlementprice   \n",
       "1  42373.231234  52.23     0.0              settlementprice   \n",
       "2  42373.260417  52.23     0.0                 auctionphase   \n",
       "3  42373.260418  52.23     0.0  theoricalprice|auctionphase   \n",
       "4  42373.260735  52.20    50.0                 auctionphase   \n",
       "\n",
       "                             rawflag  \n",
       "0             [BNPP]Settlement Price  \n",
       "1             [BNPP]Settlement Price  \n",
       "2                [BNPP]Auction Phase  \n",
       "3  [PRC_QL_CD]IND[BNPP]Auction Phase  \n",
       "4                [BNPP]Auction Phase  "
      ]
     },
     "execution_count": 842,
     "metadata": {},
     "output_type": "execute_result"
    }
   ],
   "source": [
    "trade_data.head(5)"
   ]
  },
  {
   "cell_type": "markdown",
   "metadata": {},
   "source": [
    "**FIltering trade data for only \"uncategorized\" flag**"
   ]
  },
  {
   "cell_type": "code",
   "execution_count": 843,
   "metadata": {},
   "outputs": [],
   "source": [
    "trade_data = trade_data[trade_data[\"flag\"] == \"uncategorized\"]"
   ]
  },
  {
   "cell_type": "code",
   "execution_count": 844,
   "metadata": {},
   "outputs": [
    {
     "data": {
      "text/plain": [
       "(20200, 5)"
      ]
     },
     "execution_count": 844,
     "metadata": {},
     "output_type": "execute_result"
    }
   ],
   "source": [
    "trade_data.shape"
   ]
  },
  {
   "cell_type": "markdown",
   "metadata": {},
   "source": [
    "**Converting excel datetime for Paris datetime**"
   ]
  },
  {
   "cell_type": "code",
   "execution_count": 845,
   "metadata": {},
   "outputs": [],
   "source": [
    "trade_data['fulldate'] = pd.TimedeltaIndex(trade_data['ts'], unit = 'd') + dt.datetime(1899,12,30)\n",
    "trade_data['fulldate'] = trade_data['fulldate'].astype('datetime64[ms]')\n",
    "trade_data = trade_data.set_index('fulldate').tz_localize('UTC').tz_convert('Europe/Paris').tz_localize(None)\n",
    "#trade_data = trade_data.reset_index()"
   ]
  },
  {
   "cell_type": "code",
   "execution_count": 846,
   "metadata": {},
   "outputs": [],
   "source": [
    "trade_data = trade_data.drop(\"ts\", axis = 1)"
   ]
  },
  {
   "cell_type": "code",
   "execution_count": 847,
   "metadata": {},
   "outputs": [
    {
     "data": {
      "text/html": [
       "<div>\n",
       "<style scoped>\n",
       "    .dataframe tbody tr th:only-of-type {\n",
       "        vertical-align: middle;\n",
       "    }\n",
       "\n",
       "    .dataframe tbody tr th {\n",
       "        vertical-align: top;\n",
       "    }\n",
       "\n",
       "    .dataframe thead th {\n",
       "        text-align: right;\n",
       "    }\n",
       "</style>\n",
       "<table border=\"1\" class=\"dataframe\">\n",
       "  <thead>\n",
       "    <tr style=\"text-align: right;\">\n",
       "      <th></th>\n",
       "      <th>price</th>\n",
       "      <th>volume</th>\n",
       "      <th>flag</th>\n",
       "      <th>rawflag</th>\n",
       "    </tr>\n",
       "    <tr>\n",
       "      <th>fulldate</th>\n",
       "      <th></th>\n",
       "      <th></th>\n",
       "      <th></th>\n",
       "      <th></th>\n",
       "    </tr>\n",
       "  </thead>\n",
       "  <tbody>\n",
       "    <tr>\n",
       "      <th>2016-01-04 09:00:29.483</th>\n",
       "      <td>51.75</td>\n",
       "      <td>47.0</td>\n",
       "      <td>uncategorized</td>\n",
       "      <td>[ACT_FLAG1] [PRC_QL_CD]</td>\n",
       "    </tr>\n",
       "    <tr>\n",
       "      <th>2016-01-04 09:00:29.483</th>\n",
       "      <td>51.75</td>\n",
       "      <td>26.0</td>\n",
       "      <td>uncategorized</td>\n",
       "      <td>[ACT_FLAG1]</td>\n",
       "    </tr>\n",
       "    <tr>\n",
       "      <th>2016-01-04 09:00:29.483</th>\n",
       "      <td>51.75</td>\n",
       "      <td>1.0</td>\n",
       "      <td>uncategorized</td>\n",
       "      <td>[ACT_FLAG1]</td>\n",
       "    </tr>\n",
       "    <tr>\n",
       "      <th>2016-01-04 09:00:29.483</th>\n",
       "      <td>51.75</td>\n",
       "      <td>47.0</td>\n",
       "      <td>uncategorized</td>\n",
       "      <td>[ACT_FLAG1]</td>\n",
       "    </tr>\n",
       "    <tr>\n",
       "      <th>2016-01-04 09:00:29.483</th>\n",
       "      <td>51.75</td>\n",
       "      <td>50.0</td>\n",
       "      <td>uncategorized</td>\n",
       "      <td>[ACT_FLAG1]</td>\n",
       "    </tr>\n",
       "  </tbody>\n",
       "</table>\n",
       "</div>"
      ],
      "text/plain": [
       "                         price  volume           flag  \\\n",
       "fulldate                                                \n",
       "2016-01-04 09:00:29.483  51.75    47.0  uncategorized   \n",
       "2016-01-04 09:00:29.483  51.75    26.0  uncategorized   \n",
       "2016-01-04 09:00:29.483  51.75     1.0  uncategorized   \n",
       "2016-01-04 09:00:29.483  51.75    47.0  uncategorized   \n",
       "2016-01-04 09:00:29.483  51.75    50.0  uncategorized   \n",
       "\n",
       "                                            rawflag  \n",
       "fulldate                                             \n",
       "2016-01-04 09:00:29.483  [ACT_FLAG1] [PRC_QL_CD]     \n",
       "2016-01-04 09:00:29.483                [ACT_FLAG1]   \n",
       "2016-01-04 09:00:29.483                [ACT_FLAG1]   \n",
       "2016-01-04 09:00:29.483                [ACT_FLAG1]   \n",
       "2016-01-04 09:00:29.483                [ACT_FLAG1]   "
      ]
     },
     "execution_count": 847,
     "metadata": {},
     "output_type": "execute_result"
    }
   ],
   "source": [
    "trade_data.head(5)"
   ]
  },
  {
   "cell_type": "markdown",
   "metadata": {},
   "source": [
    "**Analyzing number of repeated records**"
   ]
  },
  {
   "cell_type": "code",
   "execution_count": 848,
   "metadata": {},
   "outputs": [
    {
     "name": "stdout",
     "output_type": "stream",
     "text": [
      "8821\n"
     ]
    }
   ],
   "source": [
    "print(trade_data.duplicated().sum())"
   ]
  },
  {
   "cell_type": "markdown",
   "metadata": {},
   "source": [
    "## Parsing the Quotes Data"
   ]
  },
  {
   "cell_type": "markdown",
   "metadata": {},
   "source": [
    "**Analyzing the number of missing data**"
   ]
  },
  {
   "cell_type": "code",
   "execution_count": 849,
   "metadata": {},
   "outputs": [
    {
     "data": {
      "text/plain": [
       "bid-price-1      0\n",
       "bid-volume-1     0\n",
       "ask-price-1      0\n",
       "ask-volume-1     0\n",
       "bid-price-2      0\n",
       "bid-volume-2     0\n",
       "ask-price-2      0\n",
       "ask-volume-2     0\n",
       "bid-price-3      0\n",
       "bid-volume-3     0\n",
       "ask-price-3      0\n",
       "ask-volume-3     0\n",
       "bid-price-4      0\n",
       "bid-volume-4     0\n",
       "ask-price-4      0\n",
       "ask-volume-4     0\n",
       "bid-price-5      0\n",
       "bid-volume-5     0\n",
       "ask-price-5      0\n",
       "ask-volume-5     0\n",
       "bid-price-6      0\n",
       "bid-volume-6     0\n",
       "ask-price-6      0\n",
       "ask-volume-6     0\n",
       "bid-price-7      0\n",
       "bid-volume-7     0\n",
       "ask-price-7      0\n",
       "ask-volume-7     0\n",
       "bid-price-8      0\n",
       "bid-volume-8     0\n",
       "ask-price-8      0\n",
       "ask-volume-8     0\n",
       "bid-price-9      0\n",
       "bid-volume-9     0\n",
       "ask-price-9      0\n",
       "ask-volume-9     0\n",
       "bid-price-10     0\n",
       "bid-volume-10    0\n",
       "ask-price-10     0\n",
       "ask-volume-10    0\n",
       "dtype: int64"
      ]
     },
     "execution_count": 849,
     "metadata": {},
     "output_type": "execute_result"
    }
   ],
   "source": [
    "quote_data.isna().sum()"
   ]
  },
  {
   "cell_type": "markdown",
   "metadata": {},
   "source": [
    "**Shape of the quotes data**"
   ]
  },
  {
   "cell_type": "code",
   "execution_count": 850,
   "metadata": {},
   "outputs": [
    {
     "data": {
      "text/plain": [
       "(504824, 40)"
      ]
     },
     "execution_count": 850,
     "metadata": {},
     "output_type": "execute_result"
    }
   ],
   "source": [
    "quote_data.shape"
   ]
  },
  {
   "cell_type": "markdown",
   "metadata": {},
   "source": [
    "**Analyzing number of repeated records**"
   ]
  },
  {
   "cell_type": "code",
   "execution_count": 851,
   "metadata": {},
   "outputs": [
    {
     "name": "stdout",
     "output_type": "stream",
     "text": [
      "11695\n"
     ]
    }
   ],
   "source": [
    "print(quote_data.duplicated().sum())"
   ]
  },
  {
   "cell_type": "markdown",
   "metadata": {},
   "source": [
    "**Removing duplicated rows**"
   ]
  },
  {
   "cell_type": "code",
   "execution_count": 852,
   "metadata": {},
   "outputs": [],
   "source": [
    "quote_data = quote_data[~quote_data.duplicated()]"
   ]
  },
  {
   "cell_type": "code",
   "execution_count": 853,
   "metadata": {},
   "outputs": [
    {
     "data": {
      "text/plain": [
       "(493129, 40)"
      ]
     },
     "execution_count": 853,
     "metadata": {},
     "output_type": "execute_result"
    }
   ],
   "source": [
    "quote_data.shape"
   ]
  },
  {
   "cell_type": "markdown",
   "metadata": {},
   "source": [
    "**Fixing a time period within the day for working...**"
   ]
  },
  {
   "cell_type": "code",
   "execution_count": 856,
   "metadata": {},
   "outputs": [],
   "source": [
    "##initial_period = trade_data.index[0]\n",
    "initial_period = pd.Timestamp('2016-01-04 09:10:00.00')"
   ]
  },
  {
   "cell_type": "code",
   "execution_count": 857,
   "metadata": {},
   "outputs": [
    {
     "data": {
      "text/plain": [
       "Timestamp('2016-01-04 09:10:00')"
      ]
     },
     "execution_count": 857,
     "metadata": {},
     "output_type": "execute_result"
    }
   ],
   "source": [
    "initial_period"
   ]
  },
  {
   "cell_type": "code",
   "execution_count": 858,
   "metadata": {},
   "outputs": [],
   "source": [
    "final_period = trade_data.index[-1]\n",
    "final_period = pd.Timestamp('2016-01-04 10:10:00.00')"
   ]
  },
  {
   "cell_type": "code",
   "execution_count": 859,
   "metadata": {},
   "outputs": [
    {
     "data": {
      "text/plain": [
       "Timestamp('2016-01-04 10:10:00')"
      ]
     },
     "execution_count": 859,
     "metadata": {},
     "output_type": "execute_result"
    }
   ],
   "source": [
    "final_period"
   ]
  },
  {
   "cell_type": "markdown",
   "metadata": {},
   "source": [
    "**Getting quote_data and trade_data in the specified [initial_period, final_period]**"
   ]
  },
  {
   "cell_type": "code",
   "execution_count": 860,
   "metadata": {},
   "outputs": [],
   "source": [
    "mask_quote = (quote_data.index > initial_period) & (quote_data.index <= final_period)\n",
    "reduced_quote_data = quote_data[mask_quote] "
   ]
  },
  {
   "cell_type": "code",
   "execution_count": 861,
   "metadata": {},
   "outputs": [
    {
     "data": {
      "text/plain": [
       "(63760, 40)"
      ]
     },
     "execution_count": 861,
     "metadata": {},
     "output_type": "execute_result"
    }
   ],
   "source": [
    "reduced_quote_data.shape"
   ]
  },
  {
   "cell_type": "code",
   "execution_count": 862,
   "metadata": {},
   "outputs": [],
   "source": [
    "mask_trade = (trade_data.index > initial_period) & (trade_data.index <= final_period)\n",
    "reduced_trade_data = trade_data[mask_trade] "
   ]
  },
  {
   "cell_type": "code",
   "execution_count": 863,
   "metadata": {},
   "outputs": [
    {
     "data": {
      "text/plain": [
       "(3977, 4)"
      ]
     },
     "execution_count": 863,
     "metadata": {},
     "output_type": "execute_result"
    }
   ],
   "source": [
    "reduced_trade_data.shape"
   ]
  },
  {
   "cell_type": "markdown",
   "metadata": {},
   "source": [
    "**Function to find LIMIT ORDER OR (A PRIORI) CANCELLATIONS in the Limit Order Book**"
   ]
  },
  {
   "cell_type": "code",
   "execution_count": 864,
   "metadata": {},
   "outputs": [],
   "source": [
    "def return_changes_between_timestamps(reduced_quote_data):\n",
    "        \n",
    "    reduced_quote_data = reduced_quote_data.apply(pd.to_numeric)\n",
    "    parsed_order_book = reduced_quote_data.diff()\n",
    "    \n",
    "    return parsed_order_book    "
   ]
  },
  {
   "cell_type": "code",
   "execution_count": 865,
   "metadata": {},
   "outputs": [],
   "source": [
    "parsed_order_book = return_changes_between_timestamps(reduced_quote_data)"
   ]
  },
  {
   "cell_type": "code",
   "execution_count": 866,
   "metadata": {},
   "outputs": [],
   "source": [
    "parsed_order_book = parsed_order_book.iloc[1:]"
   ]
  },
  {
   "cell_type": "code",
   "execution_count": 867,
   "metadata": {},
   "outputs": [
    {
     "data": {
      "text/plain": [
       "(63759, 40)"
      ]
     },
     "execution_count": 867,
     "metadata": {},
     "output_type": "execute_result"
    }
   ],
   "source": [
    "parsed_order_book.shape"
   ]
  },
  {
   "cell_type": "code",
   "execution_count": 868,
   "metadata": {},
   "outputs": [],
   "source": [
    "def intersection(lst1, lst2):\n",
    "    lst3 = [value for value in lst1 if value in lst2]\n",
    "    return lst3"
   ]
  },
  {
   "cell_type": "code",
   "execution_count": 869,
   "metadata": {},
   "outputs": [],
   "source": [
    "def classify_changes_parsed_order_book_before_trading_match(reduced_quote_data, parsed_order_book):\n",
    "    \n",
    "    prices_bid_indices = [0,4,8,12,16,20,24,28,32,36]\n",
    "    prices_ask_indices = [2,6,10,14,18,22,26,30,34,38]\n",
    "    volume_bid_indices = [1,5,9,13,17,21,25,29,33,37]\n",
    "    volume_ask_indices = [3,7,11,15,19,23,27,31,35,39]\n",
    "        \n",
    "    columns_names = [\"Timestamp\", \"Level\", \"Side\", \"Price\", \"Quantity\", \"Flow\"]\n",
    "    before_trade_match_order_flow = pd.DataFrame( columns = columns_names)\n",
    "    \n",
    "    number_of_records = parsed_order_book.shape[0]\n",
    "    \n",
    "    ## Analyzing timestamps where only one change took place (one volume column)\n",
    "    for i in range(0, number_of_records):\n",
    "        change_indexes = list(parsed_order_book.iloc[i].to_numpy().nonzero()[0])\n",
    "        if(intersection(change_indexes, (prices_bid_indices + prices_ask_indices)) == []):\n",
    "            for volume_change_column_index in change_indexes:\n",
    "                quantity = parsed_order_book.iloc[i].values[volume_change_column_index]\n",
    "                if volume_change_column_index in volume_bid_indices:\n",
    "                    level = volume_bid_indices.index(volume_change_column_index) + 1\n",
    "                    side = \"BID\"\n",
    "                else:\n",
    "                    level = volume_ask_indices.index(volume_change_column_index) + 1\n",
    "                    side = \"ASK\"\n",
    "                if quantity > 0:\n",
    "                    flow = \"LIMIT ORDER\"\n",
    "                else:\n",
    "                    flow = \"CANCELLATION\"\n",
    "                timestamp = parsed_order_book.iloc[i].name\n",
    "                price = reduced_quote_data.iloc[i+1].values[volume_change_column_index - 1]\n",
    "                to_append = [timestamp, level, side, price, quantity, flow]\n",
    "                to_append_series = pd.Series(to_append, index = before_trade_match_order_flow.columns)\n",
    "                before_trade_match_order_flow  = before_trade_match_order_flow.append(to_append_series, ignore_index = True)\n",
    "        else:\n",
    "            for price_change_column_index in intersection(change_indexes, prices_bid_indices + prices_ask_indices):\n",
    "                if(price_change_column_index in prices_bid_indices):\n",
    "                    level = prices_bid_indices.index(price_change_column_index) + 1\n",
    "                    side = \"BID\"  \n",
    "                else:\n",
    "                    level = prices_ask_indices.index(price_change_column_index) + 1\n",
    "                    side = \"ASK\"\n",
    "                                     \n",
    "                price = reduced_quote_data.iloc[i+1].values[price_change_column_index]\n",
    "   \n",
    "                if(level == 1):\n",
    "                    price_in_line_above_posterior_level = reduced_quote_data.iloc[i].values[price_change_column_index + 4]\n",
    "                    if(float(price) ==  float(price_in_line_above_posterior_level)):\n",
    "                        quantity = float(reduced_quote_data.iloc[i+1].values[price_change_column_index + 1]) - float(reduced_quote_data.iloc[i].values[price_change_column_index + 1 + 4])\n",
    "                        price_in_line_above_same_level = reduced_quote_data.iloc[i].values[price_change_column_index]\n",
    "                        quantity_in_live_above_same_level = float(reduced_quote_data.iloc[i].values[price_change_column_index + 1])\n",
    "                        to_append = [timestamp, level, side, price_in_line_above_same_level, -1*quantity_in_live_above_same_level, \"CANCELLATION\"]\n",
    "                        to_append_series = pd.Series(to_append, index = before_trade_match_order_flow.columns)\n",
    "                        before_trade_match_order_flow  = before_trade_match_order_flow.append(to_append_series, ignore_index = True)\n",
    "                    else:\n",
    "                        quantity = reduced_quote_data.iloc[i+1].values[price_change_column_index + 1]\n",
    "                    quantity = float(quantity)\n",
    "                    \n",
    "                elif(level == 10):\n",
    "                    price_in_line_above_previous_level = reduced_quote_data.iloc[i].values[price_change_column_index - 4]\n",
    "                    if(float(price) ==  float(price_in_line_above_previous_level)):\n",
    "                        quantity = float(reduced_quote_data.iloc[i+1].values[price_change_column_index + 1]) - float(reduced_quote_data.iloc[i].values[price_change_column_index + 1 - 4])\n",
    "                    else:\n",
    "                        if(i >= 1):\n",
    "                            price_in_two_lines_above_same_level =  reduced_quote_data.iloc[i-1].values[price_change_column_index]\n",
    "                            if(float(price) ==  float(price_in_two_lines_above_same_level)):\n",
    "                                quantity = float(reduced_quote_data.iloc[i+1].values[price_change_column_index + 1]) - float(reduced_quote_data.iloc[i-1].values[price_change_column_index + 1])\n",
    "                        else:\n",
    "                            quantity = \"ERROR\"\n",
    "                            flow = \"ERROR\"              \n",
    "                else:\n",
    "                    price_in_line_above_posterior_level = reduced_quote_data.iloc[i].values[price_change_column_index + 4]\n",
    "                    price_in_line_above_previous_level = reduced_quote_data.iloc[i].values[price_change_column_index - 4]\n",
    "                    price_in_line_above_same_level = reduced_quote_data.iloc[i].values[price_change_column_index]\n",
    "                    price_in_same_line_posterior_level = reduced_quote_data.iloc[i+1].values[price_change_column_index + 4]\n",
    "                    if(float(price) ==  float(price_in_line_above_previous_level)):\n",
    "                        quantity = float(reduced_quote_data.iloc[i+1].values[price_change_column_index + 1]) - float(reduced_quote_data.iloc[i].values[price_change_column_index + 1 - 4])\n",
    "                    elif(float(price) ==  float(price_in_line_above_posterior_level)):\n",
    "                        quantity = float(reduced_quote_data.iloc[i+1].values[price_change_column_index + 1]) - float(reduced_quote_data.iloc[i].values[price_change_column_index + 1 + 4])\n",
    "                    \n",
    "                    elif(price_in_line_above_same_level == price_in_same_line_posterior_level):\n",
    "                        quantity = float(reduced_quote_data.iloc[i+1].values[price_change_column_index + 1])\n",
    "                    else:\n",
    "                        quantity = \"ERROR\"\n",
    "                        flow = \"ERROR\"\n",
    "                    \n",
    "                if(quantity != \"ERROR\" and quantity > 0):\n",
    "                    flow = \"LIMIT ORDER\"\n",
    "                if(quantity != \"ERROR\" and  quantity < 0):\n",
    "                    flow = \"CANCELLATION\"\n",
    "                timestamp = parsed_order_book.iloc[i].name\n",
    "                to_append = [timestamp, level, side, price, quantity, flow]\n",
    "                to_append_series = pd.Series(to_append, index = before_trade_match_order_flow.columns)\n",
    "                if(quantity != 0):\n",
    "                    before_trade_match_order_flow  = before_trade_match_order_flow.append(to_append_series, ignore_index = True)\n",
    "                \n",
    "            remaining_change_indexes = list(set(change_indexes) - set(intersection(change_indexes, prices_bid_indices + prices_ask_indices)))\n",
    "            number_of_indexes_volumes_already_checked = len(intersection(change_indexes, prices_bid_indices + prices_ask_indices))\n",
    "            volumes_already_checked_indexes = intersection(change_indexes, prices_bid_indices + prices_ask_indices) + np.ones(number_of_indexes_volumes_already_checked)\n",
    "            remaining_change_indexes = list(set(remaining_change_indexes) - set(volumes_already_checked_indexes))\n",
    "            \n",
    "\n",
    "            for volume_change_column_index in remaining_change_indexes:\n",
    "                quantity = parsed_order_book.iloc[i].values[volume_change_column_index]\n",
    "                if volume_change_column_index in volume_bid_indices:\n",
    "                    level = volume_bid_indices.index(volume_change_column_index) + 1\n",
    "                    side = \"BID\"\n",
    "                else:\n",
    "                    level = volume_ask_indices.index(volume_change_column_index) + 1\n",
    "                    side = \"ASK\"\n",
    "                if quantity > 0:\n",
    "                    flow = \"LIMIT ORDER\"\n",
    "                else:\n",
    "                    flow = \"CANCELLATION\"\n",
    "                timestamp = parsed_order_book.iloc[i].name\n",
    "                price = reduced_quote_data.iloc[i+1].values[volume_change_column_index - 1]\n",
    "                to_append = [timestamp, level, side, price, quantity, flow]\n",
    "                to_append_series = pd.Series(to_append, index = before_trade_match_order_flow.columns)\n",
    "                before_trade_match_order_flow  = before_trade_match_order_flow.append(to_append_series, ignore_index = True)\n",
    "            \n",
    "    return before_trade_match_order_flow    "
   ]
  },
  {
   "cell_type": "code",
   "execution_count": 870,
   "metadata": {},
   "outputs": [],
   "source": [
    "before_trade_match_order_flow = classify_changes_parsed_order_book_before_trading_match(reduced_quote_data, parsed_order_book)"
   ]
  },
  {
   "cell_type": "code",
   "execution_count": 871,
   "metadata": {},
   "outputs": [
    {
     "data": {
      "text/html": [
       "<div>\n",
       "<style scoped>\n",
       "    .dataframe tbody tr th:only-of-type {\n",
       "        vertical-align: middle;\n",
       "    }\n",
       "\n",
       "    .dataframe tbody tr th {\n",
       "        vertical-align: top;\n",
       "    }\n",
       "\n",
       "    .dataframe thead th {\n",
       "        text-align: right;\n",
       "    }\n",
       "</style>\n",
       "<table border=\"1\" class=\"dataframe\">\n",
       "  <thead>\n",
       "    <tr style=\"text-align: right;\">\n",
       "      <th></th>\n",
       "      <th>Timestamp</th>\n",
       "      <th>Level</th>\n",
       "      <th>Side</th>\n",
       "      <th>Price</th>\n",
       "      <th>Quantity</th>\n",
       "      <th>Flow</th>\n",
       "    </tr>\n",
       "  </thead>\n",
       "  <tbody>\n",
       "    <tr>\n",
       "      <th>0</th>\n",
       "      <td>2016-01-04 09:10:00.043</td>\n",
       "      <td>1</td>\n",
       "      <td>ASK</td>\n",
       "      <td>50.95</td>\n",
       "      <td>250.0</td>\n",
       "      <td>LIMIT ORDER</td>\n",
       "    </tr>\n",
       "    <tr>\n",
       "      <th>1</th>\n",
       "      <td>2016-01-04 09:10:00.043</td>\n",
       "      <td>1</td>\n",
       "      <td>BID</td>\n",
       "      <td>50.92</td>\n",
       "      <td>-72.0</td>\n",
       "      <td>CANCELLATION</td>\n",
       "    </tr>\n",
       "    <tr>\n",
       "      <th>2</th>\n",
       "      <td>2016-01-04 09:10:00.043</td>\n",
       "      <td>1</td>\n",
       "      <td>ASK</td>\n",
       "      <td>50.95</td>\n",
       "      <td>-250.0</td>\n",
       "      <td>CANCELLATION</td>\n",
       "    </tr>\n",
       "    <tr>\n",
       "      <th>3</th>\n",
       "      <td>2016-01-04 09:10:00.043</td>\n",
       "      <td>3</td>\n",
       "      <td>BID</td>\n",
       "      <td>50.9</td>\n",
       "      <td>-282.0</td>\n",
       "      <td>CANCELLATION</td>\n",
       "    </tr>\n",
       "    <tr>\n",
       "      <th>4</th>\n",
       "      <td>2016-01-04 09:10:00.043</td>\n",
       "      <td>3</td>\n",
       "      <td>BID</td>\n",
       "      <td>50.9</td>\n",
       "      <td>-100.0</td>\n",
       "      <td>CANCELLATION</td>\n",
       "    </tr>\n",
       "  </tbody>\n",
       "</table>\n",
       "</div>"
      ],
      "text/plain": [
       "                Timestamp Level Side  Price  Quantity          Flow\n",
       "0 2016-01-04 09:10:00.043     1  ASK  50.95     250.0   LIMIT ORDER\n",
       "1 2016-01-04 09:10:00.043     1  BID  50.92     -72.0  CANCELLATION\n",
       "2 2016-01-04 09:10:00.043     1  ASK  50.95    -250.0  CANCELLATION\n",
       "3 2016-01-04 09:10:00.043     3  BID   50.9    -282.0  CANCELLATION\n",
       "4 2016-01-04 09:10:00.043     3  BID   50.9    -100.0  CANCELLATION"
      ]
     },
     "execution_count": 871,
     "metadata": {},
     "output_type": "execute_result"
    }
   ],
   "source": [
    "before_trade_match_order_flow.head()"
   ]
  },
  {
   "cell_type": "code",
   "execution_count": 872,
   "metadata": {},
   "outputs": [
    {
     "data": {
      "text/plain": [
       "(89976, 6)"
      ]
     },
     "execution_count": 872,
     "metadata": {},
     "output_type": "execute_result"
    }
   ],
   "source": [
    "before_trade_match_order_flow.shape"
   ]
  },
  {
   "cell_type": "markdown",
   "metadata": {},
   "source": [
    "**Is there a quote that is classified as an error ?**"
   ]
  },
  {
   "cell_type": "code",
   "execution_count": 873,
   "metadata": {},
   "outputs": [
    {
     "data": {
      "text/html": [
       "<div>\n",
       "<style scoped>\n",
       "    .dataframe tbody tr th:only-of-type {\n",
       "        vertical-align: middle;\n",
       "    }\n",
       "\n",
       "    .dataframe tbody tr th {\n",
       "        vertical-align: top;\n",
       "    }\n",
       "\n",
       "    .dataframe thead th {\n",
       "        text-align: right;\n",
       "    }\n",
       "</style>\n",
       "<table border=\"1\" class=\"dataframe\">\n",
       "  <thead>\n",
       "    <tr style=\"text-align: right;\">\n",
       "      <th></th>\n",
       "      <th>Timestamp</th>\n",
       "      <th>Level</th>\n",
       "      <th>Side</th>\n",
       "      <th>Price</th>\n",
       "      <th>Quantity</th>\n",
       "      <th>Flow</th>\n",
       "    </tr>\n",
       "  </thead>\n",
       "  <tbody>\n",
       "  </tbody>\n",
       "</table>\n",
       "</div>"
      ],
      "text/plain": [
       "Empty DataFrame\n",
       "Columns: [Timestamp, Level, Side, Price, Quantity, Flow]\n",
       "Index: []"
      ]
     },
     "execution_count": 873,
     "metadata": {},
     "output_type": "execute_result"
    }
   ],
   "source": [
    "before_trade_match_order_flow[before_trade_match_order_flow['Flow'] == 'ERROR']"
   ]
  },
  {
   "cell_type": "markdown",
   "metadata": {},
   "source": [
    "## Trying a first match with trade data - Direct matching"
   ]
  },
  {
   "cell_type": "code",
   "execution_count": 874,
   "metadata": {},
   "outputs": [],
   "source": [
    "def direct_trade_match(before_trade_match_order_flow, reduced_trade_data):\n",
    "            \n",
    "    before_trade_match_cancellations = before_trade_match_order_flow[before_trade_match_order_flow[\"Flow\"] == \"CANCELLATION\"]\n",
    "    before_trade_match_cancellations = before_trade_match_cancellations[[\"Timestamp\",\"Price\",\"Quantity\"]]\n",
    "    before_trade_match_cancellations[\"Quantity\"] = -1*before_trade_match_cancellations[\"Quantity\"]\n",
    "    before_trade_match_cancellations = before_trade_match_cancellations.reset_index()\n",
    "    trade_data = reduced_trade_data[[\"price\",\"volume\"]]\n",
    "    trade_data = trade_data.rename(columns = {\"price\":\"Price\", \"volume\":\"Quantity\"})\n",
    "    trade_data = trade_data.reset_index()\n",
    "    trade_data = trade_data.rename(columns = {\"fulldate\":\"Timestamp\"})\n",
    "    before_trade_match_cancellations[[\"Price\", \"Quantity\"]] = before_trade_match_cancellations[[\"Price\", \"Quantity\"]].apply(pd.to_numeric)\n",
    "    trade_data[[\"Price\", \"Quantity\"]] = trade_data[[\"Price\", \"Quantity\"]].apply(pd.to_numeric)\n",
    "    number_of_trades = trade_data.shape[0]\n",
    "    \n",
    "    matched_results_price_quantity = 0\n",
    "    matched_results_price_quantity_timestamp = 0\n",
    "\n",
    "    \n",
    "    ##Direct match Price-Volume\n",
    "    for i in range(0, number_of_trades):\n",
    "        if(list(trade_data[[\"Price\", \"Quantity\"]].iloc[i].values) in list(map(list, list(before_trade_match_cancellations[[\"Price\", \"Quantity\"]].values)))):\n",
    "            matched_results_price_quantity += 1\n",
    "            \n",
    "    ##Direct match Timestamp-Price-Volume\n",
    "    for i in range(0, number_of_trades):\n",
    "        if(list(trade_data[[\"Timestamp\", \"Price\", \"Quantity\"]].iloc[i].values) in list(map(list, list(before_trade_match_cancellations[[\"Timestamp\", \"Price\", \"Quantity\"]].values)))):\n",
    "            matched_results_price_quantity_timestamp += 1\n",
    "                                              \n",
    "    print(f\"Percentage of matched trades only by Price-Volume: {100*(matched_results_price_quantity/number_of_trades):.2f}%\\n\")\n",
    "    print(f\"Percentage of matched trades by Timestamp-Price-Volume: {100*(matched_results_price_quantity_timestamp/number_of_trades):.2f}%\\n\")\n",
    "    "
   ]
  },
  {
   "cell_type": "code",
   "execution_count": 875,
   "metadata": {},
   "outputs": [
    {
     "name": "stdout",
     "output_type": "stream",
     "text": [
      "Percentage of matched trades only by Price-Volume: 99.12%\n",
      "\n",
      "Percentage of matched trades by Timestamp-Price-Volume: 6.01%\n",
      "\n"
     ]
    }
   ],
   "source": [
    "direct_trade_match(before_trade_match_order_flow, reduced_trade_data)"
   ]
  },
  {
   "cell_type": "markdown",
   "metadata": {},
   "source": [
    "## Trying direct match permitting a $\\delta$-lag in timestamp differences (Algorithm 1)"
   ]
  },
  {
   "cell_type": "markdown",
   "metadata": {},
   "source": [
    "**Here we permit that the difference between the timestamps of a market order in the trades file and of a \"cancellation\" in the quotes file to be in the interval $[-\\delta, +\\delta]$.**"
   ]
  },
  {
   "cell_type": "code",
   "execution_count": 1034,
   "metadata": {},
   "outputs": [],
   "source": [
    "def trade_match_with_delta_lag(before_trade_match_order_flow, reduced_trade_data, min_delta, max_delta, number_deltas):    \n",
    "    \n",
    "    delta_vector = np.linspace(min_delta, max_delta, number_deltas).astype(int)\n",
    "    matched_results_price_quantity_timestamp_by_delta_lag = np.zeros(number_deltas)\n",
    "    differences_between_quote_and_trade_timestamps = []\n",
    "    \n",
    "    before_trade_match_cancellations = before_trade_match_order_flow[before_trade_match_order_flow[\"Flow\"] == \"CANCELLATION\"]\n",
    "    before_trade_match_cancellations = before_trade_match_cancellations[[\"Timestamp\",\"Price\",\"Quantity\"]]\n",
    "    before_trade_match_cancellations[\"Quantity\"] = -1*before_trade_match_cancellations[\"Quantity\"]\n",
    "    before_trade_match_cancellations = before_trade_match_cancellations.reset_index()\n",
    "    trade_data = reduced_trade_data[[\"price\",\"volume\"]]\n",
    "    trade_data = trade_data.rename(columns = {\"price\":\"Price\", \"volume\":\"Quantity\"})\n",
    "    trade_data = trade_data.reset_index()\n",
    "    trade_data = trade_data.rename(columns = {\"fulldate\":\"Timestamp\"})\n",
    "    before_trade_match_cancellations[[\"Price\", \"Quantity\"]] = before_trade_match_cancellations[[\"Price\", \"Quantity\"]].apply(pd.to_numeric)\n",
    "    trade_data[[\"Price\", \"Quantity\"]] = trade_data[[\"Price\", \"Quantity\"]].apply(pd.to_numeric)\n",
    "    number_of_trades = trade_data.shape[0]\n",
    "\n",
    "    j = 0\n",
    "    for delta in delta_vector:\n",
    "        trade_data[\"FLAG\"] = \"UNMATCHED\"\n",
    "        trade_data[\"MATCHED INDEX\"] = 0\n",
    "        before_trade_match_cancellations_tmp = before_trade_match_cancellations.copy()\n",
    "        for i in range(0, number_of_trades):\n",
    "            differences_between_timestamps = []\n",
    "            price = trade_data[\"Price\"].iloc[i]\n",
    "            quantity = trade_data[\"Quantity\"].iloc[i]\n",
    "            trade_timestamp = trade_data[\"Timestamp\"].iloc[i]\n",
    "            list_of_matches = before_trade_match_cancellations_tmp[(before_trade_match_cancellations_tmp[\"Price\"] == price) & (before_trade_match_cancellations_tmp[\"Quantity\"] == quantity)]\n",
    "            if(len(list_of_matches) != 0):\n",
    "                timestamps_of_matches = list(list_of_matches[\"Timestamp\"])\n",
    "                for matched_timestamp in timestamps_of_matches:\n",
    "                    differences_between_timestamps.append((trade_timestamp - matched_timestamp).total_seconds()*1000)\n",
    "\n",
    "                absolute_differences_between_timestamps = np.abs(differences_between_timestamps)\n",
    "                minimum_difference = min(absolute_differences_between_timestamps)\n",
    "                \n",
    "                if(minimum_difference <= delta):\n",
    "                    matched_results_price_quantity_timestamp_by_delta_lag[j] += 1\n",
    "                    k = np.argmin(absolute_differences_between_timestamps)\n",
    "                    index_to_drop = list_of_matches.iloc[k][\"index\"]\n",
    "                    before_trade_match_cancellations_tmp.drop(before_trade_match_cancellations_tmp.loc[(before_trade_match_cancellations_tmp['index'] == index_to_drop)].index, inplace = True)\n",
    "                    trade_data.loc[i,\"FLAG\"] = \"MATCHED\"\n",
    "                    trade_data.loc[i,\"MATCHED INDEX\"] = index_to_drop\n",
    "                    differences_between_quote_and_trade_timestamps.append(differences_between_timestamps[k])\n",
    "\n",
    "                    \n",
    "        j += 1\n",
    "        print(f\"Match completed for {j} delta values\")\n",
    "     \n",
    "    print(\"\\n\")\n",
    "    print(\"--------------------------RESULTS--------------------------\\n\\n\")\n",
    "\n",
    "    for i in range(0, number_deltas):\n",
    "        print(f\"Percentage of matched trades by {delta_vector[i]}-ms-LagTimestamp-Price-Volume: {100*(matched_results_price_quantity_timestamp_by_delta_lag[i]/number_of_trades):.2f}%\\n\")\n",
    "     \n",
    "    plt.figure(figsize=(10,8))   \n",
    "    plt.plot(delta_vector,  1 - matched_results_price_quantity_timestamp_by_delta_lag/number_of_trades, label = \"BNPP\", color = 'g')\n",
    "    plt.title(r\"Fraction of Unmatched Trades vs $\\delta$\")\n",
    "    plt.xlabel(r\"$\\delta$\")\n",
    "    plt.ylabel(\"Unmatached Trades Fraction\")\n",
    "    plt.legend()\n",
    "    plt.show()\n",
    "    \n",
    "    return differences_between_quote_and_trade_timestamps, trade_data\n",
    "\n",
    "        "
   ]
  },
  {
   "cell_type": "code",
   "execution_count": 1035,
   "metadata": {
    "scrolled": false
   },
   "outputs": [
    {
     "name": "stdout",
     "output_type": "stream",
     "text": [
      "Match completed for 1 delta values\n",
      "Match completed for 2 delta values\n",
      "Match completed for 3 delta values\n",
      "Match completed for 4 delta values\n",
      "Match completed for 5 delta values\n",
      "Match completed for 6 delta values\n",
      "Match completed for 7 delta values\n",
      "Match completed for 8 delta values\n",
      "Match completed for 9 delta values\n",
      "Match completed for 10 delta values\n",
      "\n",
      "\n",
      "--------------------------RESULTS--------------------------\n",
      "\n",
      "\n",
      "Percentage of matched trades by 0-ms-LagTimestamp-Price-Volume: 5.98%\n",
      "\n",
      "Percentage of matched trades by 22-ms-LagTimestamp-Price-Volume: 88.51%\n",
      "\n",
      "Percentage of matched trades by 44-ms-LagTimestamp-Price-Volume: 95.17%\n",
      "\n",
      "Percentage of matched trades by 66-ms-LagTimestamp-Price-Volume: 95.85%\n",
      "\n",
      "Percentage of matched trades by 88-ms-LagTimestamp-Price-Volume: 96.30%\n",
      "\n",
      "Percentage of matched trades by 111-ms-LagTimestamp-Price-Volume: 96.68%\n",
      "\n",
      "Percentage of matched trades by 133-ms-LagTimestamp-Price-Volume: 96.83%\n",
      "\n",
      "Percentage of matched trades by 155-ms-LagTimestamp-Price-Volume: 96.86%\n",
      "\n",
      "Percentage of matched trades by 177-ms-LagTimestamp-Price-Volume: 96.91%\n",
      "\n",
      "Percentage of matched trades by 200-ms-LagTimestamp-Price-Volume: 96.98%\n",
      "\n"
     ]
    },
    {
     "data": {
      "image/png": "[encoded data removed]",
      "text/plain": [
       "<Figure size 720x576 with 1 Axes>"
      ]
     },
     "metadata": {
      "needs_background": "light"
     },
     "output_type": "display_data"
    }
   ],
   "source": [
    "differences_between_quote_and_trade_timestamps_algo_1, trade_data_flagged_algo_1 = trade_match_with_delta_lag(before_trade_match_order_flow, reduced_trade_data, 0, 200, 10)"
   ]
  },
  {
   "cell_type": "markdown",
   "metadata": {},
   "source": [
    "**Timestamps lag distribution of matched trades - Allgorithm 1**"
   ]
  },
  {
   "cell_type": "code",
   "execution_count": 1036,
   "metadata": {},
   "outputs": [
    {
     "data": {
      "text/plain": [
       "<matplotlib.legend.Legend at 0x7fc213e13810>"
      ]
     },
     "execution_count": 1036,
     "metadata": {},
     "output_type": "execute_result"
    },
    {
     "data": {
      "image/png": "[encoded data removed]",
      "text/plain": [
       "<Figure size 720x576 with 1 Axes>"
      ]
     },
     "metadata": {
      "needs_background": "light"
     },
     "output_type": "display_data"
    }
   ],
   "source": [
    "plt.figure(figsize=(10,8))\n",
    "#plt.hist(differences_between_quote_and_trade_timestamps, bins = 100)\n",
    "sns.kdeplot(data = differences_between_quote_and_trade_timestamps_algo_1, label='kde')\n",
    "plt.title(r\"Timestamps lag distribution - Method I - Permitting a $\\delta-lag$ \")\n",
    "plt.xlabel(r\"$\\delta = \\tau_{q} - \\tau_{t}$\")\n",
    "plt.ylabel(\"Density\")\n",
    "plt.legend(loc = 1, prop={'size': 15})"
   ]
  },
  {
   "cell_type": "markdown",
   "metadata": {},
   "source": [
    "**Price distribtuion of unmatched trades - Algorithm 1**"
   ]
  },
  {
   "cell_type": "code",
   "execution_count": 1037,
   "metadata": {},
   "outputs": [],
   "source": [
    "unmatched_trades_data_algo_1 = trade_data_flagged_algo_1[trade_data_flagged_algo_1['FLAG'] == 'UNMATCHED']"
   ]
  },
  {
   "cell_type": "code",
   "execution_count": 1038,
   "metadata": {},
   "outputs": [
    {
     "data": {
      "text/plain": [
       "120"
      ]
     },
     "execution_count": 1038,
     "metadata": {},
     "output_type": "execute_result"
    }
   ],
   "source": [
    "unmatched_trades_data_algo_1.shape[0]"
   ]
  },
  {
   "cell_type": "code",
   "execution_count": 1039,
   "metadata": {},
   "outputs": [
    {
     "data": {
      "text/plain": [
       "Text(0, 0.5, 'Count')"
      ]
     },
     "execution_count": 1039,
     "metadata": {},
     "output_type": "execute_result"
    },
    {
     "data": {
      "image/png": "[encoded data removed]",
      "text/plain": [
       "<Figure size 720x576 with 1 Axes>"
      ]
     },
     "metadata": {
      "needs_background": "light"
     },
     "output_type": "display_data"
    }
   ],
   "source": [
    "plt.figure(figsize = (10,8))\n",
    "sns.histplot(data = unmatched_trades_data_algo_1['Price'], kde = False)\n",
    "plt.title(r\"Price distribution of unmatched trades \")\n",
    "plt.xlabel(r\"Price\")\n",
    "plt.ylabel(\"Count\")"
   ]
  },
  {
   "cell_type": "markdown",
   "metadata": {},
   "source": [
    "**Timestamp distribtuion of unmatched trades - Algorithm 1**"
   ]
  },
  {
   "cell_type": "code",
   "execution_count": 1040,
   "metadata": {},
   "outputs": [
    {
     "data": {
      "text/plain": [
       "<matplotlib.legend.Legend at 0x7fc1d3814750>"
      ]
     },
     "execution_count": 1040,
     "metadata": {},
     "output_type": "execute_result"
    },
    {
     "data": {
      "image/png": "[encoded data removed]",
      "text/plain": [
       "<Figure size 720x576 with 1 Axes>"
      ]
     },
     "metadata": {
      "needs_background": "light"
     },
     "output_type": "display_data"
    }
   ],
   "source": [
    "plt.figure(figsize = (10,8))\n",
    "sns.histplot(data = unmatched_trades_data_algo_1['Timestamp'], kde = True, label = \"kde\")\n",
    "plt.title(r\"Timestamp distribution of unmatched trades \")\n",
    "plt.xlabel(r\"Price\")\n",
    "plt.ylabel(\"Count\")\n",
    "plt.legend(loc = 1, prop={'size': 15})"
   ]
  },
  {
   "cell_type": "markdown",
   "metadata": {},
   "source": [
    " ## Trying direct match permitting a $\\delta$-lag in timestamp differences with possible aggregation of trades with the same timestamp and same price (Algorithm 2)"
   ]
  },
  {
   "cell_type": "code",
   "execution_count": 1053,
   "metadata": {},
   "outputs": [],
   "source": [
    "def eliminate_inferior_indexes(list_of_trades_same_timestamp_and_price, minimum_index):\n",
    "    list_of_trades_same_timestamp_and_price.drop(list_of_trades_same_timestamp_and_price[list_of_trades_same_timestamp_and_price.index < minimum_index].index, inplace = True)\n",
    "    return list_of_trades_same_timestamp_and_price\n",
    "    "
   ]
  },
  {
   "cell_type": "code",
   "execution_count": 1054,
   "metadata": {},
   "outputs": [],
   "source": [
    "def eliminate_non_consecutive_indices(list_of_trades_same_timestamp_and_price):\n",
    "    number_of_trades = list_of_trades_same_timestamp_and_price.shape[0] \n",
    "    first_index = list_of_trades_same_timestamp_and_price.iloc[0].name\n",
    "    second_index = list_of_trades_same_timestamp_and_price.iloc[1].name\n",
    "    k = 0\n",
    "    while(second_index == first_index + 1):\n",
    "        k += 1\n",
    "        if((k + 1) == number_of_trades):\n",
    "            break\n",
    "        first_index = list_of_trades_same_timestamp_and_price.iloc[k].name\n",
    "        second_index = list_of_trades_same_timestamp_and_price.iloc[k+1].name\n",
    "        \n",
    "        \n",
    "    return list_of_trades_same_timestamp_and_price.head(k+1)   "
   ]
  },
  {
   "cell_type": "code",
   "execution_count": 1055,
   "metadata": {},
   "outputs": [],
   "source": [
    "def generate_agregated_dataframes(list_of_trades_with_same_timestamp_and_price, maximum_block_size):\n",
    "    aggregated_data_frames = []\n",
    "    if(maximum_block_size >= list_of_trades_with_same_timestamp_and_price.shape[0]):\n",
    "        maximum_block_size = list_of_trades_with_same_timestamp_and_price.shape[0]\n",
    "        \n",
    "    number_of_trades_to_aggregate = list_of_trades_with_same_timestamp_and_price.shape[0]\n",
    "    columns_names = list_of_trades_with_same_timestamp_and_price.columns\n",
    "    list_of_trades_with_same_timestamp_and_price = list_of_trades_with_same_timestamp_and_price.reset_index()\n",
    "    \n",
    "    list_of_trades_with_same_timestamp_and_price[\"Used Number of Trades\"] = 1\n",
    "    \n",
    "    list_of_trades_with_same_timestamp_and_price['Used Indexes'] = 0\n",
    "    list_of_trades_with_same_timestamp_and_price['Used Indexes'] = list_of_trades_with_same_timestamp_and_price['Used Indexes'].astype(object)\n",
    "    \n",
    "    for i in range(0, number_of_trades_to_aggregate):\n",
    "        list_of_trades_with_same_timestamp_and_price.at[i, \"Used Indexes\"] = [list_of_trades_with_same_timestamp_and_price.loc[i, \"index\"]]\n",
    "        \n",
    "    \n",
    "    for i in range(0, maximum_block_size):\n",
    "        if i == 0:\n",
    "            aggregated_data_frames.append(list_of_trades_with_same_timestamp_and_price)   \n",
    "        else:\n",
    "            for j in range(0, number_of_trades_to_aggregate - i):\n",
    "                new_list = list_of_trades_with_same_timestamp_and_price.copy()\n",
    "                used_indexes_to_aggregate = []\n",
    "                used_indexes_to_aggregate.append(new_list.loc[j, \"index\"])\n",
    "                for k in range(1,i+1):\n",
    "                    new_list.loc[j, \"Quantity\"] = new_list.loc[j, \"Quantity\"] + new_list.loc[j + k, \"Quantity\"]\n",
    "                    used_indexes_to_aggregate.append(new_list.loc[j + k, \"index\"])\n",
    "                    new_list.drop(labels = j + k, inplace = True)\n",
    "                new_list.loc[j, \"Used Number of Trades\"] = int(i + 1)\n",
    "                new_list.at[j, \"Used Indexes\"] = used_indexes_to_aggregate\n",
    "                \n",
    "                aggregated_data_frames.append(new_list)\n",
    "                \n",
    "    return aggregated_data_frames"
   ]
  },
  {
   "cell_type": "code",
   "execution_count": 1057,
   "metadata": {},
   "outputs": [],
   "source": [
    "def trade_match_with_delta_lag_and_aggregation_timestamp_and_price(before_trade_match_order_flow, reduced_trade_data, min_delta, max_delta, number_deltas, maximum_block_size, print_option):    \n",
    "    \n",
    "    delta_vector = np.linspace(min_delta, max_delta, number_deltas).astype(int)\n",
    "    matched_results_price_quantity_timestamp_by_delta_lag = np.zeros(number_deltas)\n",
    "    differences_between_quote_and_trade_timestamps = []\n",
    "    \n",
    "    before_trade_match_cancellations = before_trade_match_order_flow[before_trade_match_order_flow[\"Flow\"] == \"CANCELLATION\"]\n",
    "    before_trade_match_cancellations = before_trade_match_cancellations[[\"Timestamp\",\"Price\",\"Quantity\"]]\n",
    "    before_trade_match_cancellations[\"Quantity\"] = -1*before_trade_match_cancellations[\"Quantity\"]\n",
    "    before_trade_match_cancellations = before_trade_match_cancellations.reset_index()\n",
    "    trade_data = reduced_trade_data[[\"price\",\"volume\"]]\n",
    "    trade_data = trade_data.rename(columns = {\"price\":\"Price\", \"volume\":\"Quantity\"})\n",
    "    trade_data = trade_data.reset_index()\n",
    "    trade_data = trade_data.rename(columns = {\"fulldate\":\"Timestamp\"})\n",
    "    before_trade_match_cancellations[[\"Price\", \"Quantity\"]] = before_trade_match_cancellations[[\"Price\", \"Quantity\"]].apply(pd.to_numeric)\n",
    "    trade_data[[\"Price\", \"Quantity\"]] = trade_data[[\"Price\", \"Quantity\"]].apply(pd.to_numeric)\n",
    "    number_of_trades = trade_data.shape[0]\n",
    "    \n",
    "    \n",
    "    d = 0\n",
    "    for delta in delta_vector:\n",
    "        before_trade_match_cancellations_tmp = before_trade_match_cancellations.copy()\n",
    "        trade_data[\"FLAG\"] = \"UNMATCHED\"\n",
    "        trade_data[\"MATCHED INDEX\"] = 0\n",
    "        for i in range(0, number_of_trades):\n",
    "            if(trade_data[\"FLAG\"].iloc[i] == \"UNMATCHED\"):\n",
    "                price = trade_data[\"Price\"].iloc[i]\n",
    "                quantity = trade_data[\"Quantity\"].iloc[i]\n",
    "                trade_timestamp = trade_data[\"Timestamp\"].iloc[i]\n",
    "                list_of_trades_with_same_timestamp_and_price = trade_data[(trade_data['Timestamp'] == trade_timestamp) & (trade_data['Price'] == price) & (trade_data['FLAG'] == \"UNMATCHED\")]\n",
    "                list_of_trades_with_same_timestamp_and_price = eliminate_inferior_indexes(list_of_trades_with_same_timestamp_and_price, i)\n",
    "                if(len(list_of_trades_with_same_timestamp_and_price) > 1):\n",
    "                    list_of_trades_with_same_timestamp_and_price = eliminate_non_consecutive_indices(list_of_trades_with_same_timestamp_and_price)\n",
    "                list_of_aggregated_dataframes = generate_agregated_dataframes(list_of_trades_with_same_timestamp_and_price, maximum_block_size)\n",
    "                number_of_aggregated_data_frames = len(list_of_aggregated_dataframes)\n",
    "                number_of_matches_per_aggregation = np.zeros(number_of_aggregated_data_frames)\n",
    "                indexes_to_drop_per_aggregation =  []\n",
    "                indexes_of_matched_trades = []\n",
    "                j = 0\n",
    "                for aggregated_trades_dataframe in list_of_aggregated_dataframes:\n",
    "                    indexes_to_drop_for_this_aggregation = []\n",
    "                    indexes_of_matched_trades_for_this_aggregation = []\n",
    "                    before_trade_match_cancellations_tmp_2 = before_trade_match_cancellations_tmp.copy()\n",
    "                    number_of_aggregated_trades = aggregated_trades_dataframe.shape[0]\n",
    "                    for t_1 in range(0, number_of_aggregated_trades):\n",
    "                        list_of_matches = pd.DataFrame(data = [], columns = before_trade_match_cancellations.columns)\n",
    "                        differences_between_timestamps = []\n",
    "                        price_t_1 = aggregated_trades_dataframe.iloc[t_1][\"Price\"]\n",
    "                        quantity_t_1 = aggregated_trades_dataframe.iloc[t_1][\"Quantity\"]\n",
    "                        index_t_1 = aggregated_trades_dataframe.iloc[t_1][\"Used Indexes\"]\n",
    "                        list_of_matches = list_of_matches.append(before_trade_match_cancellations_tmp_2[(before_trade_match_cancellations_tmp_2[\"Price\"] == price_t_1) & (before_trade_match_cancellations_tmp_2[\"Quantity\"] == quantity_t_1)], ignore_index = True)\n",
    "                        number_of_matches = len(list_of_matches)\n",
    "                        if(number_of_matches != 0):\n",
    "                            for t_2 in range(0, number_of_matches):\n",
    "                                matched_timestamp = list_of_matches.iloc[t_2][\"Timestamp\"]\n",
    "                                differences_between_timestamps.append((trade_timestamp - matched_timestamp).total_seconds()*1000)\n",
    "                            absolute_differences_between_timestamps = np.abs(differences_between_timestamps)\n",
    "                            minimum_difference = min(absolute_differences_between_timestamps)\n",
    "                            if(minimum_difference <= delta):\n",
    "                                number_of_matches_per_aggregation[j] += aggregated_trades_dataframe.iloc[t_1][\"Used Number of Trades\"]\n",
    "                                k = np.argmin(absolute_differences_between_timestamps)\n",
    "                                differences_between_quote_and_trade_timestamps.append(differences_between_timestamps[k])\n",
    "                                index_to_drop = list_of_matches.iloc[k][\"index\"]\n",
    "                                indexes_to_drop_for_this_aggregation.append(index_to_drop)\n",
    "                                for used_trade_index in index_t_1: \n",
    "                                    indexes_of_matched_trades_for_this_aggregation.append(used_trade_index)\n",
    "                                    trade_data.loc[used_trade_index, \"MATCHED INDEX\"] = index_to_drop\n",
    "                                before_trade_match_cancellations_tmp_2.drop(before_trade_match_cancellations_tmp_2.loc[(before_trade_match_cancellations_tmp_2['index'] == index_to_drop)].index, inplace = True)\n",
    "                    indexes_to_drop_per_aggregation.append(indexes_to_drop_for_this_aggregation)\n",
    "                    indexes_of_matched_trades.append(indexes_of_matched_trades_for_this_aggregation)\n",
    "                    j += 1\n",
    "                \n",
    "                optimal_aggregation_index = np.argmax(number_of_matches_per_aggregation)\n",
    "                ##if(optimal_aggregation_index != 0):\n",
    "                ##    print(optimal_aggregation_index)\n",
    "                final_indexes_to_drop = indexes_to_drop_per_aggregation[optimal_aggregation_index]\n",
    "                final_trades_to_match = indexes_of_matched_trades[optimal_aggregation_index]\n",
    "\n",
    "                \n",
    "                for index_to_drop_from_original_data in final_indexes_to_drop:\n",
    "                    before_trade_match_cancellations_tmp.drop(before_trade_match_cancellations_tmp.loc[(before_trade_match_cancellations_tmp['index'] == index_to_drop_from_original_data)].index, inplace = True)\n",
    "                                     \n",
    "                for matched_trade_index in final_trades_to_match:\n",
    "                    trade_data.loc[matched_trade_index,\"FLAG\"] = \"MATCHED\"\n",
    "                    \n",
    "        matched_results_price_quantity_timestamp_by_delta_lag[d] =  int(trade_data[trade_data[\"FLAG\"] == \"MATCHED\"].shape[0])\n",
    "        \n",
    "        d += 1\n",
    "        \n",
    "\n",
    "        if(print_option == 1):\n",
    "            print(f\"Match completed for {d} delta values\")\n",
    "            \n",
    "    if(print_option == 1): \n",
    "        print(\"\\n\")\n",
    "        print(\"--------------------------RESULTS--------------------------\\n\\n\")\n",
    "\n",
    "        for i in range(0, number_deltas):\n",
    "            print(f\"Percentage of matched trades by {delta_vector[i]}-ms-LagTimestamp-Price-Volume: {100*(matched_results_price_quantity_timestamp_by_delta_lag[i]/number_of_trades):.2f}%\\n\")\n",
    "     \n",
    "        plt.figure(figsize=(10,8))   \n",
    "        plt.plot(delta_vector,  1 - matched_results_price_quantity_timestamp_by_delta_lag/number_of_trades, label = \"BNPP\", color = 'g')\n",
    "        plt.title(r\"Fraction of Unmatched Trades vs $\\delta$\")\n",
    "        plt.xlabel(r\"$\\delta$\")\n",
    "        plt.ylabel(\"Unmatached Trades Fraction\")\n",
    "        plt.legend()\n",
    "        plt.show()\n",
    "    \n",
    "    final_unmatched_percent = 1 - (matched_results_price_quantity_timestamp_by_delta_lag[-1]/number_of_trades)\n",
    "    \n",
    "    return  differences_between_quote_and_trade_timestamps, trade_data, final_unmatched_percent"
   ]
  },
  {
   "cell_type": "code",
   "execution_count": 1059,
   "metadata": {
    "scrolled": false
   },
   "outputs": [
    {
     "name": "stderr",
     "output_type": "stream",
     "text": [
      "/Users/felipemoret/.local/lib/python3.7/site-packages/pandas/core/frame.py:4913: SettingWithCopyWarning: \n",
      "A value is trying to be set on a copy of a slice from a DataFrame\n",
      "\n",
      "See the caveats in the documentation: https://pandas.pydata.org/pandas-docs/stable/user_guide/indexing.html#returning-a-view-versus-a-copy\n",
      "  errors=errors,\n"
     ]
    },
    {
     "name": "stdout",
     "output_type": "stream",
     "text": [
      "Match completed for 1 delta values\n",
      "\n",
      "\n",
      "--------------------------RESULTS--------------------------\n",
      "\n",
      "\n",
      "Percentage of matched trades by 0-ms-LagTimestamp-Price-Volume: 5.98%\n",
      "\n"
     ]
    },
    {
     "data": {
      "image/png": "[encoded data removed]",
      "text/plain": [
       "<Figure size 720x576 with 1 Axes>"
      ]
     },
     "metadata": {
      "needs_background": "light"
     },
     "output_type": "display_data"
    }
   ],
   "source": [
    "differences_between_quote_and_trade_timestamps_algo_2, trade_data_flagged_algo_2, final_unmatched_percent_algo2 = trade_match_with_delta_lag_and_aggregation_timestamp_and_price(before_trade_match_order_flow, reduced_trade_data, 0, 0, 1, 1, 1)\n"
   ]
  },
  {
   "cell_type": "markdown",
   "metadata": {},
   "source": [
    "****Timestamps lag distribution of matched trades - Algorithm 2****"
   ]
  },
  {
   "cell_type": "code",
   "execution_count": 904,
   "metadata": {},
   "outputs": [
    {
     "data": {
      "text/plain": [
       "<matplotlib.legend.Legend at 0x7fc215181190>"
      ]
     },
     "execution_count": 904,
     "metadata": {},
     "output_type": "execute_result"
    },
    {
     "data": {
      "image/png": "[encoded data removed]",
      "text/plain": [
       "<Figure size 720x576 with 1 Axes>"
      ]
     },
     "metadata": {
      "needs_background": "light"
     },
     "output_type": "display_data"
    }
   ],
   "source": [
    "plt.figure(figsize=(10,8))\n",
    "#plt.hist(differences_between_quote_and_trade_timestamps, bins = 100)\n",
    "sns.kdeplot(data = differences_between_quote_and_trade_timestamps_algo_2, label='kde')\n",
    "plt.title(r\"Timestamps lag distribution - Method I - Permitting a $\\delta-lag$ \")\n",
    "plt.xlabel(r\"$\\delta = \\tau_{q} - \\tau_{t}$\")\n",
    "plt.ylabel(\"Density\")\n",
    "plt.legend(loc = 1, prop={'size': 15})"
   ]
  },
  {
   "cell_type": "markdown",
   "metadata": {},
   "source": [
    "**Price distribtuion of unmatched trades - Algorithm 2**"
   ]
  },
  {
   "cell_type": "code",
   "execution_count": 946,
   "metadata": {},
   "outputs": [],
   "source": [
    "unmatched_trades_data_algo_2 = trade_data_flagged_algo_2[trade_data_flagged_algo_2['FLAG'] == 'UNMATCHED']"
   ]
  },
  {
   "cell_type": "code",
   "execution_count": 947,
   "metadata": {},
   "outputs": [
    {
     "data": {
      "text/plain": [
       "3740"
      ]
     },
     "execution_count": 947,
     "metadata": {},
     "output_type": "execute_result"
    }
   ],
   "source": [
    "unmatched_trades_data_algo_2.shape[0]"
   ]
  },
  {
   "cell_type": "code",
   "execution_count": 907,
   "metadata": {},
   "outputs": [
    {
     "data": {
      "text/plain": [
       "Text(0, 0.5, 'Count')"
      ]
     },
     "execution_count": 907,
     "metadata": {},
     "output_type": "execute_result"
    },
    {
     "data": {
      "image/png": "[encoded data removed]",
      "text/plain": [
       "<Figure size 720x576 with 1 Axes>"
      ]
     },
     "metadata": {
      "needs_background": "light"
     },
     "output_type": "display_data"
    }
   ],
   "source": [
    "plt.figure(figsize = (10,8))\n",
    "sns.histplot(data = unmatched_trades_data_algo_2['Price'], kde = False)\n",
    "plt.title(r\"Price distribution of unmatched trades \")\n",
    "plt.xlabel(r\"Price\")\n",
    "plt.ylabel(\"Count\")"
   ]
  },
  {
   "cell_type": "markdown",
   "metadata": {},
   "source": [
    "**Timestamp distribtuion of unmatched trades - Algorithm 2**"
   ]
  },
  {
   "cell_type": "code",
   "execution_count": 908,
   "metadata": {},
   "outputs": [
    {
     "data": {
      "text/plain": [
       "<matplotlib.legend.Legend at 0x7fc1dd272050>"
      ]
     },
     "execution_count": 908,
     "metadata": {},
     "output_type": "execute_result"
    },
    {
     "data": {
      "image/png": "[encoded data removed]",
      "text/plain": [
       "<Figure size 720x576 with 1 Axes>"
      ]
     },
     "metadata": {
      "needs_background": "light"
     },
     "output_type": "display_data"
    }
   ],
   "source": [
    "plt.figure(figsize = (10,8))\n",
    "sns.histplot(data = unmatched_trades_data_algo_2['Timestamp'], kde = True, label = \"kde\")\n",
    "plt.title(r\"Timestamp distribution of unmatched trades \")\n",
    "plt.xlabel(r\"Price\")\n",
    "plt.ylabel(\"Count\")\n",
    "plt.legend(loc = 1, prop={'size': 15})"
   ]
  },
  {
   "cell_type": "markdown",
   "metadata": {},
   "source": [
    "## What is the intersection between the unmatched trades of Algo 1 and Algo 2 ? And the difference ?"
   ]
  },
  {
   "cell_type": "code",
   "execution_count": 950,
   "metadata": {},
   "outputs": [
    {
     "data": {
      "text/plain": [
       "3739"
      ]
     },
     "execution_count": 950,
     "metadata": {},
     "output_type": "execute_result"
    }
   ],
   "source": [
    "unmatched_trades_data_algo_1.shape[0]"
   ]
  },
  {
   "cell_type": "code",
   "execution_count": 951,
   "metadata": {},
   "outputs": [
    {
     "data": {
      "text/plain": [
       "3740"
      ]
     },
     "execution_count": 951,
     "metadata": {},
     "output_type": "execute_result"
    }
   ],
   "source": [
    "unmatched_trades_data_algo_2.shape[0]"
   ]
  },
  {
   "cell_type": "markdown",
   "metadata": {},
   "source": [
    "**How many unmatched trades of the algorithm 2 is included in the unmatched trades of algorithm 1 ?**"
   ]
  },
  {
   "cell_type": "code",
   "execution_count": 948,
   "metadata": {},
   "outputs": [],
   "source": [
    "indexes_unmatched_trades_algo_1 = list(unmatched_trades_data_algo_1.index)"
   ]
  },
  {
   "cell_type": "code",
   "execution_count": 949,
   "metadata": {},
   "outputs": [],
   "source": [
    "indexes_unmatched_trades_algo_2 = list(unmatched_trades_data_algo_2.index)"
   ]
  },
  {
   "cell_type": "code",
   "execution_count": 952,
   "metadata": {},
   "outputs": [
    {
     "data": {
      "text/plain": [
       "[92]"
      ]
     },
     "execution_count": 952,
     "metadata": {},
     "output_type": "execute_result"
    }
   ],
   "source": [
    "list(set(indexes_unmatched_trades_algo_2) - set(indexes_unmatched_trades_algo_1))"
   ]
  },
  {
   "cell_type": "markdown",
   "metadata": {},
   "source": [
    "## Fraction of Unmatched Trades vs Maximum Size of Aggregation Block $N_{b}$"
   ]
  },
  {
   "cell_type": "code",
   "execution_count": 1051,
   "metadata": {},
   "outputs": [
    {
     "name": "stdout",
     "output_type": "stream",
     "text": [
      "1\n",
      "9\n",
      "1\n",
      "1\n",
      "9\n",
      "1\n",
      "7\n",
      "1\n",
      "9\n",
      "1\n",
      "7\n",
      "1\n",
      "9\n",
      "1\n",
      "7\n",
      "1\n",
      "9\n",
      "1\n",
      "7\n",
      "1\n",
      "9\n",
      "1\n",
      "7\n",
      "1\n",
      "9\n",
      "1\n",
      "7\n",
      "1\n",
      "9\n",
      "1\n",
      "7\n",
      "1\n",
      "9\n",
      "1\n",
      "7\n"
     ]
    }
   ],
   "source": [
    "final_unmatched_percents = []\n",
    "maximum_block_sizes_vector = np.arange(1,11)\n",
    "for maximum_block_size in maximum_block_sizes_vector:\n",
    "    _, _, final_unmatched_percent = trade_match_with_delta_lag_and_aggregation_timestamp_and_price(before_trade_match_order_flow, reduced_trade_data, 200, 200, 1, maximum_block_size, 0)\n",
    "    final_unmatched_percents.append(final_unmatched_percent)\n",
    "final_unmatched_percents = 100*np.array(final_unmatched_percents)\n",
    "        "
   ]
  },
  {
   "cell_type": "code",
   "execution_count": 1052,
   "metadata": {},
   "outputs": [
    {
     "data": {
      "image/png": "[encoded data removed]",
      "text/plain": [
       "<Figure size 720x576 with 1 Axes>"
      ]
     },
     "metadata": {
      "needs_background": "light"
     },
     "output_type": "display_data"
    }
   ],
   "source": [
    "plt.figure(figsize=(10,8))\n",
    "plt.plot(maximum_block_sizes_vector, final_unmatched_percents)  \n",
    "plt.title(r\"Fraction of Unmatched Trades vs Aggegration Block Size ($N_{b})$\")\n",
    "plt.xlabel(r\"$N_{b}$\")\n",
    "plt.ylabel(\"Unmatached Trades Fraction\")\n",
    "plt.show()"
   ]
  },
  {
   "cell_type": "code",
   "execution_count": null,
   "metadata": {},
   "outputs": [],
   "source": []
  },
  {
   "cell_type": "code",
   "execution_count": null,
   "metadata": {},
   "outputs": [],
   "source": []
  },
  {
   "cell_type": "code",
   "execution_count": null,
   "metadata": {},
   "outputs": [],
   "source": []
  },
  {
   "cell_type": "code",
   "execution_count": null,
   "metadata": {},
   "outputs": [],
   "source": []
  },
  {
   "cell_type": "code",
   "execution_count": null,
   "metadata": {},
   "outputs": [],
   "source": []
  },
  {
   "cell_type": "code",
   "execution_count": 592,
   "metadata": {},
   "outputs": [],
   "source": []
  },
  {
   "cell_type": "code",
   "execution_count": null,
   "metadata": {},
   "outputs": [],
   "source": []
  },
  {
   "cell_type": "code",
   "execution_count": null,
   "metadata": {},
   "outputs": [],
   "source": []
  },
  {
   "cell_type": "code",
   "execution_count": null,
   "metadata": {},
   "outputs": [],
   "source": []
  },
  {
   "cell_type": "code",
   "execution_count": null,
   "metadata": {},
   "outputs": [],
   "source": []
  },
  {
   "cell_type": "code",
   "execution_count": null,
   "metadata": {},
   "outputs": [],
   "source": []
  },
  {
   "cell_type": "code",
   "execution_count": null,
   "metadata": {},
   "outputs": [],
   "source": []
  },
  {
   "cell_type": "code",
   "execution_count": null,
   "metadata": {},
   "outputs": [],
   "source": []
  },
  {
   "cell_type": "code",
   "execution_count": null,
   "metadata": {},
   "outputs": [],
   "source": []
  },
  {
   "cell_type": "code",
   "execution_count": null,
   "metadata": {},
   "outputs": [],
   "source": []
  },
  {
   "cell_type": "code",
   "execution_count": null,
   "metadata": {},
   "outputs": [],
   "source": []
  },
  {
   "cell_type": "code",
   "execution_count": null,
   "metadata": {},
   "outputs": [],
   "source": []
  },
  {
   "cell_type": "code",
   "execution_count": null,
   "metadata": {},
   "outputs": [],
   "source": []
  },
  {
   "cell_type": "code",
   "execution_count": null,
   "metadata": {},
   "outputs": [],
   "source": []
  },
  {
   "cell_type": "code",
   "execution_count": null,
   "metadata": {},
   "outputs": [],
   "source": []
  },
  {
   "cell_type": "code",
   "execution_count": null,
   "metadata": {},
   "outputs": [],
   "source": []
  },
  {
   "cell_type": "code",
   "execution_count": null,
   "metadata": {},
   "outputs": [],
   "source": []
  }
 ],
 "metadata": {
  "kernelspec": {
   "display_name": "Python 3",
   "language": "python",
   "name": "python3"
  },
  "language_info": {
   "codemirror_mode": {
    "name": "ipython",
    "version": 3
   },
   "file_extension": ".py",
   "mimetype": "text/x-python",
   "name": "python",
   "nbconvert_exporter": "python",
   "pygments_lexer": "ipython3",
   "version": "3.7.6"
  }
 },
 "nbformat": 4,
 "nbformat_minor": 4
}
