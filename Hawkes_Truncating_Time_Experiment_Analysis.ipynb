{
 "cells": [
  {
   "cell_type": "code",
   "execution_count": 131,
   "metadata": {},
   "outputs": [],
   "source": [
    "import pandas as pd\n",
    "import datetime as dt\n",
    "import numpy as np\n",
    "import matplotlib.pyplot as plt\n",
    "\n",
    "pd.set_option('display.max_columns', None)\n",
    "pd.set_option('display.max_rows', None)"
   ]
  },
  {
   "cell_type": "markdown",
   "metadata": {},
   "source": [
    "**Obtaning Results for Both Methods - Whittle and MLE**"
   ]
  },
  {
   "cell_type": "code",
   "execution_count": 132,
   "metadata": {},
   "outputs": [],
   "source": [
    "results_both_methods = pd.read_csv(\"results_both.csv\")"
   ]
  },
  {
   "cell_type": "code",
   "execution_count": 133,
   "metadata": {},
   "outputs": [],
   "source": [
    "hawkes_whittle_data_experiment = results_both_methods[results_both_methods[\"Estimation Method\"] == \"whittle\"]"
   ]
  },
  {
   "cell_type": "code",
   "execution_count": 134,
   "metadata": {},
   "outputs": [],
   "source": [
    "hawkes_mle_data_experiment = results_both_methods[results_both_methods[\"Estimation Method\"] == \"mle\"]"
   ]
  },
  {
   "cell_type": "markdown",
   "metadata": {},
   "source": [
    "**Shape of the data**"
   ]
  },
  {
   "cell_type": "code",
   "execution_count": 135,
   "metadata": {},
   "outputs": [
    {
     "data": {
      "text/plain": [
       "(100, 14)"
      ]
     },
     "execution_count": 135,
     "metadata": {},
     "output_type": "execute_result"
    }
   ],
   "source": [
    "hawkes_whittle_data_experiment.shape"
   ]
  },
  {
   "cell_type": "code",
   "execution_count": 136,
   "metadata": {},
   "outputs": [
    {
     "data": {
      "text/plain": [
       "(100, 14)"
      ]
     },
     "execution_count": 136,
     "metadata": {},
     "output_type": "execute_result"
    }
   ],
   "source": [
    "hawkes_mle_data_experiment.shape"
   ]
  },
  {
   "cell_type": "markdown",
   "metadata": {},
   "source": [
    "**Type of the data**"
   ]
  },
  {
   "cell_type": "code",
   "execution_count": 137,
   "metadata": {},
   "outputs": [
    {
     "data": {
      "text/html": [
       "<div>\n",
       "<style scoped>\n",
       "    .dataframe tbody tr th:only-of-type {\n",
       "        vertical-align: middle;\n",
       "    }\n",
       "\n",
       "    .dataframe tbody tr th {\n",
       "        vertical-align: top;\n",
       "    }\n",
       "\n",
       "    .dataframe thead th {\n",
       "        text-align: right;\n",
       "    }\n",
       "</style>\n",
       "<table border=\"1\" class=\"dataframe\">\n",
       "  <thead>\n",
       "    <tr style=\"text-align: right;\">\n",
       "      <th></th>\n",
       "      <th>Test Index</th>\n",
       "      <th>Simulation Index</th>\n",
       "      <th>Real Alpha</th>\n",
       "      <th>Real Beta</th>\n",
       "      <th>Real Baseline</th>\n",
       "      <th>Real Endogeneity</th>\n",
       "      <th>Delta</th>\n",
       "      <th>Estimated Alpha</th>\n",
       "      <th>Estimated Beta</th>\n",
       "      <th>Estimated Baseline</th>\n",
       "      <th>Estimated Endogeneity</th>\n",
       "      <th>Duplicates</th>\n",
       "      <th>Estimation Method</th>\n",
       "      <th>Initial Estimation Point</th>\n",
       "    </tr>\n",
       "  </thead>\n",
       "  <tbody>\n",
       "    <tr>\n",
       "      <th>1</th>\n",
       "      <td>1</td>\n",
       "      <td>1</td>\n",
       "      <td>0.5</td>\n",
       "      <td>1.5</td>\n",
       "      <td>1</td>\n",
       "      <td>0.333333</td>\n",
       "      <td>0.00</td>\n",
       "      <td>0.572613</td>\n",
       "      <td>1.251407</td>\n",
       "      <td>0.900538</td>\n",
       "      <td>0.457575</td>\n",
       "      <td>randomize</td>\n",
       "      <td>whittle</td>\n",
       "      <td>original_parameters</td>\n",
       "    </tr>\n",
       "    <tr>\n",
       "      <th>3</th>\n",
       "      <td>1</td>\n",
       "      <td>1</td>\n",
       "      <td>0.5</td>\n",
       "      <td>1.5</td>\n",
       "      <td>1</td>\n",
       "      <td>0.333333</td>\n",
       "      <td>0.01</td>\n",
       "      <td>0.558815</td>\n",
       "      <td>1.709045</td>\n",
       "      <td>2.227156</td>\n",
       "      <td>0.326975</td>\n",
       "      <td>randomize</td>\n",
       "      <td>whittle</td>\n",
       "      <td>original_parameters</td>\n",
       "    </tr>\n",
       "    <tr>\n",
       "      <th>5</th>\n",
       "      <td>1</td>\n",
       "      <td>1</td>\n",
       "      <td>0.5</td>\n",
       "      <td>1.5</td>\n",
       "      <td>1</td>\n",
       "      <td>0.333333</td>\n",
       "      <td>0.02</td>\n",
       "      <td>0.664213</td>\n",
       "      <td>4.868210</td>\n",
       "      <td>1.488549</td>\n",
       "      <td>0.136439</td>\n",
       "      <td>randomize</td>\n",
       "      <td>whittle</td>\n",
       "      <td>original_parameters</td>\n",
       "    </tr>\n",
       "    <tr>\n",
       "      <th>7</th>\n",
       "      <td>1</td>\n",
       "      <td>1</td>\n",
       "      <td>0.5</td>\n",
       "      <td>1.5</td>\n",
       "      <td>1</td>\n",
       "      <td>0.333333</td>\n",
       "      <td>0.03</td>\n",
       "      <td>0.922158</td>\n",
       "      <td>22.710082</td>\n",
       "      <td>0.029876</td>\n",
       "      <td>0.040606</td>\n",
       "      <td>randomize</td>\n",
       "      <td>whittle</td>\n",
       "      <td>original_parameters</td>\n",
       "    </tr>\n",
       "    <tr>\n",
       "      <th>9</th>\n",
       "      <td>1</td>\n",
       "      <td>1</td>\n",
       "      <td>0.5</td>\n",
       "      <td>1.5</td>\n",
       "      <td>1</td>\n",
       "      <td>0.333333</td>\n",
       "      <td>0.04</td>\n",
       "      <td>0.919518</td>\n",
       "      <td>26.309134</td>\n",
       "      <td>0.039419</td>\n",
       "      <td>0.034951</td>\n",
       "      <td>randomize</td>\n",
       "      <td>whittle</td>\n",
       "      <td>original_parameters</td>\n",
       "    </tr>\n",
       "  </tbody>\n",
       "</table>\n",
       "</div>"
      ],
      "text/plain": [
       "   Test Index  Simulation Index  Real Alpha  Real Beta  Real Baseline  \\\n",
       "1           1                 1         0.5        1.5              1   \n",
       "3           1                 1         0.5        1.5              1   \n",
       "5           1                 1         0.5        1.5              1   \n",
       "7           1                 1         0.5        1.5              1   \n",
       "9           1                 1         0.5        1.5              1   \n",
       "\n",
       "   Real Endogeneity  Delta  Estimated Alpha  Estimated Beta  \\\n",
       "1          0.333333   0.00         0.572613        1.251407   \n",
       "3          0.333333   0.01         0.558815        1.709045   \n",
       "5          0.333333   0.02         0.664213        4.868210   \n",
       "7          0.333333   0.03         0.922158       22.710082   \n",
       "9          0.333333   0.04         0.919518       26.309134   \n",
       "\n",
       "   Estimated Baseline  Estimated Endogeneity Duplicates Estimation Method  \\\n",
       "1            0.900538               0.457575  randomize           whittle   \n",
       "3            2.227156               0.326975  randomize           whittle   \n",
       "5            1.488549               0.136439  randomize           whittle   \n",
       "7            0.029876               0.040606  randomize           whittle   \n",
       "9            0.039419               0.034951  randomize           whittle   \n",
       "\n",
       "  Initial Estimation Point  \n",
       "1      original_parameters  \n",
       "3      original_parameters  \n",
       "5      original_parameters  \n",
       "7      original_parameters  \n",
       "9      original_parameters  "
      ]
     },
     "execution_count": 137,
     "metadata": {},
     "output_type": "execute_result"
    }
   ],
   "source": [
    "hawkes_whittle_data_experiment.head()"
   ]
  },
  {
   "cell_type": "code",
   "execution_count": 138,
   "metadata": {},
   "outputs": [
    {
     "data": {
      "text/html": [
       "<div>\n",
       "<style scoped>\n",
       "    .dataframe tbody tr th:only-of-type {\n",
       "        vertical-align: middle;\n",
       "    }\n",
       "\n",
       "    .dataframe tbody tr th {\n",
       "        vertical-align: top;\n",
       "    }\n",
       "\n",
       "    .dataframe thead th {\n",
       "        text-align: right;\n",
       "    }\n",
       "</style>\n",
       "<table border=\"1\" class=\"dataframe\">\n",
       "  <thead>\n",
       "    <tr style=\"text-align: right;\">\n",
       "      <th></th>\n",
       "      <th>Test Index</th>\n",
       "      <th>Simulation Index</th>\n",
       "      <th>Real Alpha</th>\n",
       "      <th>Real Beta</th>\n",
       "      <th>Real Baseline</th>\n",
       "      <th>Real Endogeneity</th>\n",
       "      <th>Delta</th>\n",
       "      <th>Estimated Alpha</th>\n",
       "      <th>Estimated Beta</th>\n",
       "      <th>Estimated Baseline</th>\n",
       "      <th>Estimated Endogeneity</th>\n",
       "      <th>Duplicates</th>\n",
       "      <th>Estimation Method</th>\n",
       "      <th>Initial Estimation Point</th>\n",
       "    </tr>\n",
       "  </thead>\n",
       "  <tbody>\n",
       "    <tr>\n",
       "      <th>0</th>\n",
       "      <td>1</td>\n",
       "      <td>1</td>\n",
       "      <td>0.5</td>\n",
       "      <td>1.5</td>\n",
       "      <td>1</td>\n",
       "      <td>0.333333</td>\n",
       "      <td>0.00</td>\n",
       "      <td>0.643380</td>\n",
       "      <td>1.042902</td>\n",
       "      <td>0.740937</td>\n",
       "      <td>0.616913</td>\n",
       "      <td>randomize</td>\n",
       "      <td>mle</td>\n",
       "      <td>original_parameters</td>\n",
       "    </tr>\n",
       "    <tr>\n",
       "      <th>2</th>\n",
       "      <td>1</td>\n",
       "      <td>1</td>\n",
       "      <td>0.5</td>\n",
       "      <td>1.5</td>\n",
       "      <td>1</td>\n",
       "      <td>0.333333</td>\n",
       "      <td>0.01</td>\n",
       "      <td>0.643550</td>\n",
       "      <td>1.042155</td>\n",
       "      <td>0.740591</td>\n",
       "      <td>0.617518</td>\n",
       "      <td>randomize</td>\n",
       "      <td>mle</td>\n",
       "      <td>original_parameters</td>\n",
       "    </tr>\n",
       "    <tr>\n",
       "      <th>4</th>\n",
       "      <td>1</td>\n",
       "      <td>1</td>\n",
       "      <td>0.5</td>\n",
       "      <td>1.5</td>\n",
       "      <td>1</td>\n",
       "      <td>0.333333</td>\n",
       "      <td>0.02</td>\n",
       "      <td>0.643530</td>\n",
       "      <td>1.042917</td>\n",
       "      <td>0.740647</td>\n",
       "      <td>0.617048</td>\n",
       "      <td>randomize</td>\n",
       "      <td>mle</td>\n",
       "      <td>original_parameters</td>\n",
       "    </tr>\n",
       "    <tr>\n",
       "      <th>6</th>\n",
       "      <td>1</td>\n",
       "      <td>1</td>\n",
       "      <td>0.5</td>\n",
       "      <td>1.5</td>\n",
       "      <td>1</td>\n",
       "      <td>0.333333</td>\n",
       "      <td>0.03</td>\n",
       "      <td>0.642656</td>\n",
       "      <td>1.045875</td>\n",
       "      <td>0.742427</td>\n",
       "      <td>0.614467</td>\n",
       "      <td>randomize</td>\n",
       "      <td>mle</td>\n",
       "      <td>original_parameters</td>\n",
       "    </tr>\n",
       "    <tr>\n",
       "      <th>8</th>\n",
       "      <td>1</td>\n",
       "      <td>1</td>\n",
       "      <td>0.5</td>\n",
       "      <td>1.5</td>\n",
       "      <td>1</td>\n",
       "      <td>0.333333</td>\n",
       "      <td>0.04</td>\n",
       "      <td>0.643257</td>\n",
       "      <td>1.035691</td>\n",
       "      <td>0.741253</td>\n",
       "      <td>0.621090</td>\n",
       "      <td>randomize</td>\n",
       "      <td>mle</td>\n",
       "      <td>original_parameters</td>\n",
       "    </tr>\n",
       "  </tbody>\n",
       "</table>\n",
       "</div>"
      ],
      "text/plain": [
       "   Test Index  Simulation Index  Real Alpha  Real Beta  Real Baseline  \\\n",
       "0           1                 1         0.5        1.5              1   \n",
       "2           1                 1         0.5        1.5              1   \n",
       "4           1                 1         0.5        1.5              1   \n",
       "6           1                 1         0.5        1.5              1   \n",
       "8           1                 1         0.5        1.5              1   \n",
       "\n",
       "   Real Endogeneity  Delta  Estimated Alpha  Estimated Beta  \\\n",
       "0          0.333333   0.00         0.643380        1.042902   \n",
       "2          0.333333   0.01         0.643550        1.042155   \n",
       "4          0.333333   0.02         0.643530        1.042917   \n",
       "6          0.333333   0.03         0.642656        1.045875   \n",
       "8          0.333333   0.04         0.643257        1.035691   \n",
       "\n",
       "   Estimated Baseline  Estimated Endogeneity Duplicates Estimation Method  \\\n",
       "0            0.740937               0.616913  randomize               mle   \n",
       "2            0.740591               0.617518  randomize               mle   \n",
       "4            0.740647               0.617048  randomize               mle   \n",
       "6            0.742427               0.614467  randomize               mle   \n",
       "8            0.741253               0.621090  randomize               mle   \n",
       "\n",
       "  Initial Estimation Point  \n",
       "0      original_parameters  \n",
       "2      original_parameters  \n",
       "4      original_parameters  \n",
       "6      original_parameters  \n",
       "8      original_parameters  "
      ]
     },
     "execution_count": 138,
     "metadata": {},
     "output_type": "execute_result"
    }
   ],
   "source": [
    "hawkes_mle_data_experiment.head()"
   ]
  },
  {
   "cell_type": "markdown",
   "metadata": {},
   "source": [
    "**Plotting the mean of estimated values for each test for each delta value**"
   ]
  },
  {
   "cell_type": "code",
   "execution_count": 139,
   "metadata": {},
   "outputs": [],
   "source": [
    "def return_mean_estimated_parameters_by_each_test_per_delta(hawkes_data_experiment):\n",
    "    number_of_tests = hawkes_data_experiment[\"Test Index\"].nunique()\n",
    "    number_of_deltas = hawkes_data_experiment[\"Simulation Index\"].nunique()\n",
    "    different_deltas = hawkes_data_experiment[\"Delta\"].unique() \n",
    "\n",
    "    mean_estimated_parameters_by_test_per_delta = pd.DataFrame(columns = [\"Test Index\", \"Delta\", \"Mean Estimated Baseline\", \"Mean Estimated Alpha\", \"Mean Estimated Beta\", \"Max Estimated Baseline\", \"Max Estimated Alpha\", \"Max Estimated Beta\", \"Min Estimated Baseline\", \"Min Estimated Alpha\", \"Min Estimated Beta\",\"Std Estimated Baseline\", \"Std Estimated Alpha\", \"Std Estimated Beta\"])\n",
    "    \n",
    "    for i in range(1,number_of_tests + 1):\n",
    "        current_test = hawkes_data_experiment[hawkes_data_experiment[\"Test Index\"] == i]\n",
    "        for delta in different_deltas:\n",
    "            current_test_for_this_delta = current_test[current_test[\"Delta\"] == delta]\n",
    "            current_estimated_mean_alpha = current_test_for_this_delta[\"Estimated Alpha\"].mean()\n",
    "            current_estimated_mean_beta = current_test_for_this_delta[\"Estimated Beta\"].mean()\n",
    "            current_estimated_mean_baseline = current_test_for_this_delta[\"Estimated Baseline\"].mean()\n",
    "            current_max_estimated_alpha = current_test_for_this_delta[\"Estimated Alpha\"].max()\n",
    "            current_max_estimated_beta = current_test_for_this_delta[\"Estimated Beta\"].max()\n",
    "            current_max_estimated_baseline = current_test_for_this_delta[\"Estimated Baseline\"].max()\n",
    "            current_min_estimated_alpha = current_test_for_this_delta[\"Estimated Alpha\"].min()\n",
    "            current_min_estimated_beta = current_test_for_this_delta[\"Estimated Beta\"].min()\n",
    "            current_min_estimated_baseline = current_test_for_this_delta[\"Estimated Baseline\"].min()\n",
    "            current_std_estimated_baseline = current_test_for_this_delta[\"Estimated Baseline\"].std()\n",
    "            current_std_estimated_alpha = current_test_for_this_delta[\"Estimated Alpha\"].std()\n",
    "            current_std_estimated_beta = current_test_for_this_delta[\"Estimated Beta\"].std()\n",
    "            to_append = [i, delta, current_estimated_mean_baseline, current_estimated_mean_alpha, current_estimated_mean_beta, current_max_estimated_baseline, current_max_estimated_alpha, current_max_estimated_beta, current_min_estimated_baseline, current_min_estimated_alpha, current_min_estimated_beta, current_std_estimated_baseline, current_std_estimated_alpha, current_std_estimated_beta]\n",
    "            to_append_series = pd.Series(to_append, index = mean_estimated_parameters_by_test_per_delta.columns)\n",
    "            mean_estimated_parameters_by_test_per_delta = mean_estimated_parameters_by_test_per_delta.append(to_append_series, ignore_index = True)\n",
    "            \n",
    "    return mean_estimated_parameters_by_test_per_delta \n",
    "       "
   ]
  },
  {
   "cell_type": "code",
   "execution_count": 140,
   "metadata": {},
   "outputs": [],
   "source": [
    "mean_estimated_parameters_by_test_per_delta_mle  = return_mean_estimated_parameters_by_each_test_per_delta(hawkes_mle_data_experiment)"
   ]
  },
  {
   "cell_type": "code",
   "execution_count": 141,
   "metadata": {},
   "outputs": [
    {
     "data": {
      "text/html": [
       "<div>\n",
       "<style scoped>\n",
       "    .dataframe tbody tr th:only-of-type {\n",
       "        vertical-align: middle;\n",
       "    }\n",
       "\n",
       "    .dataframe tbody tr th {\n",
       "        vertical-align: top;\n",
       "    }\n",
       "\n",
       "    .dataframe thead th {\n",
       "        text-align: right;\n",
       "    }\n",
       "</style>\n",
       "<table border=\"1\" class=\"dataframe\">\n",
       "  <thead>\n",
       "    <tr style=\"text-align: right;\">\n",
       "      <th></th>\n",
       "      <th>Test Index</th>\n",
       "      <th>Delta</th>\n",
       "      <th>Mean Estimated Baseline</th>\n",
       "      <th>Mean Estimated Alpha</th>\n",
       "      <th>Mean Estimated Beta</th>\n",
       "      <th>Max Estimated Baseline</th>\n",
       "      <th>Max Estimated Alpha</th>\n",
       "      <th>Max Estimated Beta</th>\n",
       "      <th>Min Estimated Baseline</th>\n",
       "      <th>Min Estimated Alpha</th>\n",
       "      <th>Min Estimated Beta</th>\n",
       "      <th>Std Estimated Baseline</th>\n",
       "      <th>Std Estimated Alpha</th>\n",
       "      <th>Std Estimated Beta</th>\n",
       "    </tr>\n",
       "  </thead>\n",
       "  <tbody>\n",
       "    <tr>\n",
       "      <th>0</th>\n",
       "      <td>1.0</td>\n",
       "      <td>0.00</td>\n",
       "      <td>1.045598</td>\n",
       "      <td>0.465121</td>\n",
       "      <td>1.736498</td>\n",
       "      <td>1.364182</td>\n",
       "      <td>0.749465</td>\n",
       "      <td>3.459825</td>\n",
       "      <td>0.536334</td>\n",
       "      <td>0.132097</td>\n",
       "      <td>0.992642</td>\n",
       "      <td>0.265465</td>\n",
       "      <td>0.180396</td>\n",
       "      <td>0.729611</td>\n",
       "    </tr>\n",
       "    <tr>\n",
       "      <th>1</th>\n",
       "      <td>1.0</td>\n",
       "      <td>0.01</td>\n",
       "      <td>1.045020</td>\n",
       "      <td>0.465453</td>\n",
       "      <td>1.731030</td>\n",
       "      <td>1.362946</td>\n",
       "      <td>0.749549</td>\n",
       "      <td>3.384692</td>\n",
       "      <td>0.536061</td>\n",
       "      <td>0.132792</td>\n",
       "      <td>0.994390</td>\n",
       "      <td>0.265323</td>\n",
       "      <td>0.180139</td>\n",
       "      <td>0.710135</td>\n",
       "    </tr>\n",
       "    <tr>\n",
       "      <th>2</th>\n",
       "      <td>1.0</td>\n",
       "      <td>0.02</td>\n",
       "      <td>1.045196</td>\n",
       "      <td>0.465051</td>\n",
       "      <td>1.754342</td>\n",
       "      <td>1.352387</td>\n",
       "      <td>0.749042</td>\n",
       "      <td>3.630358</td>\n",
       "      <td>0.536987</td>\n",
       "      <td>0.132818</td>\n",
       "      <td>0.998618</td>\n",
       "      <td>0.263562</td>\n",
       "      <td>0.180709</td>\n",
       "      <td>0.774886</td>\n",
       "    </tr>\n",
       "    <tr>\n",
       "      <th>3</th>\n",
       "      <td>1.0</td>\n",
       "      <td>0.03</td>\n",
       "      <td>1.047485</td>\n",
       "      <td>0.464329</td>\n",
       "      <td>1.744995</td>\n",
       "      <td>1.383095</td>\n",
       "      <td>0.749239</td>\n",
       "      <td>3.449436</td>\n",
       "      <td>0.536568</td>\n",
       "      <td>0.130554</td>\n",
       "      <td>0.997879</td>\n",
       "      <td>0.267813</td>\n",
       "      <td>0.180532</td>\n",
       "      <td>0.727207</td>\n",
       "    </tr>\n",
       "    <tr>\n",
       "      <th>4</th>\n",
       "      <td>1.0</td>\n",
       "      <td>0.04</td>\n",
       "      <td>3.775540</td>\n",
       "      <td>0.459972</td>\n",
       "      <td>2830.222756</td>\n",
       "      <td>28.402995</td>\n",
       "      <td>0.748949</td>\n",
       "      <td>28288.185245</td>\n",
       "      <td>0.537140</td>\n",
       "      <td>0.133861</td>\n",
       "      <td>0.993405</td>\n",
       "      <td>8.657208</td>\n",
       "      <td>0.184752</td>\n",
       "      <td>8945.016238</td>\n",
       "    </tr>\n",
       "  </tbody>\n",
       "</table>\n",
       "</div>"
      ],
      "text/plain": [
       "   Test Index  Delta  Mean Estimated Baseline  Mean Estimated Alpha  \\\n",
       "0         1.0   0.00                 1.045598              0.465121   \n",
       "1         1.0   0.01                 1.045020              0.465453   \n",
       "2         1.0   0.02                 1.045196              0.465051   \n",
       "3         1.0   0.03                 1.047485              0.464329   \n",
       "4         1.0   0.04                 3.775540              0.459972   \n",
       "\n",
       "   Mean Estimated Beta  Max Estimated Baseline  Max Estimated Alpha  \\\n",
       "0             1.736498                1.364182             0.749465   \n",
       "1             1.731030                1.362946             0.749549   \n",
       "2             1.754342                1.352387             0.749042   \n",
       "3             1.744995                1.383095             0.749239   \n",
       "4          2830.222756               28.402995             0.748949   \n",
       "\n",
       "   Max Estimated Beta  Min Estimated Baseline  Min Estimated Alpha  \\\n",
       "0            3.459825                0.536334             0.132097   \n",
       "1            3.384692                0.536061             0.132792   \n",
       "2            3.630358                0.536987             0.132818   \n",
       "3            3.449436                0.536568             0.130554   \n",
       "4        28288.185245                0.537140             0.133861   \n",
       "\n",
       "   Min Estimated Beta  Std Estimated Baseline  Std Estimated Alpha  \\\n",
       "0            0.992642                0.265465             0.180396   \n",
       "1            0.994390                0.265323             0.180139   \n",
       "2            0.998618                0.263562             0.180709   \n",
       "3            0.997879                0.267813             0.180532   \n",
       "4            0.993405                8.657208             0.184752   \n",
       "\n",
       "   Std Estimated Beta  \n",
       "0            0.729611  \n",
       "1            0.710135  \n",
       "2            0.774886  \n",
       "3            0.727207  \n",
       "4         8945.016238  "
      ]
     },
     "execution_count": 141,
     "metadata": {},
     "output_type": "execute_result"
    }
   ],
   "source": [
    "mean_estimated_parameters_by_test_per_delta_mle.head()"
   ]
  },
  {
   "cell_type": "code",
   "execution_count": 142,
   "metadata": {},
   "outputs": [],
   "source": [
    "mean_estimated_parameters_by_test_per_delta_whittle  = return_mean_estimated_parameters_by_each_test_per_delta(hawkes_whittle_data_experiment)"
   ]
  },
  {
   "cell_type": "code",
   "execution_count": 143,
   "metadata": {},
   "outputs": [
    {
     "data": {
      "text/html": [
       "<div>\n",
       "<style scoped>\n",
       "    .dataframe tbody tr th:only-of-type {\n",
       "        vertical-align: middle;\n",
       "    }\n",
       "\n",
       "    .dataframe tbody tr th {\n",
       "        vertical-align: top;\n",
       "    }\n",
       "\n",
       "    .dataframe thead th {\n",
       "        text-align: right;\n",
       "    }\n",
       "</style>\n",
       "<table border=\"1\" class=\"dataframe\">\n",
       "  <thead>\n",
       "    <tr style=\"text-align: right;\">\n",
       "      <th></th>\n",
       "      <th>Test Index</th>\n",
       "      <th>Delta</th>\n",
       "      <th>Mean Estimated Baseline</th>\n",
       "      <th>Mean Estimated Alpha</th>\n",
       "      <th>Mean Estimated Beta</th>\n",
       "      <th>Max Estimated Baseline</th>\n",
       "      <th>Max Estimated Alpha</th>\n",
       "      <th>Max Estimated Beta</th>\n",
       "      <th>Min Estimated Baseline</th>\n",
       "      <th>Min Estimated Alpha</th>\n",
       "      <th>Min Estimated Beta</th>\n",
       "      <th>Std Estimated Baseline</th>\n",
       "      <th>Std Estimated Alpha</th>\n",
       "      <th>Std Estimated Beta</th>\n",
       "    </tr>\n",
       "  </thead>\n",
       "  <tbody>\n",
       "    <tr>\n",
       "      <th>0</th>\n",
       "      <td>1.0</td>\n",
       "      <td>0.00</td>\n",
       "      <td>0.843223</td>\n",
       "      <td>0.622110</td>\n",
       "      <td>5.862011</td>\n",
       "      <td>2.599020</td>\n",
       "      <td>0.804565</td>\n",
       "      <td>16.583976</td>\n",
       "      <td>0.040258</td>\n",
       "      <td>0.486505</td>\n",
       "      <td>0.390337</td>\n",
       "      <td>0.826707</td>\n",
       "      <td>0.104025</td>\n",
       "      <td>6.549188</td>\n",
       "    </tr>\n",
       "    <tr>\n",
       "      <th>1</th>\n",
       "      <td>1.0</td>\n",
       "      <td>0.01</td>\n",
       "      <td>3.018966</td>\n",
       "      <td>0.476947</td>\n",
       "      <td>571.578623</td>\n",
       "      <td>8.671959</td>\n",
       "      <td>0.894316</td>\n",
       "      <td>3921.827410</td>\n",
       "      <td>0.033540</td>\n",
       "      <td>0.010000</td>\n",
       "      <td>1.062716</td>\n",
       "      <td>2.906650</td>\n",
       "      <td>0.360707</td>\n",
       "      <td>1296.769468</td>\n",
       "    </tr>\n",
       "    <tr>\n",
       "      <th>2</th>\n",
       "      <td>1.0</td>\n",
       "      <td>0.02</td>\n",
       "      <td>4.666416</td>\n",
       "      <td>0.425114</td>\n",
       "      <td>195.270327</td>\n",
       "      <td>8.999762</td>\n",
       "      <td>0.755078</td>\n",
       "      <td>1910.042499</td>\n",
       "      <td>0.228923</td>\n",
       "      <td>0.010000</td>\n",
       "      <td>1.107103</td>\n",
       "      <td>3.141060</td>\n",
       "      <td>0.283317</td>\n",
       "      <td>602.533252</td>\n",
       "    </tr>\n",
       "    <tr>\n",
       "      <th>3</th>\n",
       "      <td>1.0</td>\n",
       "      <td>0.03</td>\n",
       "      <td>2.711449</td>\n",
       "      <td>0.642026</td>\n",
       "      <td>262.504877</td>\n",
       "      <td>12.012262</td>\n",
       "      <td>0.922158</td>\n",
       "      <td>2489.068622</td>\n",
       "      <td>0.029876</td>\n",
       "      <td>0.010000</td>\n",
       "      <td>3.819278</td>\n",
       "      <td>4.309159</td>\n",
       "      <td>0.349421</td>\n",
       "      <td>782.364998</td>\n",
       "    </tr>\n",
       "    <tr>\n",
       "      <th>4</th>\n",
       "      <td>1.0</td>\n",
       "      <td>0.04</td>\n",
       "      <td>3.391144</td>\n",
       "      <td>0.707594</td>\n",
       "      <td>201.422740</td>\n",
       "      <td>16.991870</td>\n",
       "      <td>0.932332</td>\n",
       "      <td>1868.067691</td>\n",
       "      <td>0.026927</td>\n",
       "      <td>0.010000</td>\n",
       "      <td>0.010000</td>\n",
       "      <td>5.427132</td>\n",
       "      <td>0.372248</td>\n",
       "      <td>585.685734</td>\n",
       "    </tr>\n",
       "  </tbody>\n",
       "</table>\n",
       "</div>"
      ],
      "text/plain": [
       "   Test Index  Delta  Mean Estimated Baseline  Mean Estimated Alpha  \\\n",
       "0         1.0   0.00                 0.843223              0.622110   \n",
       "1         1.0   0.01                 3.018966              0.476947   \n",
       "2         1.0   0.02                 4.666416              0.425114   \n",
       "3         1.0   0.03                 2.711449              0.642026   \n",
       "4         1.0   0.04                 3.391144              0.707594   \n",
       "\n",
       "   Mean Estimated Beta  Max Estimated Baseline  Max Estimated Alpha  \\\n",
       "0             5.862011                2.599020             0.804565   \n",
       "1           571.578623                8.671959             0.894316   \n",
       "2           195.270327                8.999762             0.755078   \n",
       "3           262.504877               12.012262             0.922158   \n",
       "4           201.422740               16.991870             0.932332   \n",
       "\n",
       "   Max Estimated Beta  Min Estimated Baseline  Min Estimated Alpha  \\\n",
       "0           16.583976                0.040258             0.486505   \n",
       "1         3921.827410                0.033540             0.010000   \n",
       "2         1910.042499                0.228923             0.010000   \n",
       "3         2489.068622                0.029876             0.010000   \n",
       "4         1868.067691                0.026927             0.010000   \n",
       "\n",
       "   Min Estimated Beta  Std Estimated Baseline  Std Estimated Alpha  \\\n",
       "0            0.390337                0.826707             0.104025   \n",
       "1            1.062716                2.906650             0.360707   \n",
       "2            1.107103                3.141060             0.283317   \n",
       "3            3.819278                4.309159             0.349421   \n",
       "4            0.010000                5.427132             0.372248   \n",
       "\n",
       "   Std Estimated Beta  \n",
       "0            6.549188  \n",
       "1         1296.769468  \n",
       "2          602.533252  \n",
       "3          782.364998  \n",
       "4          585.685734  "
      ]
     },
     "execution_count": 143,
     "metadata": {},
     "output_type": "execute_result"
    }
   ],
   "source": [
    "mean_estimated_parameters_by_test_per_delta_whittle.head()"
   ]
  },
  {
   "cell_type": "markdown",
   "metadata": {},
   "source": [
    "**Plotting mean of estimated $\\alpha$ for each test vs $\\delta$**"
   ]
  },
  {
   "cell_type": "code",
   "execution_count": 145,
   "metadata": {},
   "outputs": [
    {
     "data": {
      "image/png": "[encoded data removed]",
      "text/plain": [
       "<Figure size 432x288 with 1 Axes>"
      ]
     },
     "metadata": {
      "needs_background": "light"
     },
     "output_type": "display_data"
    }
   ],
   "source": [
    "number_of_tests = hawkes_mle_data_experiment[\"Test Index\"].nunique()\n",
    "\n",
    "\n",
    "for i in range(1, number_of_tests + 1):\n",
    "    real_alpha = hawkes_mle_data_experiment[hawkes_mle_data_experiment[\"Test Index\"] == i][\"Real Alpha\"].values[0]\n",
    "    real_beta = hawkes_mle_data_experiment[hawkes_mle_data_experiment[\"Test Index\"] == i][\"Real Beta\"].values[0]\n",
    "    real_baseline = hawkes_mle_data_experiment[hawkes_mle_data_experiment[\"Test Index\"] == i][\"Real Baseline\"].values[0]\n",
    "    mean_estimated_parameters_current_test_mle = mean_estimated_parameters_by_test_per_delta_mle[mean_estimated_parameters_by_test_per_delta_mle[\"Test Index\"] == i]\n",
    "    mean_estimated_parameters_current_test_whittle = mean_estimated_parameters_by_test_per_delta_whittle[mean_estimated_parameters_by_test_per_delta_whittle[\"Test Index\"] == i]\n",
    "    #plt.plot(mean_estimated_parameters_current_test_mle[\"Delta\"], mean_estimated_parameters_current_test_mle[\"Mean Estimated Alpha\"], linewidth = 1.5, markersize = 10, label = \"Estimated Mean Alpha - Mle\")\n",
    "    #plt.plot(mean_estimated_parameters_current_test_whittle[\"Delta\"], mean_estimated_parameters_current_test_whittle[\"Mean Estimated Alpha\"], linewidth = 1.5, markersize = 10, label = \"Estimated Mean Alpha - Whittle\")\n",
    "    plt.errorbar(mean_estimated_parameters_current_test_mle[\"Delta\"], mean_estimated_parameters_current_test_mle[\"Mean Estimated Alpha\"] , yerr = mean_estimated_parameters_current_test_mle[\"Std Estimated Alpha\"] , fmt='--o', label = \"Estimated Mean Alpha - MLE\")\n",
    "    ##plt.errorbar(mean_estimated_parameters_current_test_whittle[\"Delta\"], mean_estimated_parameters_current_test_whittle[\"Mean Estimated Alpha\"] , yerr = mean_estimated_parameters_current_test_whittle[\"Std Estimated Alpha\"] , fmt='--o', label = \"Estimated Mean Alpha - Whittle\")\n",
    "    plt.plot([0], [real_alpha], marker = \"x\", linewidth = 1.5, markersize = 10, label = f\"Real Alpha = {real_alpha}\", color = 'r')\n",
    "    plt.title(f\"Mean Estimated Alpha vs Delta - Test {i}\")\n",
    "    plt.xlabel(\"Delta\")\n",
    "    plt.ylabel(\"Mean Estimated Alpha\")\n",
    "    plt.legend(loc =  1,  prop={\"size\":8})\n",
    "    plt.show()"
   ]
  },
  {
   "cell_type": "markdown",
   "metadata": {},
   "source": [
    "**Plotting mean of estimated $\\beta$ for each test vs $\\delta$**"
   ]
  },
  {
   "cell_type": "code",
   "execution_count": 121,
   "metadata": {},
   "outputs": [
    {
     "data": {
      "image/png": "[encoded data removed]",
      "text/plain": [
       "<Figure size 432x288 with 1 Axes>"
      ]
     },
     "metadata": {
      "needs_background": "light"
     },
     "output_type": "display_data"
    }
   ],
   "source": [
    "number_of_tests = hawkes_mle_data_experiment[\"Test Index\"].nunique()\n",
    "\n",
    "for i in range(1, number_of_tests + 1):\n",
    "    real_alpha = hawkes_mle_data_experiment[hawkes_mle_data_experiment[\"Test Index\"] == i][\"Real Alpha\"].values[0]\n",
    "    real_beta = hawkes_mle_data_experiment[hawkes_mle_data_experiment[\"Test Index\"] == i][\"Real Beta\"].values[0]\n",
    "    real_baseline = hawkes_mle_data_experiment[hawkes_mle_data_experiment[\"Test Index\"] == i][\"Real Baseline\"].values[0]\n",
    "    mean_estimated_parameters_current_test_mle = mean_estimated_parameters_by_test_per_delta_mle[mean_estimated_parameters_by_test_per_delta_mle[\"Test Index\"] == i]\n",
    "    mean_estimated_parameters_current_test_whittle = mean_estimated_parameters_by_test_per_delta_whittle[mean_estimated_parameters_by_test_per_delta_whittle[\"Test Index\"] == i]\n",
    "    #plt.plot(mean_estimated_parameters_current_test_mle[\"Delta\"], mean_estimated_parameters_current_test_mle[\"Mean Estimated Alpha\"], linewidth = 1.5, markersize = 10, label = \"Estimated Mean Alpha - Mle\")\n",
    "    #plt.plot(mean_estimated_parameters_current_test_whittle[\"Delta\"], mean_estimated_parameters_current_test_whittle[\"Mean Estimated Alpha\"], linewidth = 1.5, markersize = 10, label = \"Estimated Mean Alpha - Whittle\")\n",
    "    plt.errorbar(mean_estimated_parameters_current_test_mle[\"Delta\"], mean_estimated_parameters_current_test_mle[\"Mean Estimated Beta\"] , yerr = mean_estimated_parameters_current_test_mle[\"Std Estimated Beta\"] , fmt='--o', label = \"Estimated Mean Beta - MLE\")\n",
    "    plt.errorbar(mean_estimated_parameters_current_test_whittle[\"Delta\"], mean_estimated_parameters_current_test_whittle[\"Mean Estimated Beta\"] , yerr = mean_estimated_parameters_current_test_whittle[\"Std Estimated Beta\"] , fmt='--o', label = \"Estimated Mean Beta - Whittle\")\n",
    "    plt.plot([0], [real_beta], marker = \"x\", linewidth = 1.5, markersize = 10, label = f\"Real Beta = {real_beta}\", color = 'r')\n",
    "    plt.title(f\"Mean Estimated Beta vs Delta - Test {i}\")\n",
    "    plt.xlabel(\"Delta\")\n",
    "    plt.ylabel(\"Mean Estimated Beta\")\n",
    "    plt.legend()\n",
    "    plt.show()\n",
    "\n"
   ]
  },
  {
   "cell_type": "markdown",
   "metadata": {},
   "source": [
    "**Plotting mean of estimated $\\lambda_{0}$ for each test vs $\\delta$**"
   ]
  },
  {
   "cell_type": "code",
   "execution_count": 79,
   "metadata": {},
   "outputs": [
    {
     "data": {
      "image/png": "[encoded data removed]",
      "text/plain": [
       "<Figure size 432x288 with 1 Axes>"
      ]
     },
     "metadata": {
      "needs_background": "light"
     },
     "output_type": "display_data"
    }
   ],
   "source": [
    "number_of_tests = hawkes_mle_data_experiment[\"Test Index\"].nunique()\n",
    "\n",
    "for i in range(1, number_of_tests + 1):\n",
    "    real_alpha = hawkes_mle_data_experiment[hawkes_mle_data_experiment[\"Test Index\"] == i][\"Real Alpha\"].values[0]\n",
    "    real_beta = hawkes_mle_data_experiment[hawkes_mle_data_experiment[\"Test Index\"] == i][\"Real Beta\"].values[0]\n",
    "    real_baseline = hawkes_mle_data_experiment[hawkes_mle_data_experiment[\"Test Index\"] == i][\"Real Baseline\"].values[0]\n",
    "    mean_estimated_parameters_current_test_mle = mean_estimated_parameters_by_test_per_delta_mle[mean_estimated_parameters_by_test_per_delta_mle[\"Test Index\"] == i]\n",
    "    mean_estimated_parameters_current_test_whittle = mean_estimated_parameters_by_test_per_delta_whittle[mean_estimated_parameters_by_test_per_delta_whittle[\"Test Index\"] == i]\n",
    "    #plt.plot(mean_estimated_parameters_current_test_mle[\"Delta\"], mean_estimated_parameters_current_test_mle[\"Mean Estimated Alpha\"], linewidth = 1.5, markersize = 10, label = \"Estimated Mean Alpha - Mle\")\n",
    "    #plt.plot(mean_estimated_parameters_current_test_whittle[\"Delta\"], mean_estimated_parameters_current_test_whittle[\"Mean Estimated Alpha\"], linewidth = 1.5, markersize = 10, label = \"Estimated Mean Alpha - Whittle\")\n",
    "    plt.errorbar(mean_estimated_parameters_current_test_mle[\"Delta\"][:30], mean_estimated_parameters_current_test_mle[\"Mean Estimated Baseline\"][:30] , yerr = mean_estimated_parameters_current_test_mle[\"Std Estimated Baseline\"][:30] , fmt='--o', label = \"Estimated Mean Baseline - MLE\")\n",
    "    #plt.errorbar(mean_estimated_parameters_current_test_whittle[\"Delta\"][:30], mean_estimated_parameters_current_test_whittle[\"Mean Estimated Baseline\"][:30] , yerr = mean_estimated_parameters_current_test_whittle[\"Std Estimated Baseline\"][:30] , fmt='--o', label = \"Estimated Mean Baseline - Whittle\")\n",
    "    plt.plot([0], [real_baseline], marker = \"x\", linewidth = 1.5, markersize = 10, label = f\"Real Baseline = {real_baseline}\", color = 'r')\n",
    "    plt.title(f\"Mean Estimated Baseline vs Delta - Test {i}\")\n",
    "    plt.xlabel(\"Delta\")\n",
    "    plt.ylabel(\"Mean Estimated Baseline\")\n",
    "    plt.legend()\n",
    "    plt.show()"
   ]
  },
  {
   "cell_type": "code",
   "execution_count": 103,
   "metadata": {},
   "outputs": [
    {
     "ename": "NameError",
     "evalue": "name 'real_endogeneity' is not defined",
     "output_type": "error",
     "traceback": [
      "\u001b[0;31m---------------------------------------------------------------------------\u001b[0m",
      "\u001b[0;31mNameError\u001b[0m                                 Traceback (most recent call last)",
      "\u001b[0;32m<ipython-input-103-c30bac40b6ab>\u001b[0m in \u001b[0;36m<module>\u001b[0;34m\u001b[0m\n\u001b[1;32m     12\u001b[0m     \u001b[0mplt\u001b[0m\u001b[0;34m.\u001b[0m\u001b[0merrorbar\u001b[0m\u001b[0;34m(\u001b[0m\u001b[0mmean_estimated_parameters_current_test_mle\u001b[0m\u001b[0;34m[\u001b[0m\u001b[0;34m\"Delta\"\u001b[0m\u001b[0;34m]\u001b[0m\u001b[0;34m,\u001b[0m \u001b[0mmean_estimated_parameters_current_test_mle\u001b[0m\u001b[0;34m[\u001b[0m\u001b[0;34m\"Mean Estimated Alpha\"\u001b[0m\u001b[0;34m]\u001b[0m\u001b[0;34m/\u001b[0m\u001b[0mmean_estimated_parameters_current_test_mle\u001b[0m\u001b[0;34m[\u001b[0m\u001b[0;34m\"Mean Estimated Beta\"\u001b[0m\u001b[0;34m]\u001b[0m \u001b[0;34m,\u001b[0m \u001b[0myerr\u001b[0m \u001b[0;34m=\u001b[0m \u001b[0mmean_estimated_parameters_current_test_mle\u001b[0m\u001b[0;34m[\u001b[0m\u001b[0;34m\"Std Estimated Alpha\"\u001b[0m\u001b[0;34m]\u001b[0m \u001b[0;34m,\u001b[0m \u001b[0mfmt\u001b[0m\u001b[0;34m=\u001b[0m\u001b[0;34m'--o'\u001b[0m\u001b[0;34m,\u001b[0m \u001b[0mlabel\u001b[0m \u001b[0;34m=\u001b[0m \u001b[0;34m\"Estimated Mean Alpha - MLE\"\u001b[0m\u001b[0;34m)\u001b[0m\u001b[0;34m\u001b[0m\u001b[0;34m\u001b[0m\u001b[0m\n\u001b[1;32m     13\u001b[0m     \u001b[0;31m##plt.errorbar(mean_estimated_parameters_current_test_whittle[\"Delta\"], mean_estimated_parameters_current_test_whittle[\"Mean Estimated Alpha\"] , yerr = mean_estimated_parameters_current_test_whittle[\"Std Estimated Alpha\"] , fmt='--o', label = \"Estimated Mean Alpha - Whittle\")\u001b[0m\u001b[0;34m\u001b[0m\u001b[0;34m\u001b[0m\u001b[0;34m\u001b[0m\u001b[0m\n\u001b[0;32m---> 14\u001b[0;31m     \u001b[0mplt\u001b[0m\u001b[0;34m.\u001b[0m\u001b[0mplot\u001b[0m\u001b[0;34m(\u001b[0m\u001b[0;34m[\u001b[0m\u001b[0;36m0\u001b[0m\u001b[0;34m]\u001b[0m\u001b[0;34m,\u001b[0m \u001b[0;34m[\u001b[0m\u001b[0mreal_endogeneity\u001b[0m\u001b[0;34m]\u001b[0m\u001b[0;34m,\u001b[0m \u001b[0mmarker\u001b[0m \u001b[0;34m=\u001b[0m \u001b[0;34m\"x\"\u001b[0m\u001b[0;34m,\u001b[0m \u001b[0mlinewidth\u001b[0m \u001b[0;34m=\u001b[0m \u001b[0;36m1.5\u001b[0m\u001b[0;34m,\u001b[0m \u001b[0mmarkersize\u001b[0m \u001b[0;34m=\u001b[0m \u001b[0;36m10\u001b[0m\u001b[0;34m,\u001b[0m \u001b[0mlabel\u001b[0m \u001b[0;34m=\u001b[0m \u001b[0;34mf\"Real Alpha = {real_alpha}\"\u001b[0m\u001b[0;34m,\u001b[0m \u001b[0mcolor\u001b[0m \u001b[0;34m=\u001b[0m \u001b[0;34m'r'\u001b[0m\u001b[0;34m)\u001b[0m\u001b[0;34m\u001b[0m\u001b[0;34m\u001b[0m\u001b[0m\n\u001b[0m\u001b[1;32m     15\u001b[0m     \u001b[0mplt\u001b[0m\u001b[0;34m.\u001b[0m\u001b[0mtitle\u001b[0m\u001b[0;34m(\u001b[0m\u001b[0;34mf\"Mean Estimated Alpha vs Delta - Test {i}\"\u001b[0m\u001b[0;34m)\u001b[0m\u001b[0;34m\u001b[0m\u001b[0;34m\u001b[0m\u001b[0m\n\u001b[1;32m     16\u001b[0m     \u001b[0mplt\u001b[0m\u001b[0;34m.\u001b[0m\u001b[0mxlabel\u001b[0m\u001b[0;34m(\u001b[0m\u001b[0;34m\"Delta\"\u001b[0m\u001b[0;34m)\u001b[0m\u001b[0;34m\u001b[0m\u001b[0;34m\u001b[0m\u001b[0m\n",
      "\u001b[0;31mNameError\u001b[0m: name 'real_endogeneity' is not defined"
     ]
    },
    {
     "data": {
      "image/png": "[encoded data removed]",
      "text/plain": [
       "<Figure size 432x288 with 1 Axes>"
      ]
     },
     "metadata": {
      "needs_background": "light"
     },
     "output_type": "display_data"
    }
   ],
   "source": [
    "number_of_tests = hawkes_mle_data_experiment[\"Test Index\"].nunique()\n",
    "\n",
    "\n",
    "for i in range(1, number_of_tests + 1):\n",
    "    real_alpha = hawkes_mle_data_experiment[hawkes_mle_data_experiment[\"Test Index\"] == i][\"Real Alpha\"].values[0]\n",
    "    real_beta = hawkes_mle_data_experiment[hawkes_mle_data_experiment[\"Test Index\"] == i][\"Real Beta\"].values[0]\n",
    "    real_baseline = hawkes_mle_data_experiment[hawkes_mle_data_experiment[\"Test Index\"] == i][\"Real Baseline\"].values[0]\n",
    "    mean_estimated_parameters_current_test_mle = mean_estimated_parameters_by_test_per_delta_mle[mean_estimated_parameters_by_test_per_delta_mle[\"Test Index\"] == i]\n",
    "    mean_estimated_parameters_current_test_whittle = mean_estimated_parameters_by_test_per_delta_whittle[mean_estimated_parameters_by_test_per_delta_whittle[\"Test Index\"] == i]\n",
    "    #plt.plot(mean_estimated_parameters_current_test_mle[\"Delta\"], mean_estimated_parameters_current_test_mle[\"Mean Estimated Alpha\"], linewidth = 1.5, markersize = 10, label = \"Estimated Mean Alpha - Mle\")\n",
    "    #plt.plot(mean_estimated_parameters_current_test_whittle[\"Delta\"], mean_estimated_parameters_current_test_whittle[\"Mean Estimated Alpha\"], linewidth = 1.5, markersize = 10, label = \"Estimated Mean Alpha - Whittle\")\n",
    "    plt.errorbar(mean_estimated_parameters_current_test_mle[\"Delta\"], mean_estimated_parameters_current_test_mle[\"Mean Estimated Alpha\"]/mean_estimated_parameters_current_test_mle[\"Mean Estimated Beta\"] , yerr = mean_estimated_parameters_current_test_mle[\"Std Estimated Alpha\"] , fmt='--o', label = \"Estimated Mean Alpha - MLE\")\n",
    "    ##plt.errorbar(mean_estimated_parameters_current_test_whittle[\"Delta\"], mean_estimated_parameters_current_test_whittle[\"Mean Estimated Alpha\"] , yerr = mean_estimated_parameters_current_test_whittle[\"Std Estimated Alpha\"] , fmt='--o', label = \"Estimated Mean Alpha - Whittle\")\n",
    "    plt.plot([0], [real_endogeneity], marker = \"x\", linewidth = 1.5, markersize = 10, label = f\"Real Alpha = {real_alpha}\", color = 'r')\n",
    "    plt.title(f\"Mean Estimated Alpha vs Delta - Test {i}\")\n",
    "    plt.xlabel(\"Delta\")\n",
    "    plt.ylabel(\"Mean Estimated Alpha\")\n",
    "    plt.legend(loc =  1,  prop={\"size\":8})\n",
    "    plt.show()"
   ]
  },
  {
   "cell_type": "markdown",
   "metadata": {},
   "source": [
    "## Testing for different $\\alpha$"
   ]
  },
  {
   "cell_type": "code",
   "execution_count": 81,
   "metadata": {},
   "outputs": [],
   "source": [
    "colors = ['b','g','r','m','w','c','y','k','orange','mediumblue']"
   ]
  },
  {
   "cell_type": "code",
   "execution_count": 82,
   "metadata": {},
   "outputs": [],
   "source": [
    "hawkes_mle_data_experiment_different_alphas = pd.read_csv(\"results_mle_different_alphas.csv\")"
   ]
  },
  {
   "cell_type": "code",
   "execution_count": 83,
   "metadata": {},
   "outputs": [],
   "source": [
    "mean_estimated_parameters_by_test_per_delta_mle_different_alphas  = return_mean_estimated_parameters_by_each_test_per_delta(hawkes_mle_data_experiment_different_alphas)"
   ]
  },
  {
   "cell_type": "code",
   "execution_count": 84,
   "metadata": {},
   "outputs": [
    {
     "data": {
      "text/html": [
       "<div>\n",
       "<style scoped>\n",
       "    .dataframe tbody tr th:only-of-type {\n",
       "        vertical-align: middle;\n",
       "    }\n",
       "\n",
       "    .dataframe tbody tr th {\n",
       "        vertical-align: top;\n",
       "    }\n",
       "\n",
       "    .dataframe thead th {\n",
       "        text-align: right;\n",
       "    }\n",
       "</style>\n",
       "<table border=\"1\" class=\"dataframe\">\n",
       "  <thead>\n",
       "    <tr style=\"text-align: right;\">\n",
       "      <th></th>\n",
       "      <th>Test Index</th>\n",
       "      <th>Delta</th>\n",
       "      <th>Mean Estimated Baseline</th>\n",
       "      <th>Mean Estimated Alpha</th>\n",
       "      <th>Mean Estimated Beta</th>\n",
       "      <th>Max Estimated Baseline</th>\n",
       "      <th>Max Estimated Alpha</th>\n",
       "      <th>Max Estimated Beta</th>\n",
       "      <th>Min Estimated Baseline</th>\n",
       "      <th>Min Estimated Alpha</th>\n",
       "      <th>Min Estimated Beta</th>\n",
       "      <th>Std Estimated Baseline</th>\n",
       "      <th>Std Estimated Alpha</th>\n",
       "      <th>Std Estimated Beta</th>\n",
       "    </tr>\n",
       "  </thead>\n",
       "  <tbody>\n",
       "    <tr>\n",
       "      <th>0</th>\n",
       "      <td>1.0</td>\n",
       "      <td>0.00</td>\n",
       "      <td>1.001465</td>\n",
       "      <td>0.098270</td>\n",
       "      <td>1.570687</td>\n",
       "      <td>1.049787</td>\n",
       "      <td>0.139544</td>\n",
       "      <td>3.077500</td>\n",
       "      <td>0.965658</td>\n",
       "      <td>0.059103</td>\n",
       "      <td>0.912089</td>\n",
       "      <td>0.019830</td>\n",
       "      <td>0.015251</td>\n",
       "      <td>0.407497</td>\n",
       "    </tr>\n",
       "    <tr>\n",
       "      <th>1</th>\n",
       "      <td>1.0</td>\n",
       "      <td>0.01</td>\n",
       "      <td>1.001588</td>\n",
       "      <td>0.098159</td>\n",
       "      <td>1.577056</td>\n",
       "      <td>1.049744</td>\n",
       "      <td>0.139407</td>\n",
       "      <td>3.067449</td>\n",
       "      <td>0.965819</td>\n",
       "      <td>0.059001</td>\n",
       "      <td>0.916324</td>\n",
       "      <td>0.019835</td>\n",
       "      <td>0.015267</td>\n",
       "      <td>0.410883</td>\n",
       "    </tr>\n",
       "    <tr>\n",
       "      <th>2</th>\n",
       "      <td>1.0</td>\n",
       "      <td>0.02</td>\n",
       "      <td>1.001941</td>\n",
       "      <td>0.097841</td>\n",
       "      <td>1.597611</td>\n",
       "      <td>1.051009</td>\n",
       "      <td>0.139397</td>\n",
       "      <td>3.268682</td>\n",
       "      <td>0.966112</td>\n",
       "      <td>0.057505</td>\n",
       "      <td>0.912740</td>\n",
       "      <td>0.019943</td>\n",
       "      <td>0.015363</td>\n",
       "      <td>0.430523</td>\n",
       "    </tr>\n",
       "    <tr>\n",
       "      <th>3</th>\n",
       "      <td>1.0</td>\n",
       "      <td>0.03</td>\n",
       "      <td>1.002516</td>\n",
       "      <td>0.097323</td>\n",
       "      <td>1.628141</td>\n",
       "      <td>1.051789</td>\n",
       "      <td>0.139101</td>\n",
       "      <td>3.359686</td>\n",
       "      <td>0.966561</td>\n",
       "      <td>0.057620</td>\n",
       "      <td>0.920186</td>\n",
       "      <td>0.020086</td>\n",
       "      <td>0.015512</td>\n",
       "      <td>0.454764</td>\n",
       "    </tr>\n",
       "    <tr>\n",
       "      <th>4</th>\n",
       "      <td>1.0</td>\n",
       "      <td>0.04</td>\n",
       "      <td>1.003433</td>\n",
       "      <td>0.096499</td>\n",
       "      <td>1.678006</td>\n",
       "      <td>1.054646</td>\n",
       "      <td>0.138854</td>\n",
       "      <td>3.879548</td>\n",
       "      <td>0.967260</td>\n",
       "      <td>0.055271</td>\n",
       "      <td>0.942029</td>\n",
       "      <td>0.020235</td>\n",
       "      <td>0.015592</td>\n",
       "      <td>0.500882</td>\n",
       "    </tr>\n",
       "  </tbody>\n",
       "</table>\n",
       "</div>"
      ],
      "text/plain": [
       "   Test Index  Delta  Mean Estimated Baseline  Mean Estimated Alpha  \\\n",
       "0         1.0   0.00                 1.001465              0.098270   \n",
       "1         1.0   0.01                 1.001588              0.098159   \n",
       "2         1.0   0.02                 1.001941              0.097841   \n",
       "3         1.0   0.03                 1.002516              0.097323   \n",
       "4         1.0   0.04                 1.003433              0.096499   \n",
       "\n",
       "   Mean Estimated Beta  Max Estimated Baseline  Max Estimated Alpha  \\\n",
       "0             1.570687                1.049787             0.139544   \n",
       "1             1.577056                1.049744             0.139407   \n",
       "2             1.597611                1.051009             0.139397   \n",
       "3             1.628141                1.051789             0.139101   \n",
       "4             1.678006                1.054646             0.138854   \n",
       "\n",
       "   Max Estimated Beta  Min Estimated Baseline  Min Estimated Alpha  \\\n",
       "0            3.077500                0.965658             0.059103   \n",
       "1            3.067449                0.965819             0.059001   \n",
       "2            3.268682                0.966112             0.057505   \n",
       "3            3.359686                0.966561             0.057620   \n",
       "4            3.879548                0.967260             0.055271   \n",
       "\n",
       "   Min Estimated Beta  Std Estimated Baseline  Std Estimated Alpha  \\\n",
       "0            0.912089                0.019830             0.015251   \n",
       "1            0.916324                0.019835             0.015267   \n",
       "2            0.912740                0.019943             0.015363   \n",
       "3            0.920186                0.020086             0.015512   \n",
       "4            0.942029                0.020235             0.015592   \n",
       "\n",
       "   Std Estimated Beta  \n",
       "0            0.407497  \n",
       "1            0.410883  \n",
       "2            0.430523  \n",
       "3            0.454764  \n",
       "4            0.500882  "
      ]
     },
     "execution_count": 84,
     "metadata": {},
     "output_type": "execute_result"
    }
   ],
   "source": [
    "mean_estimated_parameters_by_test_per_delta_mle_different_alphas.head(5)"
   ]
  },
  {
   "cell_type": "code",
   "execution_count": 123,
   "metadata": {},
   "outputs": [
    {
     "name": "stdout",
     "output_type": "stream",
     "text": [
      "10\n"
     ]
    },
    {
     "data": {
      "image/png": "[encoded data removed]",
      "text/plain": [
       "<Figure size 432x288 with 1 Axes>"
      ]
     },
     "metadata": {
      "needs_background": "light"
     },
     "output_type": "display_data"
    }
   ],
   "source": [
    "number_of_tests = hawkes_mle_data_experiment_different_alphas[\"Test Index\"].nunique()\n",
    "print(number_of_tests) \n",
    "\n",
    "\n",
    "for i in range(3, 10):\n",
    "    real_alpha = hawkes_mle_data_experiment_different_alphas[hawkes_mle_data_experiment_different_alphas[\"Test Index\"] == i][\"Real Alpha\"].values[0]\n",
    "    real_beta = hawkes_mle_data_experiment_different_alphas[hawkes_mle_data_experiment_different_alphas[\"Test Index\"] == i][\"Real Beta\"].values[0]\n",
    "    real_baseline = hawkes_mle_data_experiment_different_alphas[hawkes_mle_data_experiment_different_alphas[\"Test Index\"] == i][\"Real Baseline\"].values[0]\n",
    "    mean_estimated_parameters_current_test_mle_different_alphas = mean_estimated_parameters_by_test_per_delta_mle_different_alphas[mean_estimated_parameters_by_test_per_delta_mle_different_alphas[\"Test Index\"] == i]\n",
    "    plt.plot(mean_estimated_parameters_current_test_mle_different_alphas[\"Delta\"], mean_estimated_parameters_current_test_mle_different_alphas[\"Mean Estimated Alpha\"], linewidth = 1.5, markersize = 10, label = f\"Estimated Alpha\", color = colors[i-1])\n",
    "    plt.plot([0], [real_alpha], marker = \"x\", linewidth = 1.5, markersize = 10, label = f\"Real Alpha\", color = colors[i-1])\n",
    "    #plt.legend(loc = 1,  prop={\"size\":8})\n",
    "plt.title(f\"Mean Estimated Alpha vs Delta \")\n",
    "plt.xlabel(\"Delta\")\n",
    "plt.ylabel(\"Mean Estimated Alpha\")\n",
    "plt.show()"
   ]
  },
  {
   "cell_type": "code",
   "execution_count": 122,
   "metadata": {},
   "outputs": [
    {
     "name": "stdout",
     "output_type": "stream",
     "text": [
      "10\n"
     ]
    },
    {
     "data": {
      "image/png": "[encoded data removed]",
      "text/plain": [
       "<Figure size 432x288 with 1 Axes>"
      ]
     },
     "metadata": {
      "needs_background": "light"
     },
     "output_type": "display_data"
    }
   ],
   "source": [
    "number_of_tests = hawkes_mle_data_experiment_different_alphas[\"Test Index\"].nunique()\n",
    "print(number_of_tests) \n",
    "\n",
    "\n",
    "for i in range(1, 10):\n",
    "    real_alpha = hawkes_mle_data_experiment_different_alphas[hawkes_mle_data_experiment_different_alphas[\"Test Index\"] == i][\"Real Alpha\"].values[0]\n",
    "    real_beta = hawkes_mle_data_experiment_different_alphas[hawkes_mle_data_experiment_different_alphas[\"Test Index\"] == i][\"Real Beta\"].values[0]\n",
    "    real_baseline = hawkes_mle_data_experiment_different_alphas[hawkes_mle_data_experiment_different_alphas[\"Test Index\"] == i][\"Real Baseline\"].values[0]\n",
    "    mean_estimated_parameters_current_test_mle_different_alphas = mean_estimated_parameters_by_test_per_delta_mle_different_alphas[mean_estimated_parameters_by_test_per_delta_mle_different_alphas[\"Test Index\"] == i]\n",
    "    plt.plot(mean_estimated_parameters_current_test_mle_different_alphas[\"Delta\"], mean_estimated_parameters_current_test_mle_different_alphas[\"Mean Estimated Beta\"], linewidth = 1.5, markersize = 10, label = f\"Estimated Beta\", color = colors[i-1])\n",
    "    plt.plot([0], [real_beta], marker = \"x\", linewidth = 1.5, markersize = 10, label = f\"Real Beta\", color = colors[i-1])\n",
    "    #plt.legend(loc = 1,  prop={\"size\":8})\n",
    "plt.title(f\"Mean Estimated Beta vs Delta \")\n",
    "plt.xlabel(\"Delta\")\n",
    "plt.ylabel(\"Mean Estimated Beta\")\n",
    "plt.show()"
   ]
  },
  {
   "cell_type": "code",
   "execution_count": null,
   "metadata": {},
   "outputs": [],
   "source": []
  },
  {
   "cell_type": "code",
   "execution_count": null,
   "metadata": {},
   "outputs": [],
   "source": []
  },
  {
   "cell_type": "code",
   "execution_count": 99,
   "metadata": {},
   "outputs": [],
   "source": [
    "hawkes_mle = pd.read_csv(\"results.csv\")"
   ]
  },
  {
   "cell_type": "code",
   "execution_count": 100,
   "metadata": {},
   "outputs": [],
   "source": [
    "mean_estimated_parameters_results  = return_mean_estimated_parameters_by_each_test_per_delta(hawkes_mle)"
   ]
  },
  {
   "cell_type": "code",
   "execution_count": 102,
   "metadata": {},
   "outputs": [
    {
     "name": "stdout",
     "output_type": "stream",
     "text": [
      "10\n"
     ]
    },
    {
     "data": {
      "image/png": "[encoded data removed]",
      "text/plain": [
       "<Figure size 432x288 with 1 Axes>"
      ]
     },
     "metadata": {
      "needs_background": "light"
     },
     "output_type": "display_data"
    }
   ],
   "source": [
    "number_of_tests = hawkes_mle_data_experiment_different_alphas[\"Test Index\"].nunique()\n",
    "print(number_of_tests) \n",
    "\n",
    "\n",
    "for i in range(1, 10):\n",
    "    real_alpha = hawkes_mle_data_experiment_different_alphas[hawkes_mle_data_experiment_different_alphas[\"Test Index\"] == i][\"Real Alpha\"].values[0]\n",
    "    real_beta = hawkes_mle_data_experiment_different_alphas[hawkes_mle_data_experiment_different_alphas[\"Test Index\"] == i][\"Real Beta\"].values[0]\n",
    "    real_baseline = hawkes_mle_data_experiment_different_alphas[hawkes_mle_data_experiment_different_alphas[\"Test Index\"] == i][\"Real Baseline\"].values[0]\n",
    "    mean_estimated_parameters_results_current  = mean_estimated_parameters_results [mean_estimated_parameters_results [\"Test Index\"] == i]\n",
    "    plt.plot(mean_estimated_parameters_results_current[\"Delta\"], mean_estimated_parameters_results [\"Mean Estimated Alpha\"], linewidth = 1.5, markersize = 10, label = f\"Estimated Alpha\", color = colors[i-1])\n",
    "    plt.plot([0], [real_alpha], marker = \"x\", linewidth = 1.5, markersize = 10, label = f\"Real Alpha\", color = colors[i-1])\n",
    "    #plt.legend(loc = 1,  prop={\"size\":8})\n",
    "plt.title(f\"Mean Estimated Alpha vs Delta \")\n",
    "plt.xlabel(\"Delta\")\n",
    "plt.ylabel(\"Mean Estimated Alpha\")\n",
    "plt.show()"
   ]
  },
  {
   "cell_type": "code",
   "execution_count": null,
   "metadata": {},
   "outputs": [],
   "source": []
  }
 ],
 "metadata": {
  "kernelspec": {
   "display_name": "Python 3",
   "language": "python",
   "name": "python3"
  },
  "language_info": {
   "codemirror_mode": {
    "name": "ipython",
    "version": 3
   },
   "file_extension": ".py",
   "mimetype": "text/x-python",
   "name": "python",
   "nbconvert_exporter": "python",
   "pygments_lexer": "ipython3",
   "version": "3.8.3"
  }
 },
 "nbformat": 4,
 "nbformat_minor": 4
}
