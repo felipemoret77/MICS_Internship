{
 "cells": [
  {
   "cell_type": "code",
   "execution_count": 19,
   "metadata": {},
   "outputs": [],
   "source": [
    "import pandas as pd\n",
    "import datetime as dt\n",
    "import numpy as np\n",
    "import matplotlib.pyplot as plt\n",
    "\n",
    "pd.set_option('display.max_columns', None)\n",
    "pd.set_option('display.max_rows', None)"
   ]
  },
  {
   "cell_type": "markdown",
   "metadata": {},
   "source": [
    "**Obtaning Results for Both Methods - Whittle and MLE**"
   ]
  },
  {
   "cell_type": "code",
   "execution_count": 20,
   "metadata": {},
   "outputs": [],
   "source": [
    "results_both_methods = pd.read_csv(\"results_both.csv\")"
   ]
  },
  {
   "cell_type": "code",
   "execution_count": 21,
   "metadata": {},
   "outputs": [],
   "source": [
    "hawkes_whittle_data_experiment = results_both_methods[results_both_methods[\"Estimation Method\"] == \"whittle\"]"
   ]
  },
  {
   "cell_type": "code",
   "execution_count": 22,
   "metadata": {},
   "outputs": [],
   "source": [
    "hawkes_mle_data_experiment = results_both_methods[results_both_methods[\"Estimation Method\"] == \"mle\"]"
   ]
  },
  {
   "cell_type": "markdown",
   "metadata": {},
   "source": [
    "**Shape of the data**"
   ]
  },
  {
   "cell_type": "code",
   "execution_count": 23,
   "metadata": {},
   "outputs": [
    {
     "data": {
      "text/plain": [
       "(10000, 14)"
      ]
     },
     "execution_count": 23,
     "metadata": {},
     "output_type": "execute_result"
    }
   ],
   "source": [
    "hawkes_whittle_data_experiment.shape"
   ]
  },
  {
   "cell_type": "code",
   "execution_count": 24,
   "metadata": {},
   "outputs": [
    {
     "data": {
      "text/plain": [
       "(10000, 14)"
      ]
     },
     "execution_count": 24,
     "metadata": {},
     "output_type": "execute_result"
    }
   ],
   "source": [
    "hawkes_mle_data_experiment.shape"
   ]
  },
  {
   "cell_type": "markdown",
   "metadata": {},
   "source": [
    "**Type of the data**"
   ]
  },
  {
   "cell_type": "code",
   "execution_count": 25,
   "metadata": {},
   "outputs": [
    {
     "data": {
      "text/html": [
       "<div>\n",
       "<style scoped>\n",
       "    .dataframe tbody tr th:only-of-type {\n",
       "        vertical-align: middle;\n",
       "    }\n",
       "\n",
       "    .dataframe tbody tr th {\n",
       "        vertical-align: top;\n",
       "    }\n",
       "\n",
       "    .dataframe thead th {\n",
       "        text-align: right;\n",
       "    }\n",
       "</style>\n",
       "<table border=\"1\" class=\"dataframe\">\n",
       "  <thead>\n",
       "    <tr style=\"text-align: right;\">\n",
       "      <th></th>\n",
       "      <th>Test Index</th>\n",
       "      <th>Simulation Index</th>\n",
       "      <th>Real Alpha</th>\n",
       "      <th>Real Beta</th>\n",
       "      <th>Real Baseline</th>\n",
       "      <th>Real Endogeneity</th>\n",
       "      <th>Delta</th>\n",
       "      <th>Estimated Alpha</th>\n",
       "      <th>Estimated Beta</th>\n",
       "      <th>Estimated Baseline</th>\n",
       "      <th>Estimated Endogeneity</th>\n",
       "      <th>Duplicates</th>\n",
       "      <th>Estimation Method</th>\n",
       "      <th>Initial Estimation Point</th>\n",
       "    </tr>\n",
       "  </thead>\n",
       "  <tbody>\n",
       "    <tr>\n",
       "      <th>1</th>\n",
       "      <td>1</td>\n",
       "      <td>1</td>\n",
       "      <td>0.5</td>\n",
       "      <td>1.5</td>\n",
       "      <td>1</td>\n",
       "      <td>0.333333</td>\n",
       "      <td>0.00</td>\n",
       "      <td>0.522080</td>\n",
       "      <td>1.768558</td>\n",
       "      <td>0.878701</td>\n",
       "      <td>0.295201</td>\n",
       "      <td>randomize</td>\n",
       "      <td>whittle</td>\n",
       "      <td>original_parameters</td>\n",
       "    </tr>\n",
       "    <tr>\n",
       "      <th>3</th>\n",
       "      <td>1</td>\n",
       "      <td>1</td>\n",
       "      <td>0.5</td>\n",
       "      <td>1.5</td>\n",
       "      <td>1</td>\n",
       "      <td>0.333333</td>\n",
       "      <td>0.01</td>\n",
       "      <td>0.668241</td>\n",
       "      <td>6.872765</td>\n",
       "      <td>0.566943</td>\n",
       "      <td>0.097230</td>\n",
       "      <td>randomize</td>\n",
       "      <td>whittle</td>\n",
       "      <td>original_parameters</td>\n",
       "    </tr>\n",
       "    <tr>\n",
       "      <th>5</th>\n",
       "      <td>1</td>\n",
       "      <td>1</td>\n",
       "      <td>0.5</td>\n",
       "      <td>1.5</td>\n",
       "      <td>1</td>\n",
       "      <td>0.333333</td>\n",
       "      <td>0.02</td>\n",
       "      <td>0.362606</td>\n",
       "      <td>3.245419</td>\n",
       "      <td>6.188469</td>\n",
       "      <td>0.111729</td>\n",
       "      <td>randomize</td>\n",
       "      <td>whittle</td>\n",
       "      <td>original_parameters</td>\n",
       "    </tr>\n",
       "    <tr>\n",
       "      <th>7</th>\n",
       "      <td>1</td>\n",
       "      <td>1</td>\n",
       "      <td>0.5</td>\n",
       "      <td>1.5</td>\n",
       "      <td>1</td>\n",
       "      <td>0.333333</td>\n",
       "      <td>0.03</td>\n",
       "      <td>0.218853</td>\n",
       "      <td>1.317009</td>\n",
       "      <td>16.115908</td>\n",
       "      <td>0.166174</td>\n",
       "      <td>randomize</td>\n",
       "      <td>whittle</td>\n",
       "      <td>original_parameters</td>\n",
       "    </tr>\n",
       "    <tr>\n",
       "      <th>9</th>\n",
       "      <td>1</td>\n",
       "      <td>1</td>\n",
       "      <td>0.5</td>\n",
       "      <td>1.5</td>\n",
       "      <td>1</td>\n",
       "      <td>0.333333</td>\n",
       "      <td>0.04</td>\n",
       "      <td>0.344693</td>\n",
       "      <td>4.368350</td>\n",
       "      <td>11.287409</td>\n",
       "      <td>0.078907</td>\n",
       "      <td>randomize</td>\n",
       "      <td>whittle</td>\n",
       "      <td>original_parameters</td>\n",
       "    </tr>\n",
       "  </tbody>\n",
       "</table>\n",
       "</div>"
      ],
      "text/plain": [
       "   Test Index  Simulation Index  Real Alpha  Real Beta  Real Baseline  \\\n",
       "1           1                 1         0.5        1.5              1   \n",
       "3           1                 1         0.5        1.5              1   \n",
       "5           1                 1         0.5        1.5              1   \n",
       "7           1                 1         0.5        1.5              1   \n",
       "9           1                 1         0.5        1.5              1   \n",
       "\n",
       "   Real Endogeneity  Delta  Estimated Alpha  Estimated Beta  \\\n",
       "1          0.333333   0.00         0.522080        1.768558   \n",
       "3          0.333333   0.01         0.668241        6.872765   \n",
       "5          0.333333   0.02         0.362606        3.245419   \n",
       "7          0.333333   0.03         0.218853        1.317009   \n",
       "9          0.333333   0.04         0.344693        4.368350   \n",
       "\n",
       "   Estimated Baseline  Estimated Endogeneity Duplicates Estimation Method  \\\n",
       "1            0.878701               0.295201  randomize           whittle   \n",
       "3            0.566943               0.097230  randomize           whittle   \n",
       "5            6.188469               0.111729  randomize           whittle   \n",
       "7           16.115908               0.166174  randomize           whittle   \n",
       "9           11.287409               0.078907  randomize           whittle   \n",
       "\n",
       "  Initial Estimation Point  \n",
       "1      original_parameters  \n",
       "3      original_parameters  \n",
       "5      original_parameters  \n",
       "7      original_parameters  \n",
       "9      original_parameters  "
      ]
     },
     "execution_count": 25,
     "metadata": {},
     "output_type": "execute_result"
    }
   ],
   "source": [
    "hawkes_whittle_data_experiment.head()"
   ]
  },
  {
   "cell_type": "code",
   "execution_count": 26,
   "metadata": {},
   "outputs": [
    {
     "data": {
      "text/html": [
       "<div>\n",
       "<style scoped>\n",
       "    .dataframe tbody tr th:only-of-type {\n",
       "        vertical-align: middle;\n",
       "    }\n",
       "\n",
       "    .dataframe tbody tr th {\n",
       "        vertical-align: top;\n",
       "    }\n",
       "\n",
       "    .dataframe thead th {\n",
       "        text-align: right;\n",
       "    }\n",
       "</style>\n",
       "<table border=\"1\" class=\"dataframe\">\n",
       "  <thead>\n",
       "    <tr style=\"text-align: right;\">\n",
       "      <th></th>\n",
       "      <th>Test Index</th>\n",
       "      <th>Simulation Index</th>\n",
       "      <th>Real Alpha</th>\n",
       "      <th>Real Beta</th>\n",
       "      <th>Real Baseline</th>\n",
       "      <th>Real Endogeneity</th>\n",
       "      <th>Delta</th>\n",
       "      <th>Estimated Alpha</th>\n",
       "      <th>Estimated Beta</th>\n",
       "      <th>Estimated Baseline</th>\n",
       "      <th>Estimated Endogeneity</th>\n",
       "      <th>Duplicates</th>\n",
       "      <th>Estimation Method</th>\n",
       "      <th>Initial Estimation Point</th>\n",
       "    </tr>\n",
       "  </thead>\n",
       "  <tbody>\n",
       "    <tr>\n",
       "      <th>0</th>\n",
       "      <td>1</td>\n",
       "      <td>1</td>\n",
       "      <td>0.5</td>\n",
       "      <td>1.5</td>\n",
       "      <td>1</td>\n",
       "      <td>0.333333</td>\n",
       "      <td>0.00</td>\n",
       "      <td>0.508785</td>\n",
       "      <td>1.484766</td>\n",
       "      <td>1.009655</td>\n",
       "      <td>0.342670</td>\n",
       "      <td>randomize</td>\n",
       "      <td>mle</td>\n",
       "      <td>original_parameters</td>\n",
       "    </tr>\n",
       "    <tr>\n",
       "      <th>2</th>\n",
       "      <td>1</td>\n",
       "      <td>1</td>\n",
       "      <td>0.5</td>\n",
       "      <td>1.5</td>\n",
       "      <td>1</td>\n",
       "      <td>0.333333</td>\n",
       "      <td>0.01</td>\n",
       "      <td>0.508703</td>\n",
       "      <td>1.485801</td>\n",
       "      <td>1.009824</td>\n",
       "      <td>0.342376</td>\n",
       "      <td>randomize</td>\n",
       "      <td>mle</td>\n",
       "      <td>original_parameters</td>\n",
       "    </tr>\n",
       "    <tr>\n",
       "      <th>4</th>\n",
       "      <td>1</td>\n",
       "      <td>1</td>\n",
       "      <td>0.5</td>\n",
       "      <td>1.5</td>\n",
       "      <td>1</td>\n",
       "      <td>0.333333</td>\n",
       "      <td>0.02</td>\n",
       "      <td>0.508634</td>\n",
       "      <td>1.487221</td>\n",
       "      <td>1.009967</td>\n",
       "      <td>0.342003</td>\n",
       "      <td>randomize</td>\n",
       "      <td>mle</td>\n",
       "      <td>original_parameters</td>\n",
       "    </tr>\n",
       "    <tr>\n",
       "      <th>6</th>\n",
       "      <td>1</td>\n",
       "      <td>1</td>\n",
       "      <td>0.5</td>\n",
       "      <td>1.5</td>\n",
       "      <td>1</td>\n",
       "      <td>0.333333</td>\n",
       "      <td>0.03</td>\n",
       "      <td>0.508235</td>\n",
       "      <td>1.490947</td>\n",
       "      <td>1.010786</td>\n",
       "      <td>0.340881</td>\n",
       "      <td>randomize</td>\n",
       "      <td>mle</td>\n",
       "      <td>original_parameters</td>\n",
       "    </tr>\n",
       "    <tr>\n",
       "      <th>8</th>\n",
       "      <td>1</td>\n",
       "      <td>1</td>\n",
       "      <td>0.5</td>\n",
       "      <td>1.5</td>\n",
       "      <td>1</td>\n",
       "      <td>0.333333</td>\n",
       "      <td>0.04</td>\n",
       "      <td>0.507734</td>\n",
       "      <td>1.496056</td>\n",
       "      <td>1.011816</td>\n",
       "      <td>0.339382</td>\n",
       "      <td>randomize</td>\n",
       "      <td>mle</td>\n",
       "      <td>original_parameters</td>\n",
       "    </tr>\n",
       "  </tbody>\n",
       "</table>\n",
       "</div>"
      ],
      "text/plain": [
       "   Test Index  Simulation Index  Real Alpha  Real Beta  Real Baseline  \\\n",
       "0           1                 1         0.5        1.5              1   \n",
       "2           1                 1         0.5        1.5              1   \n",
       "4           1                 1         0.5        1.5              1   \n",
       "6           1                 1         0.5        1.5              1   \n",
       "8           1                 1         0.5        1.5              1   \n",
       "\n",
       "   Real Endogeneity  Delta  Estimated Alpha  Estimated Beta  \\\n",
       "0          0.333333   0.00         0.508785        1.484766   \n",
       "2          0.333333   0.01         0.508703        1.485801   \n",
       "4          0.333333   0.02         0.508634        1.487221   \n",
       "6          0.333333   0.03         0.508235        1.490947   \n",
       "8          0.333333   0.04         0.507734        1.496056   \n",
       "\n",
       "   Estimated Baseline  Estimated Endogeneity Duplicates Estimation Method  \\\n",
       "0            1.009655               0.342670  randomize               mle   \n",
       "2            1.009824               0.342376  randomize               mle   \n",
       "4            1.009967               0.342003  randomize               mle   \n",
       "6            1.010786               0.340881  randomize               mle   \n",
       "8            1.011816               0.339382  randomize               mle   \n",
       "\n",
       "  Initial Estimation Point  \n",
       "0      original_parameters  \n",
       "2      original_parameters  \n",
       "4      original_parameters  \n",
       "6      original_parameters  \n",
       "8      original_parameters  "
      ]
     },
     "execution_count": 26,
     "metadata": {},
     "output_type": "execute_result"
    }
   ],
   "source": [
    "hawkes_mle_data_experiment.head()"
   ]
  },
  {
   "cell_type": "markdown",
   "metadata": {},
   "source": [
    "**Plotting the mean of estimated values for each test for each delta value**"
   ]
  },
  {
   "cell_type": "code",
   "execution_count": 27,
   "metadata": {},
   "outputs": [],
   "source": [
    "def return_mean_estimated_parameters_by_each_test_per_delta(hawkes_data_experiment):\n",
    "    number_of_tests = hawkes_data_experiment[\"Test Index\"].nunique()\n",
    "    number_of_deltas = hawkes_data_experiment[\"Simulation Index\"].nunique()\n",
    "    different_deltas = hawkes_data_experiment[\"Delta\"].unique()\n",
    "    print(f\"Deltas Values: {different_deltas}\")\n",
    "\n",
    "    mean_estimated_parameters_by_test_per_delta = pd.DataFrame(columns = [\"Test Index\", \"Delta\", \"Mean Estimated Baseline\", \"Mean Estimated Alpha\", \"Mean Estimated Beta\", \"Max Estimated Baseline\", \"Max Estimated Alpha\", \"Max Estimated Beta\", \"Min Estimated Baseline\", \"Min Estimated Alpha\", \"Min Estimated Beta\",\"Std Estimated Baseline\", \"Std Estimated Alpha\", \"Std Estimated Beta\"])\n",
    "    \n",
    "    for i in range(1,number_of_tests + 1):\n",
    "        current_test = hawkes_data_experiment[hawkes_data_experiment[\"Test Index\"] == i]\n",
    "        for delta in different_deltas:\n",
    "            current_test_for_this_delta = current_test[current_test[\"Delta\"] == delta]\n",
    "            current_estimated_mean_alpha = current_test_for_this_delta[\"Estimated Alpha\"].mean()\n",
    "            current_estimated_mean_beta = current_test_for_this_delta[\"Estimated Beta\"].mean()\n",
    "            current_estimated_mean_baseline = current_test_for_this_delta[\"Estimated Baseline\"].mean()\n",
    "            current_max_estimated_alpha = current_test_for_this_delta[\"Estimated Alpha\"].max()\n",
    "            current_max_estimated_beta = current_test_for_this_delta[\"Estimated Beta\"].max()\n",
    "            current_max_estimated_baseline = current_test_for_this_delta[\"Estimated Baseline\"].max()\n",
    "            current_min_estimated_alpha = current_test_for_this_delta[\"Estimated Alpha\"].min()\n",
    "            current_min_estimated_beta = current_test_for_this_delta[\"Estimated Beta\"].min()\n",
    "            current_min_estimated_baseline = current_test_for_this_delta[\"Estimated Baseline\"].min()\n",
    "            current_std_estimated_baseline = current_test_for_this_delta[\"Estimated Baseline\"].std()\n",
    "            current_std_estimated_alpha = current_test_for_this_delta[\"Estimated Alpha\"].std()\n",
    "            current_std_estimated_beta = current_test_for_this_delta[\"Estimated Beta\"].std()\n",
    "            to_append = [i, delta, current_estimated_mean_baseline, current_estimated_mean_alpha, current_estimated_mean_beta, current_max_estimated_baseline, current_max_estimated_alpha, current_max_estimated_beta, current_min_estimated_baseline, current_min_estimated_alpha, current_min_estimated_beta, current_std_estimated_baseline, current_std_estimated_alpha, current_std_estimated_beta]\n",
    "            to_append_series = pd.Series(to_append, index = mean_estimated_parameters_by_test_per_delta.columns)\n",
    "            mean_estimated_parameters_by_test_per_delta = mean_estimated_parameters_by_test_per_delta.append(to_append_series, ignore_index = True)\n",
    "            \n",
    "    return mean_estimated_parameters_by_test_per_delta \n",
    "       "
   ]
  },
  {
   "cell_type": "code",
   "execution_count": 28,
   "metadata": {},
   "outputs": [
    {
     "name": "stdout",
     "output_type": "stream",
     "text": [
      "Deltas Values: [0.   0.01 0.02 0.03 0.04 0.06 0.07 0.08 0.09 0.1 ]\n"
     ]
    }
   ],
   "source": [
    "mean_estimated_parameters_by_test_per_delta_mle  = return_mean_estimated_parameters_by_each_test_per_delta(hawkes_mle_data_experiment)"
   ]
  },
  {
   "cell_type": "code",
   "execution_count": 29,
   "metadata": {},
   "outputs": [
    {
     "data": {
      "text/html": [
       "<div>\n",
       "<style scoped>\n",
       "    .dataframe tbody tr th:only-of-type {\n",
       "        vertical-align: middle;\n",
       "    }\n",
       "\n",
       "    .dataframe tbody tr th {\n",
       "        vertical-align: top;\n",
       "    }\n",
       "\n",
       "    .dataframe thead th {\n",
       "        text-align: right;\n",
       "    }\n",
       "</style>\n",
       "<table border=\"1\" class=\"dataframe\">\n",
       "  <thead>\n",
       "    <tr style=\"text-align: right;\">\n",
       "      <th></th>\n",
       "      <th>Test Index</th>\n",
       "      <th>Delta</th>\n",
       "      <th>Mean Estimated Baseline</th>\n",
       "      <th>Mean Estimated Alpha</th>\n",
       "      <th>Mean Estimated Beta</th>\n",
       "      <th>Max Estimated Baseline</th>\n",
       "      <th>Max Estimated Alpha</th>\n",
       "      <th>Max Estimated Beta</th>\n",
       "      <th>Min Estimated Baseline</th>\n",
       "      <th>Min Estimated Alpha</th>\n",
       "      <th>Min Estimated Beta</th>\n",
       "      <th>Std Estimated Baseline</th>\n",
       "      <th>Std Estimated Alpha</th>\n",
       "      <th>Std Estimated Beta</th>\n",
       "    </tr>\n",
       "  </thead>\n",
       "  <tbody>\n",
       "    <tr>\n",
       "      <th>0</th>\n",
       "      <td>1.0</td>\n",
       "      <td>0.00</td>\n",
       "      <td>1.001038</td>\n",
       "      <td>0.499407</td>\n",
       "      <td>1.498778</td>\n",
       "      <td>1.075446</td>\n",
       "      <td>0.539359</td>\n",
       "      <td>1.678770</td>\n",
       "      <td>0.938476</td>\n",
       "      <td>0.462267</td>\n",
       "      <td>1.264340</td>\n",
       "      <td>0.021349</td>\n",
       "      <td>0.010585</td>\n",
       "      <td>0.053701</td>\n",
       "    </tr>\n",
       "    <tr>\n",
       "      <th>1</th>\n",
       "      <td>1.0</td>\n",
       "      <td>0.01</td>\n",
       "      <td>1.001179</td>\n",
       "      <td>0.499336</td>\n",
       "      <td>1.499649</td>\n",
       "      <td>1.075563</td>\n",
       "      <td>0.539346</td>\n",
       "      <td>1.679055</td>\n",
       "      <td>0.938641</td>\n",
       "      <td>0.462208</td>\n",
       "      <td>1.264536</td>\n",
       "      <td>0.021353</td>\n",
       "      <td>0.010588</td>\n",
       "      <td>0.053792</td>\n",
       "    </tr>\n",
       "    <tr>\n",
       "      <th>2</th>\n",
       "      <td>1.0</td>\n",
       "      <td>0.02</td>\n",
       "      <td>1.001595</td>\n",
       "      <td>0.499128</td>\n",
       "      <td>1.502232</td>\n",
       "      <td>1.076317</td>\n",
       "      <td>0.538963</td>\n",
       "      <td>1.682755</td>\n",
       "      <td>0.938825</td>\n",
       "      <td>0.461831</td>\n",
       "      <td>1.268001</td>\n",
       "      <td>0.021387</td>\n",
       "      <td>0.010605</td>\n",
       "      <td>0.054078</td>\n",
       "    </tr>\n",
       "    <tr>\n",
       "      <th>3</th>\n",
       "      <td>1.0</td>\n",
       "      <td>0.03</td>\n",
       "      <td>1.002299</td>\n",
       "      <td>0.498776</td>\n",
       "      <td>1.506646</td>\n",
       "      <td>1.077242</td>\n",
       "      <td>0.538721</td>\n",
       "      <td>1.689218</td>\n",
       "      <td>0.939691</td>\n",
       "      <td>0.461369</td>\n",
       "      <td>1.271123</td>\n",
       "      <td>0.021406</td>\n",
       "      <td>0.010612</td>\n",
       "      <td>0.054360</td>\n",
       "    </tr>\n",
       "    <tr>\n",
       "      <th>4</th>\n",
       "      <td>1.0</td>\n",
       "      <td>0.04</td>\n",
       "      <td>1.003292</td>\n",
       "      <td>0.498280</td>\n",
       "      <td>1.512864</td>\n",
       "      <td>1.077580</td>\n",
       "      <td>0.538349</td>\n",
       "      <td>1.699379</td>\n",
       "      <td>0.940826</td>\n",
       "      <td>0.461200</td>\n",
       "      <td>1.272537</td>\n",
       "      <td>0.021478</td>\n",
       "      <td>0.010639</td>\n",
       "      <td>0.055093</td>\n",
       "    </tr>\n",
       "  </tbody>\n",
       "</table>\n",
       "</div>"
      ],
      "text/plain": [
       "   Test Index  Delta  Mean Estimated Baseline  Mean Estimated Alpha  \\\n",
       "0         1.0   0.00                 1.001038              0.499407   \n",
       "1         1.0   0.01                 1.001179              0.499336   \n",
       "2         1.0   0.02                 1.001595              0.499128   \n",
       "3         1.0   0.03                 1.002299              0.498776   \n",
       "4         1.0   0.04                 1.003292              0.498280   \n",
       "\n",
       "   Mean Estimated Beta  Max Estimated Baseline  Max Estimated Alpha  \\\n",
       "0             1.498778                1.075446             0.539359   \n",
       "1             1.499649                1.075563             0.539346   \n",
       "2             1.502232                1.076317             0.538963   \n",
       "3             1.506646                1.077242             0.538721   \n",
       "4             1.512864                1.077580             0.538349   \n",
       "\n",
       "   Max Estimated Beta  Min Estimated Baseline  Min Estimated Alpha  \\\n",
       "0            1.678770                0.938476             0.462267   \n",
       "1            1.679055                0.938641             0.462208   \n",
       "2            1.682755                0.938825             0.461831   \n",
       "3            1.689218                0.939691             0.461369   \n",
       "4            1.699379                0.940826             0.461200   \n",
       "\n",
       "   Min Estimated Beta  Std Estimated Baseline  Std Estimated Alpha  \\\n",
       "0            1.264340                0.021349             0.010585   \n",
       "1            1.264536                0.021353             0.010588   \n",
       "2            1.268001                0.021387             0.010605   \n",
       "3            1.271123                0.021406             0.010612   \n",
       "4            1.272537                0.021478             0.010639   \n",
       "\n",
       "   Std Estimated Beta  \n",
       "0            0.053701  \n",
       "1            0.053792  \n",
       "2            0.054078  \n",
       "3            0.054360  \n",
       "4            0.055093  "
      ]
     },
     "execution_count": 29,
     "metadata": {},
     "output_type": "execute_result"
    }
   ],
   "source": [
    "mean_estimated_parameters_by_test_per_delta_mle.head()"
   ]
  },
  {
   "cell_type": "code",
   "execution_count": 30,
   "metadata": {},
   "outputs": [
    {
     "name": "stdout",
     "output_type": "stream",
     "text": [
      "Deltas Values: [0.   0.01 0.02 0.03 0.04 0.06 0.07 0.08 0.09 0.1 ]\n"
     ]
    }
   ],
   "source": [
    "mean_estimated_parameters_by_test_per_delta_whittle  = return_mean_estimated_parameters_by_each_test_per_delta(hawkes_whittle_data_experiment)"
   ]
  },
  {
   "cell_type": "code",
   "execution_count": 31,
   "metadata": {},
   "outputs": [
    {
     "data": {
      "text/html": [
       "<div>\n",
       "<style scoped>\n",
       "    .dataframe tbody tr th:only-of-type {\n",
       "        vertical-align: middle;\n",
       "    }\n",
       "\n",
       "    .dataframe tbody tr th {\n",
       "        vertical-align: top;\n",
       "    }\n",
       "\n",
       "    .dataframe thead th {\n",
       "        text-align: right;\n",
       "    }\n",
       "</style>\n",
       "<table border=\"1\" class=\"dataframe\">\n",
       "  <thead>\n",
       "    <tr style=\"text-align: right;\">\n",
       "      <th></th>\n",
       "      <th>Test Index</th>\n",
       "      <th>Delta</th>\n",
       "      <th>Mean Estimated Baseline</th>\n",
       "      <th>Mean Estimated Alpha</th>\n",
       "      <th>Mean Estimated Beta</th>\n",
       "      <th>Max Estimated Baseline</th>\n",
       "      <th>Max Estimated Alpha</th>\n",
       "      <th>Max Estimated Beta</th>\n",
       "      <th>Min Estimated Baseline</th>\n",
       "      <th>Min Estimated Alpha</th>\n",
       "      <th>Min Estimated Beta</th>\n",
       "      <th>Std Estimated Baseline</th>\n",
       "      <th>Std Estimated Alpha</th>\n",
       "      <th>Std Estimated Beta</th>\n",
       "    </tr>\n",
       "  </thead>\n",
       "  <tbody>\n",
       "    <tr>\n",
       "      <th>0</th>\n",
       "      <td>1.0</td>\n",
       "      <td>0.00</td>\n",
       "      <td>1.056531</td>\n",
       "      <td>0.490811</td>\n",
       "      <td>1.456062</td>\n",
       "      <td>1.260575</td>\n",
       "      <td>0.537053</td>\n",
       "      <td>1.924628</td>\n",
       "      <td>0.862852</td>\n",
       "      <td>0.447054</td>\n",
       "      <td>1.094435</td>\n",
       "      <td>0.068319</td>\n",
       "      <td>0.014722</td>\n",
       "      <td>0.131227</td>\n",
       "    </tr>\n",
       "    <tr>\n",
       "      <th>1</th>\n",
       "      <td>1.0</td>\n",
       "      <td>0.01</td>\n",
       "      <td>2.057036</td>\n",
       "      <td>0.501224</td>\n",
       "      <td>3.197135</td>\n",
       "      <td>3.714857</td>\n",
       "      <td>0.818231</td>\n",
       "      <td>13.856923</td>\n",
       "      <td>0.083667</td>\n",
       "      <td>0.404587</td>\n",
       "      <td>1.512480</td>\n",
       "      <td>0.601167</td>\n",
       "      <td>0.054264</td>\n",
       "      <td>1.163572</td>\n",
       "    </tr>\n",
       "    <tr>\n",
       "      <th>2</th>\n",
       "      <td>1.0</td>\n",
       "      <td>0.02</td>\n",
       "      <td>3.045214</td>\n",
       "      <td>0.540865</td>\n",
       "      <td>6.533689</td>\n",
       "      <td>8.492560</td>\n",
       "      <td>0.837090</td>\n",
       "      <td>18.823854</td>\n",
       "      <td>0.112040</td>\n",
       "      <td>0.287670</td>\n",
       "      <td>1.438538</td>\n",
       "      <td>2.147849</td>\n",
       "      <td>0.147155</td>\n",
       "      <td>4.519988</td>\n",
       "    </tr>\n",
       "    <tr>\n",
       "      <th>3</th>\n",
       "      <td>1.0</td>\n",
       "      <td>0.03</td>\n",
       "      <td>5.996238</td>\n",
       "      <td>0.475320</td>\n",
       "      <td>6.812268</td>\n",
       "      <td>16.711485</td>\n",
       "      <td>0.822457</td>\n",
       "      <td>19.845477</td>\n",
       "      <td>0.189236</td>\n",
       "      <td>0.179551</td>\n",
       "      <td>0.847130</td>\n",
       "      <td>3.791170</td>\n",
       "      <td>0.168367</td>\n",
       "      <td>5.139499</td>\n",
       "    </tr>\n",
       "    <tr>\n",
       "      <th>4</th>\n",
       "      <td>1.0</td>\n",
       "      <td>0.04</td>\n",
       "      <td>10.005715</td>\n",
       "      <td>0.409185</td>\n",
       "      <td>6.435998</td>\n",
       "      <td>24.009554</td>\n",
       "      <td>0.816950</td>\n",
       "      <td>21.003980</td>\n",
       "      <td>0.293215</td>\n",
       "      <td>0.163918</td>\n",
       "      <td>0.313355</td>\n",
       "      <td>5.475513</td>\n",
       "      <td>0.162104</td>\n",
       "      <td>4.751925</td>\n",
       "    </tr>\n",
       "  </tbody>\n",
       "</table>\n",
       "</div>"
      ],
      "text/plain": [
       "   Test Index  Delta  Mean Estimated Baseline  Mean Estimated Alpha  \\\n",
       "0         1.0   0.00                 1.056531              0.490811   \n",
       "1         1.0   0.01                 2.057036              0.501224   \n",
       "2         1.0   0.02                 3.045214              0.540865   \n",
       "3         1.0   0.03                 5.996238              0.475320   \n",
       "4         1.0   0.04                10.005715              0.409185   \n",
       "\n",
       "   Mean Estimated Beta  Max Estimated Baseline  Max Estimated Alpha  \\\n",
       "0             1.456062                1.260575             0.537053   \n",
       "1             3.197135                3.714857             0.818231   \n",
       "2             6.533689                8.492560             0.837090   \n",
       "3             6.812268               16.711485             0.822457   \n",
       "4             6.435998               24.009554             0.816950   \n",
       "\n",
       "   Max Estimated Beta  Min Estimated Baseline  Min Estimated Alpha  \\\n",
       "0            1.924628                0.862852             0.447054   \n",
       "1           13.856923                0.083667             0.404587   \n",
       "2           18.823854                0.112040             0.287670   \n",
       "3           19.845477                0.189236             0.179551   \n",
       "4           21.003980                0.293215             0.163918   \n",
       "\n",
       "   Min Estimated Beta  Std Estimated Baseline  Std Estimated Alpha  \\\n",
       "0            1.094435                0.068319             0.014722   \n",
       "1            1.512480                0.601167             0.054264   \n",
       "2            1.438538                2.147849             0.147155   \n",
       "3            0.847130                3.791170             0.168367   \n",
       "4            0.313355                5.475513             0.162104   \n",
       "\n",
       "   Std Estimated Beta  \n",
       "0            0.131227  \n",
       "1            1.163572  \n",
       "2            4.519988  \n",
       "3            5.139499  \n",
       "4            4.751925  "
      ]
     },
     "execution_count": 31,
     "metadata": {},
     "output_type": "execute_result"
    }
   ],
   "source": [
    "mean_estimated_parameters_by_test_per_delta_whittle.head()"
   ]
  },
  {
   "cell_type": "markdown",
   "metadata": {},
   "source": [
    "**Plotting mean of estimated $\\alpha$ for each test vs $\\delta$**"
   ]
  },
  {
   "cell_type": "code",
   "execution_count": 33,
   "metadata": {},
   "outputs": [
    {
     "data": {
      "image/png": "[encoded data removed]",
      "text/plain": [
       "<Figure size 432x288 with 1 Axes>"
      ]
     },
     "metadata": {
      "needs_background": "light"
     },
     "output_type": "display_data"
    }
   ],
   "source": [
    "number_of_tests = hawkes_mle_data_experiment[\"Test Index\"].nunique()\n",
    "\n",
    "\n",
    "for i in range(1, number_of_tests + 1):\n",
    "    real_alpha = hawkes_mle_data_experiment[hawkes_mle_data_experiment[\"Test Index\"] == i][\"Real Alpha\"].values[0]\n",
    "    real_beta = hawkes_mle_data_experiment[hawkes_mle_data_experiment[\"Test Index\"] == i][\"Real Beta\"].values[0]\n",
    "    real_baseline = hawkes_mle_data_experiment[hawkes_mle_data_experiment[\"Test Index\"] == i][\"Real Baseline\"].values[0]\n",
    "    mean_estimated_parameters_current_test_mle = mean_estimated_parameters_by_test_per_delta_mle[mean_estimated_parameters_by_test_per_delta_mle[\"Test Index\"] == i]\n",
    "    mean_estimated_parameters_current_test_whittle = mean_estimated_parameters_by_test_per_delta_whittle[mean_estimated_parameters_by_test_per_delta_whittle[\"Test Index\"] == i]\n",
    "    #plt.plot(mean_estimated_parameters_current_test_mle[\"Delta\"], mean_estimated_parameters_current_test_mle[\"Mean Estimated Alpha\"], linewidth = 1.5, markersize = 10, label = \"Estimated Mean Alpha - Mle\")\n",
    "    #plt.plot(mean_estimated_parameters_current_test_whittle[\"Delta\"], mean_estimated_parameters_current_test_whittle[\"Mean Estimated Alpha\"], linewidth = 1.5, markersize = 10, label = \"Estimated Mean Alpha - Whittle\")\n",
    "    plt.errorbar(mean_estimated_parameters_current_test_mle[\"Delta\"], mean_estimated_parameters_current_test_mle[\"Mean Estimated Alpha\"] , yerr = mean_estimated_parameters_current_test_mle[\"Std Estimated Alpha\"] , fmt='--o', label = \"Estimated Mean Alpha - MLE\")\n",
    "    ##plt.errorbar(mean_estimated_parameters_current_test_whittle[\"Delta\"], mean_estimated_parameters_current_test_whittle[\"Mean Estimated Alpha\"] , yerr = mean_estimated_parameters_current_test_whittle[\"Std Estimated Alpha\"] , fmt='--o', label = \"Estimated Mean Alpha - Whittle\")\n",
    "    plt.plot([0], [real_alpha], marker = \"x\", linewidth = 1.5, markersize = 10, label = f\"Real Alpha = {real_alpha}\", color = 'r')\n",
    "    plt.title(f\"Mean Estimated Alpha vs Delta - Test {i}\")\n",
    "    plt.xlabel(\"Delta\")\n",
    "    plt.ylabel(\"Mean Estimated Alpha\")\n",
    "    plt.legend(loc =  1,  prop={\"size\":8})\n",
    "    plt.show()"
   ]
  },
  {
   "cell_type": "markdown",
   "metadata": {},
   "source": [
    "**Plotting mean of estimated $\\beta$ for each test vs $\\delta$**"
   ]
  },
  {
   "cell_type": "code",
   "execution_count": 34,
   "metadata": {},
   "outputs": [
    {
     "data": {
      "image/png": "[encoded data removed]",
      "text/plain": [
       "<Figure size 432x288 with 1 Axes>"
      ]
     },
     "metadata": {
      "needs_background": "light"
     },
     "output_type": "display_data"
    }
   ],
   "source": [
    "number_of_tests = hawkes_mle_data_experiment[\"Test Index\"].nunique()\n",
    "\n",
    "for i in range(1, number_of_tests + 1):\n",
    "    real_alpha = hawkes_mle_data_experiment[hawkes_mle_data_experiment[\"Test Index\"] == i][\"Real Alpha\"].values[0]\n",
    "    real_beta = hawkes_mle_data_experiment[hawkes_mle_data_experiment[\"Test Index\"] == i][\"Real Beta\"].values[0]\n",
    "    real_baseline = hawkes_mle_data_experiment[hawkes_mle_data_experiment[\"Test Index\"] == i][\"Real Baseline\"].values[0]\n",
    "    mean_estimated_parameters_current_test_mle = mean_estimated_parameters_by_test_per_delta_mle[mean_estimated_parameters_by_test_per_delta_mle[\"Test Index\"] == i]\n",
    "    mean_estimated_parameters_current_test_whittle = mean_estimated_parameters_by_test_per_delta_whittle[mean_estimated_parameters_by_test_per_delta_whittle[\"Test Index\"] == i]\n",
    "    ##plt.plot(mean_estimated_parameters_current_test_mle[\"Delta\"], mean_estimated_parameters_current_test_mle[\"Mean Estimated Beta\"], linewidth = 1.5, markersize = 10, label = \"Estimated Mean Alpha - Mle\")\n",
    "    ##plt.plot(mean_estimated_parameters_current_test_whittle[\"Delta\"], mean_estimated_parameters_current_test_whittle[\"Mean Estimated Beta\"], linewidth = 1.5, markersize = 10, label = \"Estimated Mean Alpha - Whittle\")\n",
    "    plt.errorbar(mean_estimated_parameters_current_test_mle[\"Delta\"], mean_estimated_parameters_current_test_mle[\"Mean Estimated Beta\"] , yerr = mean_estimated_parameters_current_test_mle[\"Std Estimated Beta\"] , fmt='--o', label = \"Estimated Mean Beta - MLE\")\n",
    "    ##plt.errorbar(mean_estimated_parameters_current_test_whittle[\"Delta\"], mean_estimated_parameters_current_test_whittle[\"Mean Estimated Beta\"] , yerr = mean_estimated_parameters_current_test_whittle[\"Std Estimated Beta\"] , fmt='--o', label = \"Estimated Mean Beta - Whittle\")\n",
    "    plt.plot([0], [real_beta], marker = \"x\", linewidth = 1.5, markersize = 10, label = f\"Real Beta = {real_beta}\", color = 'r')\n",
    "    plt.title(f\"Mean Estimated Beta vs Delta - Test {i}\")\n",
    "    plt.xlabel(\"Delta\")\n",
    "    plt.ylabel(\"Mean Estimated Beta\")\n",
    "    plt.yscale('log')\n",
    "    plt.xscale('log')\n",
    "    plt.legend(loc =  1,  prop={\"size\":8})\n",
    "    plt.show()\n",
    "\n"
   ]
  },
  {
   "cell_type": "markdown",
   "metadata": {},
   "source": [
    "**Plotting mean of estimated $\\lambda_{0}$ for each test vs $\\delta$**"
   ]
  },
  {
   "cell_type": "code",
   "execution_count": 35,
   "metadata": {},
   "outputs": [
    {
     "data": {
      "image/png": "[encoded data removed]",
      "text/plain": [
       "<Figure size 432x288 with 1 Axes>"
      ]
     },
     "metadata": {
      "needs_background": "light"
     },
     "output_type": "display_data"
    }
   ],
   "source": [
    "number_of_tests = hawkes_mle_data_experiment[\"Test Index\"].nunique()\n",
    "\n",
    "for i in range(1, number_of_tests + 1):\n",
    "    real_alpha = hawkes_mle_data_experiment[hawkes_mle_data_experiment[\"Test Index\"] == i][\"Real Alpha\"].values[0]\n",
    "    real_beta = hawkes_mle_data_experiment[hawkes_mle_data_experiment[\"Test Index\"] == i][\"Real Beta\"].values[0]\n",
    "    real_baseline = hawkes_mle_data_experiment[hawkes_mle_data_experiment[\"Test Index\"] == i][\"Real Baseline\"].values[0]\n",
    "    mean_estimated_parameters_current_test_mle = mean_estimated_parameters_by_test_per_delta_mle[mean_estimated_parameters_by_test_per_delta_mle[\"Test Index\"] == i]\n",
    "    mean_estimated_parameters_current_test_whittle = mean_estimated_parameters_by_test_per_delta_whittle[mean_estimated_parameters_by_test_per_delta_whittle[\"Test Index\"] == i]\n",
    "    ##plt.plot(mean_estimated_parameters_current_test_mle[\"Delta\"], mean_estimated_parameters_current_test_mle[\"Mean Estimated Alpha\"], linewidth = 1.5, markersize = 10, label = \"Estimated Mean Alpha - Mle\")\n",
    "    ##plt.plot(mean_estimated_parameters_current_test_whittle[\"Delta\"], mean_estimated_parameters_current_test_whittle[\"Mean Estimated Alpha\"], linewidth = 1.5, markersize = 10, label = \"Estimated Mean Alpha - Whittle\")\n",
    "    plt.errorbar(mean_estimated_parameters_current_test_mle[\"Delta\"][:30], mean_estimated_parameters_current_test_mle[\"Mean Estimated Baseline\"][:30] , yerr = mean_estimated_parameters_current_test_mle[\"Std Estimated Baseline\"][:30] , fmt='--o', label = \"Estimated Mean Baseline - MLE\")\n",
    "    ##plt.errorbar(mean_estimated_parameters_current_test_whittle[\"Delta\"][:30], mean_estimated_parameters_current_test_whittle[\"Mean Estimated Baseline\"][:30] , yerr = mean_estimated_parameters_current_test_whittle[\"Std Estimated Baseline\"][:30] , fmt='--o', label = \"Estimated Mean Baseline - Whittle\")\n",
    "    plt.plot([0], [real_baseline], marker = \"x\", linewidth = 1.5, markersize = 10, label = f\"Real Baseline = {real_baseline}\", color = 'r')\n",
    "    plt.title(f\"Mean Estimated Baseline vs Delta - Test {i}\")\n",
    "    plt.xlabel(\"Delta\")\n",
    "    plt.ylabel(\"Mean Estimated Baseline\")\n",
    "    plt.legend(loc =  1,  prop={\"size\":8})\n",
    "    #plt.yscale('log')\n",
    "    plt.show()"
   ]
  },
  {
   "cell_type": "code",
   "execution_count": 36,
   "metadata": {},
   "outputs": [
    {
     "data": {
      "image/png": "[encoded data removed]",
      "text/plain": [
       "<Figure size 432x288 with 1 Axes>"
      ]
     },
     "metadata": {
      "needs_background": "light"
     },
     "output_type": "display_data"
    }
   ],
   "source": [
    "number_of_tests = hawkes_mle_data_experiment[\"Test Index\"].nunique()\n",
    "\n",
    "\n",
    "for i in range(1, number_of_tests + 1):\n",
    "    real_alpha = hawkes_mle_data_experiment[hawkes_mle_data_experiment[\"Test Index\"] == i][\"Real Alpha\"].values[0]\n",
    "    real_beta = hawkes_mle_data_experiment[hawkes_mle_data_experiment[\"Test Index\"] == i][\"Real Beta\"].values[0]\n",
    "    real_baseline = hawkes_mle_data_experiment[hawkes_mle_data_experiment[\"Test Index\"] == i][\"Real Baseline\"].values[0]\n",
    "    real_endogeneity = real_alpha/real_beta\n",
    "    mean_estimated_parameters_current_test_mle = mean_estimated_parameters_by_test_per_delta_mle[mean_estimated_parameters_by_test_per_delta_mle[\"Test Index\"] == i]\n",
    "    mean_estimated_parameters_current_test_whittle = mean_estimated_parameters_by_test_per_delta_whittle[mean_estimated_parameters_by_test_per_delta_whittle[\"Test Index\"] == i]\n",
    "    plt.plot(mean_estimated_parameters_current_test_mle[\"Delta\"], mean_estimated_parameters_current_test_mle[\"Mean Estimated Alpha\"]/mean_estimated_parameters_current_test_mle[\"Mean Estimated Beta\"], linewidth = 1.5, markersize = 10, label = \"Estimated Mean Endogeneity - MLE\")\n",
    "    ##plt.plot(mean_estimated_parameters_current_test_whittle[\"Delta\"], mean_estimated_parameters_current_test_whittle[\"Mean Estimated Alpha\"]/mean_estimated_parameters_current_test_whittle[\"Mean Estimated Beta\"], linewidth = 1.5, markersize = 10, label = \"Estimated Mean Endogeneity - Whittle\")\n",
    "    ##plt.errorbar(mean_estimated_parameters_current_test_mle[\"Delta\"], mean_estimated_parameters_current_test_mle[\"Mean Estimated Alpha\"]/mean_estimated_parameters_current_test_mle[\"Mean Estimated Beta\"] , yerr = mean_estimated_parameters_current_test_mle[\"Std Estimated Alpha\"]/mean_estimated_parameters_current_test_whittle[\"Std Estimated Beta\"] , fmt='--o', label = \"Estimated Mean ENdogeneity - MLE\")\n",
    "    ##plt.errorbar(mean_estimated_parameters_current_test_whittle[\"Delta\"], mean_estimated_parameters_current_test_whittle[\"Mean Estimated Alpha\"]/mean_estimated_parameters_current_test_whittle[\"Mean Estimated Beta\"] , yerr = mean_estimated_parameters_current_test_whittle[\"Std Estimated Alpha\"]/mean_estimated_parameters_current_test_whittle[\"Std Estimated Beta\"] , fmt='--o', label = \"Estimated Mean Endogeneity - Whittle\")\n",
    "    plt.plot([0], [real_endogeneity], marker = \"x\", linewidth = 1.5, markersize = 10, label = f\"Real Endogeneity = {real_endogeneity:.2f}\", color = 'r')\n",
    "    plt.title(f\"Mean Estimated Endogeneity vs Delta - Test {i}\")\n",
    "    plt.xlabel(\"Delta\")\n",
    "    plt.ylabel(\"Mean Estimated Endogeneity\")\n",
    "    plt.legend(loc =  1,  prop={\"size\":7})\n",
    "    ##plt.yscale('log')\n",
    "    plt.show()"
   ]
  },
  {
   "cell_type": "markdown",
   "metadata": {},
   "source": [
    "## Testing for different $\\alpha$"
   ]
  },
  {
   "cell_type": "code",
   "execution_count": 81,
   "metadata": {},
   "outputs": [],
   "source": [
    "colors = ['b','g','r','m','w','c','y','k','orange','mediumblue']"
   ]
  },
  {
   "cell_type": "code",
   "execution_count": 82,
   "metadata": {},
   "outputs": [],
   "source": [
    "hawkes_mle_data_experiment_different_alphas = pd.read_csv(\"results_mle_different_alphas.csv\")"
   ]
  },
  {
   "cell_type": "code",
   "execution_count": 83,
   "metadata": {},
   "outputs": [],
   "source": [
    "mean_estimated_parameters_by_test_per_delta_mle_different_alphas  = return_mean_estimated_parameters_by_each_test_per_delta(hawkes_mle_data_experiment_different_alphas)"
   ]
  },
  {
   "cell_type": "code",
   "execution_count": 84,
   "metadata": {},
   "outputs": [
    {
     "data": {
      "text/html": [
       "<div>\n",
       "<style scoped>\n",
       "    .dataframe tbody tr th:only-of-type {\n",
       "        vertical-align: middle;\n",
       "    }\n",
       "\n",
       "    .dataframe tbody tr th {\n",
       "        vertical-align: top;\n",
       "    }\n",
       "\n",
       "    .dataframe thead th {\n",
       "        text-align: right;\n",
       "    }\n",
       "</style>\n",
       "<table border=\"1\" class=\"dataframe\">\n",
       "  <thead>\n",
       "    <tr style=\"text-align: right;\">\n",
       "      <th></th>\n",
       "      <th>Test Index</th>\n",
       "      <th>Delta</th>\n",
       "      <th>Mean Estimated Baseline</th>\n",
       "      <th>Mean Estimated Alpha</th>\n",
       "      <th>Mean Estimated Beta</th>\n",
       "      <th>Max Estimated Baseline</th>\n",
       "      <th>Max Estimated Alpha</th>\n",
       "      <th>Max Estimated Beta</th>\n",
       "      <th>Min Estimated Baseline</th>\n",
       "      <th>Min Estimated Alpha</th>\n",
       "      <th>Min Estimated Beta</th>\n",
       "      <th>Std Estimated Baseline</th>\n",
       "      <th>Std Estimated Alpha</th>\n",
       "      <th>Std Estimated Beta</th>\n",
       "    </tr>\n",
       "  </thead>\n",
       "  <tbody>\n",
       "    <tr>\n",
       "      <th>0</th>\n",
       "      <td>1.0</td>\n",
       "      <td>0.00</td>\n",
       "      <td>1.001465</td>\n",
       "      <td>0.098270</td>\n",
       "      <td>1.570687</td>\n",
       "      <td>1.049787</td>\n",
       "      <td>0.139544</td>\n",
       "      <td>3.077500</td>\n",
       "      <td>0.965658</td>\n",
       "      <td>0.059103</td>\n",
       "      <td>0.912089</td>\n",
       "      <td>0.019830</td>\n",
       "      <td>0.015251</td>\n",
       "      <td>0.407497</td>\n",
       "    </tr>\n",
       "    <tr>\n",
       "      <th>1</th>\n",
       "      <td>1.0</td>\n",
       "      <td>0.01</td>\n",
       "      <td>1.001588</td>\n",
       "      <td>0.098159</td>\n",
       "      <td>1.577056</td>\n",
       "      <td>1.049744</td>\n",
       "      <td>0.139407</td>\n",
       "      <td>3.067449</td>\n",
       "      <td>0.965819</td>\n",
       "      <td>0.059001</td>\n",
       "      <td>0.916324</td>\n",
       "      <td>0.019835</td>\n",
       "      <td>0.015267</td>\n",
       "      <td>0.410883</td>\n",
       "    </tr>\n",
       "    <tr>\n",
       "      <th>2</th>\n",
       "      <td>1.0</td>\n",
       "      <td>0.02</td>\n",
       "      <td>1.001941</td>\n",
       "      <td>0.097841</td>\n",
       "      <td>1.597611</td>\n",
       "      <td>1.051009</td>\n",
       "      <td>0.139397</td>\n",
       "      <td>3.268682</td>\n",
       "      <td>0.966112</td>\n",
       "      <td>0.057505</td>\n",
       "      <td>0.912740</td>\n",
       "      <td>0.019943</td>\n",
       "      <td>0.015363</td>\n",
       "      <td>0.430523</td>\n",
       "    </tr>\n",
       "    <tr>\n",
       "      <th>3</th>\n",
       "      <td>1.0</td>\n",
       "      <td>0.03</td>\n",
       "      <td>1.002516</td>\n",
       "      <td>0.097323</td>\n",
       "      <td>1.628141</td>\n",
       "      <td>1.051789</td>\n",
       "      <td>0.139101</td>\n",
       "      <td>3.359686</td>\n",
       "      <td>0.966561</td>\n",
       "      <td>0.057620</td>\n",
       "      <td>0.920186</td>\n",
       "      <td>0.020086</td>\n",
       "      <td>0.015512</td>\n",
       "      <td>0.454764</td>\n",
       "    </tr>\n",
       "    <tr>\n",
       "      <th>4</th>\n",
       "      <td>1.0</td>\n",
       "      <td>0.04</td>\n",
       "      <td>1.003433</td>\n",
       "      <td>0.096499</td>\n",
       "      <td>1.678006</td>\n",
       "      <td>1.054646</td>\n",
       "      <td>0.138854</td>\n",
       "      <td>3.879548</td>\n",
       "      <td>0.967260</td>\n",
       "      <td>0.055271</td>\n",
       "      <td>0.942029</td>\n",
       "      <td>0.020235</td>\n",
       "      <td>0.015592</td>\n",
       "      <td>0.500882</td>\n",
       "    </tr>\n",
       "  </tbody>\n",
       "</table>\n",
       "</div>"
      ],
      "text/plain": [
       "   Test Index  Delta  Mean Estimated Baseline  Mean Estimated Alpha  \\\n",
       "0         1.0   0.00                 1.001465              0.098270   \n",
       "1         1.0   0.01                 1.001588              0.098159   \n",
       "2         1.0   0.02                 1.001941              0.097841   \n",
       "3         1.0   0.03                 1.002516              0.097323   \n",
       "4         1.0   0.04                 1.003433              0.096499   \n",
       "\n",
       "   Mean Estimated Beta  Max Estimated Baseline  Max Estimated Alpha  \\\n",
       "0             1.570687                1.049787             0.139544   \n",
       "1             1.577056                1.049744             0.139407   \n",
       "2             1.597611                1.051009             0.139397   \n",
       "3             1.628141                1.051789             0.139101   \n",
       "4             1.678006                1.054646             0.138854   \n",
       "\n",
       "   Max Estimated Beta  Min Estimated Baseline  Min Estimated Alpha  \\\n",
       "0            3.077500                0.965658             0.059103   \n",
       "1            3.067449                0.965819             0.059001   \n",
       "2            3.268682                0.966112             0.057505   \n",
       "3            3.359686                0.966561             0.057620   \n",
       "4            3.879548                0.967260             0.055271   \n",
       "\n",
       "   Min Estimated Beta  Std Estimated Baseline  Std Estimated Alpha  \\\n",
       "0            0.912089                0.019830             0.015251   \n",
       "1            0.916324                0.019835             0.015267   \n",
       "2            0.912740                0.019943             0.015363   \n",
       "3            0.920186                0.020086             0.015512   \n",
       "4            0.942029                0.020235             0.015592   \n",
       "\n",
       "   Std Estimated Beta  \n",
       "0            0.407497  \n",
       "1            0.410883  \n",
       "2            0.430523  \n",
       "3            0.454764  \n",
       "4            0.500882  "
      ]
     },
     "execution_count": 84,
     "metadata": {},
     "output_type": "execute_result"
    }
   ],
   "source": [
    "mean_estimated_parameters_by_test_per_delta_mle_different_alphas.head(5)"
   ]
  },
  {
   "cell_type": "code",
   "execution_count": 123,
   "metadata": {},
   "outputs": [
    {
     "name": "stdout",
     "output_type": "stream",
     "text": [
      "10\n"
     ]
    },
    {
     "data": {
      "image/png": "[encoded data removed]",
      "text/plain": [
       "<Figure size 432x288 with 1 Axes>"
      ]
     },
     "metadata": {
      "needs_background": "light"
     },
     "output_type": "display_data"
    }
   ],
   "source": [
    "number_of_tests = hawkes_mle_data_experiment_different_alphas[\"Test Index\"].nunique()\n",
    "print(number_of_tests) \n",
    "\n",
    "\n",
    "for i in range(3, 10):\n",
    "    real_alpha = hawkes_mle_data_experiment_different_alphas[hawkes_mle_data_experiment_different_alphas[\"Test Index\"] == i][\"Real Alpha\"].values[0]\n",
    "    real_beta = hawkes_mle_data_experiment_different_alphas[hawkes_mle_data_experiment_different_alphas[\"Test Index\"] == i][\"Real Beta\"].values[0]\n",
    "    real_baseline = hawkes_mle_data_experiment_different_alphas[hawkes_mle_data_experiment_different_alphas[\"Test Index\"] == i][\"Real Baseline\"].values[0]\n",
    "    mean_estimated_parameters_current_test_mle_different_alphas = mean_estimated_parameters_by_test_per_delta_mle_different_alphas[mean_estimated_parameters_by_test_per_delta_mle_different_alphas[\"Test Index\"] == i]\n",
    "    plt.plot(mean_estimated_parameters_current_test_mle_different_alphas[\"Delta\"], mean_estimated_parameters_current_test_mle_different_alphas[\"Mean Estimated Alpha\"], linewidth = 1.5, markersize = 10, label = f\"Estimated Alpha\", color = colors[i-1])\n",
    "    plt.plot([0], [real_alpha], marker = \"x\", linewidth = 1.5, markersize = 10, label = f\"Real Alpha\", color = colors[i-1])\n",
    "    #plt.legend(loc = 1,  prop={\"size\":8})\n",
    "plt.title(f\"Mean Estimated Alpha vs Delta \")\n",
    "plt.xlabel(\"Delta\")\n",
    "plt.ylabel(\"Mean Estimated Alpha\")\n",
    "plt.show()"
   ]
  },
  {
   "cell_type": "code",
   "execution_count": 122,
   "metadata": {},
   "outputs": [
    {
     "name": "stdout",
     "output_type": "stream",
     "text": [
      "10\n"
     ]
    },
    {
     "data": {
      "image/png": "[encoded data removed]",
      "text/plain": [
       "<Figure size 432x288 with 1 Axes>"
      ]
     },
     "metadata": {
      "needs_background": "light"
     },
     "output_type": "display_data"
    }
   ],
   "source": [
    "number_of_tests = hawkes_mle_data_experiment_different_alphas[\"Test Index\"].nunique()\n",
    "print(number_of_tests) \n",
    "\n",
    "\n",
    "for i in range(1, 10):\n",
    "    real_alpha = hawkes_mle_data_experiment_different_alphas[hawkes_mle_data_experiment_different_alphas[\"Test Index\"] == i][\"Real Alpha\"].values[0]\n",
    "    real_beta = hawkes_mle_data_experiment_different_alphas[hawkes_mle_data_experiment_different_alphas[\"Test Index\"] == i][\"Real Beta\"].values[0]\n",
    "    real_baseline = hawkes_mle_data_experiment_different_alphas[hawkes_mle_data_experiment_different_alphas[\"Test Index\"] == i][\"Real Baseline\"].values[0]\n",
    "    mean_estimated_parameters_current_test_mle_different_alphas = mean_estimated_parameters_by_test_per_delta_mle_different_alphas[mean_estimated_parameters_by_test_per_delta_mle_different_alphas[\"Test Index\"] == i]\n",
    "    plt.plot(mean_estimated_parameters_current_test_mle_different_alphas[\"Delta\"], mean_estimated_parameters_current_test_mle_different_alphas[\"Mean Estimated Beta\"], linewidth = 1.5, markersize = 10, label = f\"Estimated Beta\", color = colors[i-1])\n",
    "    plt.plot([0], [real_beta], marker = \"x\", linewidth = 1.5, markersize = 10, label = f\"Real Beta\", color = colors[i-1])\n",
    "    #plt.legend(loc = 1,  prop={\"size\":8})\n",
    "plt.title(f\"Mean Estimated Beta vs Delta \")\n",
    "plt.xlabel(\"Delta\")\n",
    "plt.ylabel(\"Mean Estimated Beta\")\n",
    "plt.show()"
   ]
  }
 ],
 "metadata": {
  "kernelspec": {
   "display_name": "Python 3",
   "language": "python",
   "name": "python3"
  },
  "language_info": {
   "codemirror_mode": {
    "name": "ipython",
    "version": 3
   },
   "file_extension": ".py",
   "mimetype": "text/x-python",
   "name": "python",
   "nbconvert_exporter": "python",
   "pygments_lexer": "ipython3",
   "version": "3.7.6"
  }
 },
 "nbformat": 4,
 "nbformat_minor": 4
}
