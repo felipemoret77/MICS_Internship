{
 "cells": [
  {
   "cell_type": "code",
   "execution_count": 207,
   "metadata": {},
   "outputs": [],
   "source": [
    "import pandas as pd\n",
    "import datetime as dt\n",
    "import numpy as np\n",
    "import matplotlib.pyplot as plt\n",
    "\n",
    "pd.set_option('display.max_columns', None)\n",
    "pd.set_option('display.max_rows', None)"
   ]
  },
  {
   "cell_type": "markdown",
   "metadata": {},
   "source": [
    "**Obtaning Results for Both Methods - Whittle and MLE**"
   ]
  },
  {
   "cell_type": "code",
   "execution_count": 208,
   "metadata": {},
   "outputs": [],
   "source": [
    "results_both_methods = pd.read_csv(\"results.csv\")"
   ]
  },
  {
   "cell_type": "code",
   "execution_count": 209,
   "metadata": {},
   "outputs": [],
   "source": [
    "hawkes_whittle_data_experiment = results_both_methods[results_both_methods[\"Estimation Method\"] == \"whittle\"]"
   ]
  },
  {
   "cell_type": "code",
   "execution_count": 210,
   "metadata": {},
   "outputs": [],
   "source": [
    "hawkes_mle_data_experiment = results_both_methods[results_both_methods[\"Estimation Method\"] == \"mle\"]"
   ]
  },
  {
   "cell_type": "markdown",
   "metadata": {},
   "source": [
    "**Shape of the data**"
   ]
  },
  {
   "cell_type": "code",
   "execution_count": 211,
   "metadata": {},
   "outputs": [
    {
     "data": {
      "text/plain": [
       "(0, 14)"
      ]
     },
     "execution_count": 211,
     "metadata": {},
     "output_type": "execute_result"
    }
   ],
   "source": [
    "hawkes_whittle_data_experiment.shape"
   ]
  },
  {
   "cell_type": "code",
   "execution_count": 212,
   "metadata": {},
   "outputs": [
    {
     "data": {
      "text/plain": [
       "(10000, 14)"
      ]
     },
     "execution_count": 212,
     "metadata": {},
     "output_type": "execute_result"
    }
   ],
   "source": [
    "hawkes_mle_data_experiment.shape"
   ]
  },
  {
   "cell_type": "markdown",
   "metadata": {},
   "source": [
    "**Type of the data**"
   ]
  },
  {
   "cell_type": "code",
   "execution_count": 213,
   "metadata": {},
   "outputs": [
    {
     "data": {
      "text/html": [
       "<div>\n",
       "<style scoped>\n",
       "    .dataframe tbody tr th:only-of-type {\n",
       "        vertical-align: middle;\n",
       "    }\n",
       "\n",
       "    .dataframe tbody tr th {\n",
       "        vertical-align: top;\n",
       "    }\n",
       "\n",
       "    .dataframe thead th {\n",
       "        text-align: right;\n",
       "    }\n",
       "</style>\n",
       "<table border=\"1\" class=\"dataframe\">\n",
       "  <thead>\n",
       "    <tr style=\"text-align: right;\">\n",
       "      <th></th>\n",
       "      <th>Test Index</th>\n",
       "      <th>Simulation Index</th>\n",
       "      <th>Real Alpha</th>\n",
       "      <th>Real Beta</th>\n",
       "      <th>Real Baseline</th>\n",
       "      <th>Real Endogeneity</th>\n",
       "      <th>Delta</th>\n",
       "      <th>Estimated Alpha</th>\n",
       "      <th>Estimated Beta</th>\n",
       "      <th>Estimated Baseline</th>\n",
       "      <th>Estimated Endogeneity</th>\n",
       "      <th>Duplicates</th>\n",
       "      <th>Estimation Method</th>\n",
       "      <th>Initial Estimation Point</th>\n",
       "    </tr>\n",
       "  </thead>\n",
       "  <tbody>\n",
       "  </tbody>\n",
       "</table>\n",
       "</div>"
      ],
      "text/plain": [
       "Empty DataFrame\n",
       "Columns: [Test Index, Simulation Index, Real Alpha, Real Beta, Real Baseline, Real Endogeneity, Delta, Estimated Alpha, Estimated Beta, Estimated Baseline, Estimated Endogeneity, Duplicates, Estimation Method, Initial Estimation Point]\n",
       "Index: []"
      ]
     },
     "execution_count": 213,
     "metadata": {},
     "output_type": "execute_result"
    }
   ],
   "source": [
    "hawkes_whittle_data_experiment.head()"
   ]
  },
  {
   "cell_type": "code",
   "execution_count": 214,
   "metadata": {},
   "outputs": [
    {
     "data": {
      "text/html": [
       "<div>\n",
       "<style scoped>\n",
       "    .dataframe tbody tr th:only-of-type {\n",
       "        vertical-align: middle;\n",
       "    }\n",
       "\n",
       "    .dataframe tbody tr th {\n",
       "        vertical-align: top;\n",
       "    }\n",
       "\n",
       "    .dataframe thead th {\n",
       "        text-align: right;\n",
       "    }\n",
       "</style>\n",
       "<table border=\"1\" class=\"dataframe\">\n",
       "  <thead>\n",
       "    <tr style=\"text-align: right;\">\n",
       "      <th></th>\n",
       "      <th>Test Index</th>\n",
       "      <th>Simulation Index</th>\n",
       "      <th>Real Alpha</th>\n",
       "      <th>Real Beta</th>\n",
       "      <th>Real Baseline</th>\n",
       "      <th>Real Endogeneity</th>\n",
       "      <th>Delta</th>\n",
       "      <th>Estimated Alpha</th>\n",
       "      <th>Estimated Beta</th>\n",
       "      <th>Estimated Baseline</th>\n",
       "      <th>Estimated Endogeneity</th>\n",
       "      <th>Duplicates</th>\n",
       "      <th>Estimation Method</th>\n",
       "      <th>Initial Estimation Point</th>\n",
       "    </tr>\n",
       "  </thead>\n",
       "  <tbody>\n",
       "    <tr>\n",
       "      <th>0</th>\n",
       "      <td>1</td>\n",
       "      <td>1</td>\n",
       "      <td>0.5</td>\n",
       "      <td>1.5</td>\n",
       "      <td>1</td>\n",
       "      <td>0.333333</td>\n",
       "      <td>0.00</td>\n",
       "      <td>0.526167</td>\n",
       "      <td>1.466514</td>\n",
       "      <td>1.026006</td>\n",
       "      <td>0.358788</td>\n",
       "      <td>randomize</td>\n",
       "      <td>mle</td>\n",
       "      <td>original_parameters</td>\n",
       "    </tr>\n",
       "    <tr>\n",
       "      <th>1</th>\n",
       "      <td>1</td>\n",
       "      <td>1</td>\n",
       "      <td>0.5</td>\n",
       "      <td>1.5</td>\n",
       "      <td>1</td>\n",
       "      <td>0.333333</td>\n",
       "      <td>0.00</td>\n",
       "      <td>0.526167</td>\n",
       "      <td>1.466514</td>\n",
       "      <td>1.026006</td>\n",
       "      <td>0.358788</td>\n",
       "      <td>randomize</td>\n",
       "      <td>mle</td>\n",
       "      <td>original_parameters</td>\n",
       "    </tr>\n",
       "    <tr>\n",
       "      <th>2</th>\n",
       "      <td>1</td>\n",
       "      <td>1</td>\n",
       "      <td>0.5</td>\n",
       "      <td>1.5</td>\n",
       "      <td>1</td>\n",
       "      <td>0.333333</td>\n",
       "      <td>0.00</td>\n",
       "      <td>0.526167</td>\n",
       "      <td>1.466514</td>\n",
       "      <td>1.026006</td>\n",
       "      <td>0.358788</td>\n",
       "      <td>randomize</td>\n",
       "      <td>mle</td>\n",
       "      <td>original_parameters</td>\n",
       "    </tr>\n",
       "    <tr>\n",
       "      <th>3</th>\n",
       "      <td>1</td>\n",
       "      <td>1</td>\n",
       "      <td>0.5</td>\n",
       "      <td>1.5</td>\n",
       "      <td>1</td>\n",
       "      <td>0.333333</td>\n",
       "      <td>0.01</td>\n",
       "      <td>0.526044</td>\n",
       "      <td>1.467618</td>\n",
       "      <td>1.026272</td>\n",
       "      <td>0.358434</td>\n",
       "      <td>randomize</td>\n",
       "      <td>mle</td>\n",
       "      <td>original_parameters</td>\n",
       "    </tr>\n",
       "    <tr>\n",
       "      <th>4</th>\n",
       "      <td>1</td>\n",
       "      <td>1</td>\n",
       "      <td>0.5</td>\n",
       "      <td>1.5</td>\n",
       "      <td>1</td>\n",
       "      <td>0.333333</td>\n",
       "      <td>0.01</td>\n",
       "      <td>0.525774</td>\n",
       "      <td>1.470948</td>\n",
       "      <td>1.026859</td>\n",
       "      <td>0.357439</td>\n",
       "      <td>randomize</td>\n",
       "      <td>mle</td>\n",
       "      <td>original_parameters</td>\n",
       "    </tr>\n",
       "  </tbody>\n",
       "</table>\n",
       "</div>"
      ],
      "text/plain": [
       "   Test Index  Simulation Index  Real Alpha  Real Beta  Real Baseline  \\\n",
       "0           1                 1         0.5        1.5              1   \n",
       "1           1                 1         0.5        1.5              1   \n",
       "2           1                 1         0.5        1.5              1   \n",
       "3           1                 1         0.5        1.5              1   \n",
       "4           1                 1         0.5        1.5              1   \n",
       "\n",
       "   Real Endogeneity  Delta  Estimated Alpha  Estimated Beta  \\\n",
       "0          0.333333   0.00         0.526167        1.466514   \n",
       "1          0.333333   0.00         0.526167        1.466514   \n",
       "2          0.333333   0.00         0.526167        1.466514   \n",
       "3          0.333333   0.01         0.526044        1.467618   \n",
       "4          0.333333   0.01         0.525774        1.470948   \n",
       "\n",
       "   Estimated Baseline  Estimated Endogeneity Duplicates Estimation Method  \\\n",
       "0            1.026006               0.358788  randomize               mle   \n",
       "1            1.026006               0.358788  randomize               mle   \n",
       "2            1.026006               0.358788  randomize               mle   \n",
       "3            1.026272               0.358434  randomize               mle   \n",
       "4            1.026859               0.357439  randomize               mle   \n",
       "\n",
       "  Initial Estimation Point  \n",
       "0      original_parameters  \n",
       "1      original_parameters  \n",
       "2      original_parameters  \n",
       "3      original_parameters  \n",
       "4      original_parameters  "
      ]
     },
     "execution_count": 214,
     "metadata": {},
     "output_type": "execute_result"
    }
   ],
   "source": [
    "hawkes_mle_data_experiment.head()"
   ]
  },
  {
   "cell_type": "markdown",
   "metadata": {},
   "source": [
    "**Plotting the mean of estimated values for each test for each delta value**"
   ]
  },
  {
   "cell_type": "code",
   "execution_count": 215,
   "metadata": {},
   "outputs": [],
   "source": [
    "def return_mean_estimated_parameters_by_each_test_per_delta(hawkes_data_experiment):\n",
    "    number_of_tests = hawkes_data_experiment[\"Test Index\"].nunique()\n",
    "    number_of_deltas = hawkes_data_experiment[\"Simulation Index\"].nunique()\n",
    "    different_deltas = hawkes_data_experiment[\"Delta\"].unique()\n",
    "    print(f\"Deltas Values: {different_deltas}\")\n",
    "\n",
    "    mean_estimated_parameters_by_test_per_delta = pd.DataFrame(columns = [\"Test Index\", \"Delta\", \"Mean Estimated Baseline\", \"Mean Estimated Alpha\", \"Mean Estimated Beta\", \"Max Estimated Baseline\", \"Max Estimated Alpha\", \"Max Estimated Beta\", \"Min Estimated Baseline\", \"Min Estimated Alpha\", \"Min Estimated Beta\",\"Std Estimated Baseline\", \"Std Estimated Alpha\", \"Std Estimated Beta\"])\n",
    "    \n",
    "    for i in range(1,number_of_tests + 1):\n",
    "        current_test = hawkes_data_experiment[hawkes_data_experiment[\"Test Index\"] == i]\n",
    "        for delta in different_deltas:\n",
    "            current_test_for_this_delta = current_test[current_test[\"Delta\"] == delta]\n",
    "            current_estimated_mean_alpha = current_test_for_this_delta[\"Estimated Alpha\"].mean()\n",
    "            current_estimated_mean_beta = current_test_for_this_delta[\"Estimated Beta\"].mean()\n",
    "            current_estimated_mean_baseline = current_test_for_this_delta[\"Estimated Baseline\"].mean()\n",
    "            current_max_estimated_alpha = current_test_for_this_delta[\"Estimated Alpha\"].max()\n",
    "            current_max_estimated_beta = current_test_for_this_delta[\"Estimated Beta\"].max()\n",
    "            current_max_estimated_baseline = current_test_for_this_delta[\"Estimated Baseline\"].max()\n",
    "            current_min_estimated_alpha = current_test_for_this_delta[\"Estimated Alpha\"].min()\n",
    "            current_min_estimated_beta = current_test_for_this_delta[\"Estimated Beta\"].min()\n",
    "            current_min_estimated_baseline = current_test_for_this_delta[\"Estimated Baseline\"].min()\n",
    "            current_std_estimated_baseline = current_test_for_this_delta[\"Estimated Baseline\"].std()\n",
    "            current_std_estimated_alpha = current_test_for_this_delta[\"Estimated Alpha\"].std()\n",
    "            current_std_estimated_beta = current_test_for_this_delta[\"Estimated Beta\"].std()\n",
    "            to_append = [i, delta, current_estimated_mean_baseline, current_estimated_mean_alpha, current_estimated_mean_beta, current_max_estimated_baseline, current_max_estimated_alpha, current_max_estimated_beta, current_min_estimated_baseline, current_min_estimated_alpha, current_min_estimated_beta, current_std_estimated_baseline, current_std_estimated_alpha, current_std_estimated_beta]\n",
    "            to_append_series = pd.Series(to_append, index = mean_estimated_parameters_by_test_per_delta.columns)\n",
    "            mean_estimated_parameters_by_test_per_delta = mean_estimated_parameters_by_test_per_delta.append(to_append_series, ignore_index = True)\n",
    "            \n",
    "    return mean_estimated_parameters_by_test_per_delta \n",
    "       "
   ]
  },
  {
   "cell_type": "code",
   "execution_count": 216,
   "metadata": {},
   "outputs": [
    {
     "name": "stdout",
     "output_type": "stream",
     "text": [
      "Deltas Values: [0.   0.01 0.02 0.03 0.04 0.05 0.06 0.07 0.08 0.09 0.1  0.11 0.12 0.13\n",
      " 0.14 0.15 0.16 0.17 0.18 0.19 0.2 ]\n"
     ]
    }
   ],
   "source": [
    "mean_estimated_parameters_by_test_per_delta_mle  = return_mean_estimated_parameters_by_each_test_per_delta(hawkes_mle_data_experiment)"
   ]
  },
  {
   "cell_type": "code",
   "execution_count": 217,
   "metadata": {},
   "outputs": [
    {
     "data": {
      "text/html": [
       "<div>\n",
       "<style scoped>\n",
       "    .dataframe tbody tr th:only-of-type {\n",
       "        vertical-align: middle;\n",
       "    }\n",
       "\n",
       "    .dataframe tbody tr th {\n",
       "        vertical-align: top;\n",
       "    }\n",
       "\n",
       "    .dataframe thead th {\n",
       "        text-align: right;\n",
       "    }\n",
       "</style>\n",
       "<table border=\"1\" class=\"dataframe\">\n",
       "  <thead>\n",
       "    <tr style=\"text-align: right;\">\n",
       "      <th></th>\n",
       "      <th>Test Index</th>\n",
       "      <th>Delta</th>\n",
       "      <th>Mean Estimated Baseline</th>\n",
       "      <th>Mean Estimated Alpha</th>\n",
       "      <th>Mean Estimated Beta</th>\n",
       "      <th>Max Estimated Baseline</th>\n",
       "      <th>Max Estimated Alpha</th>\n",
       "      <th>Max Estimated Beta</th>\n",
       "      <th>Min Estimated Baseline</th>\n",
       "      <th>Min Estimated Alpha</th>\n",
       "      <th>Min Estimated Beta</th>\n",
       "      <th>Std Estimated Baseline</th>\n",
       "      <th>Std Estimated Alpha</th>\n",
       "      <th>Std Estimated Beta</th>\n",
       "    </tr>\n",
       "  </thead>\n",
       "  <tbody>\n",
       "    <tr>\n",
       "      <th>0</th>\n",
       "      <td>1.0</td>\n",
       "      <td>0.00</td>\n",
       "      <td>1.015568</td>\n",
       "      <td>0.492512</td>\n",
       "      <td>1.531522</td>\n",
       "      <td>1.246059</td>\n",
       "      <td>0.557400</td>\n",
       "      <td>2.035265</td>\n",
       "      <td>0.864850</td>\n",
       "      <td>0.353376</td>\n",
       "      <td>1.035869</td>\n",
       "      <td>0.067767</td>\n",
       "      <td>0.035940</td>\n",
       "      <td>0.180839</td>\n",
       "    </tr>\n",
       "    <tr>\n",
       "      <th>1</th>\n",
       "      <td>1.0</td>\n",
       "      <td>0.01</td>\n",
       "      <td>1.015722</td>\n",
       "      <td>0.492435</td>\n",
       "      <td>1.532514</td>\n",
       "      <td>1.247040</td>\n",
       "      <td>0.557286</td>\n",
       "      <td>2.047140</td>\n",
       "      <td>0.865250</td>\n",
       "      <td>0.352867</td>\n",
       "      <td>1.035356</td>\n",
       "      <td>0.067723</td>\n",
       "      <td>0.035910</td>\n",
       "      <td>0.181162</td>\n",
       "    </tr>\n",
       "    <tr>\n",
       "      <th>2</th>\n",
       "      <td>1.0</td>\n",
       "      <td>0.02</td>\n",
       "      <td>1.016250</td>\n",
       "      <td>0.492169</td>\n",
       "      <td>1.536181</td>\n",
       "      <td>1.248812</td>\n",
       "      <td>0.557436</td>\n",
       "      <td>2.058209</td>\n",
       "      <td>0.865454</td>\n",
       "      <td>0.351942</td>\n",
       "      <td>1.034546</td>\n",
       "      <td>0.067832</td>\n",
       "      <td>0.035983</td>\n",
       "      <td>0.182668</td>\n",
       "    </tr>\n",
       "    <tr>\n",
       "      <th>3</th>\n",
       "      <td>1.0</td>\n",
       "      <td>0.03</td>\n",
       "      <td>1.016795</td>\n",
       "      <td>0.491898</td>\n",
       "      <td>1.539836</td>\n",
       "      <td>1.248181</td>\n",
       "      <td>0.557339</td>\n",
       "      <td>2.068771</td>\n",
       "      <td>0.865597</td>\n",
       "      <td>0.352266</td>\n",
       "      <td>1.033813</td>\n",
       "      <td>0.067906</td>\n",
       "      <td>0.035987</td>\n",
       "      <td>0.184012</td>\n",
       "    </tr>\n",
       "    <tr>\n",
       "      <th>4</th>\n",
       "      <td>1.0</td>\n",
       "      <td>0.04</td>\n",
       "      <td>1.018085</td>\n",
       "      <td>0.491245</td>\n",
       "      <td>1.548107</td>\n",
       "      <td>1.250537</td>\n",
       "      <td>0.556519</td>\n",
       "      <td>2.059426</td>\n",
       "      <td>0.867382</td>\n",
       "      <td>0.351047</td>\n",
       "      <td>1.039713</td>\n",
       "      <td>0.068147</td>\n",
       "      <td>0.036185</td>\n",
       "      <td>0.184298</td>\n",
       "    </tr>\n",
       "  </tbody>\n",
       "</table>\n",
       "</div>"
      ],
      "text/plain": [
       "   Test Index  Delta  Mean Estimated Baseline  Mean Estimated Alpha  \\\n",
       "0         1.0   0.00                 1.015568              0.492512   \n",
       "1         1.0   0.01                 1.015722              0.492435   \n",
       "2         1.0   0.02                 1.016250              0.492169   \n",
       "3         1.0   0.03                 1.016795              0.491898   \n",
       "4         1.0   0.04                 1.018085              0.491245   \n",
       "\n",
       "   Mean Estimated Beta  Max Estimated Baseline  Max Estimated Alpha  \\\n",
       "0             1.531522                1.246059             0.557400   \n",
       "1             1.532514                1.247040             0.557286   \n",
       "2             1.536181                1.248812             0.557436   \n",
       "3             1.539836                1.248181             0.557339   \n",
       "4             1.548107                1.250537             0.556519   \n",
       "\n",
       "   Max Estimated Beta  Min Estimated Baseline  Min Estimated Alpha  \\\n",
       "0            2.035265                0.864850             0.353376   \n",
       "1            2.047140                0.865250             0.352867   \n",
       "2            2.058209                0.865454             0.351942   \n",
       "3            2.068771                0.865597             0.352266   \n",
       "4            2.059426                0.867382             0.351047   \n",
       "\n",
       "   Min Estimated Beta  Std Estimated Baseline  Std Estimated Alpha  \\\n",
       "0            1.035869                0.067767             0.035940   \n",
       "1            1.035356                0.067723             0.035910   \n",
       "2            1.034546                0.067832             0.035983   \n",
       "3            1.033813                0.067906             0.035987   \n",
       "4            1.039713                0.068147             0.036185   \n",
       "\n",
       "   Std Estimated Beta  \n",
       "0            0.180839  \n",
       "1            0.181162  \n",
       "2            0.182668  \n",
       "3            0.184012  \n",
       "4            0.184298  "
      ]
     },
     "execution_count": 217,
     "metadata": {},
     "output_type": "execute_result"
    }
   ],
   "source": [
    "mean_estimated_parameters_by_test_per_delta_mle.head()"
   ]
  },
  {
   "cell_type": "code",
   "execution_count": 218,
   "metadata": {},
   "outputs": [
    {
     "name": "stdout",
     "output_type": "stream",
     "text": [
      "Deltas Values: []\n"
     ]
    }
   ],
   "source": [
    "mean_estimated_parameters_by_test_per_delta_whittle  = return_mean_estimated_parameters_by_each_test_per_delta(hawkes_whittle_data_experiment)"
   ]
  },
  {
   "cell_type": "code",
   "execution_count": 219,
   "metadata": {},
   "outputs": [
    {
     "data": {
      "text/html": [
       "<div>\n",
       "<style scoped>\n",
       "    .dataframe tbody tr th:only-of-type {\n",
       "        vertical-align: middle;\n",
       "    }\n",
       "\n",
       "    .dataframe tbody tr th {\n",
       "        vertical-align: top;\n",
       "    }\n",
       "\n",
       "    .dataframe thead th {\n",
       "        text-align: right;\n",
       "    }\n",
       "</style>\n",
       "<table border=\"1\" class=\"dataframe\">\n",
       "  <thead>\n",
       "    <tr style=\"text-align: right;\">\n",
       "      <th></th>\n",
       "      <th>Test Index</th>\n",
       "      <th>Delta</th>\n",
       "      <th>Mean Estimated Baseline</th>\n",
       "      <th>Mean Estimated Alpha</th>\n",
       "      <th>Mean Estimated Beta</th>\n",
       "      <th>Max Estimated Baseline</th>\n",
       "      <th>Max Estimated Alpha</th>\n",
       "      <th>Max Estimated Beta</th>\n",
       "      <th>Min Estimated Baseline</th>\n",
       "      <th>Min Estimated Alpha</th>\n",
       "      <th>Min Estimated Beta</th>\n",
       "      <th>Std Estimated Baseline</th>\n",
       "      <th>Std Estimated Alpha</th>\n",
       "      <th>Std Estimated Beta</th>\n",
       "    </tr>\n",
       "  </thead>\n",
       "  <tbody>\n",
       "  </tbody>\n",
       "</table>\n",
       "</div>"
      ],
      "text/plain": [
       "Empty DataFrame\n",
       "Columns: [Test Index, Delta, Mean Estimated Baseline, Mean Estimated Alpha, Mean Estimated Beta, Max Estimated Baseline, Max Estimated Alpha, Max Estimated Beta, Min Estimated Baseline, Min Estimated Alpha, Min Estimated Beta, Std Estimated Baseline, Std Estimated Alpha, Std Estimated Beta]\n",
       "Index: []"
      ]
     },
     "execution_count": 219,
     "metadata": {},
     "output_type": "execute_result"
    }
   ],
   "source": [
    "mean_estimated_parameters_by_test_per_delta_whittle.head()"
   ]
  },
  {
   "cell_type": "markdown",
   "metadata": {},
   "source": [
    "**Plotting mean of estimated $\\alpha$ for each test vs $\\delta$**"
   ]
  },
  {
   "cell_type": "code",
   "execution_count": 220,
   "metadata": {},
   "outputs": [
    {
     "data": {
      "image/png": "[encoded data removed]",
      "text/plain": [
       "<Figure size 432x288 with 1 Axes>"
      ]
     },
     "metadata": {
      "needs_background": "light"
     },
     "output_type": "display_data"
    }
   ],
   "source": [
    "number_of_tests = hawkes_mle_data_experiment[\"Test Index\"].nunique()\n",
    "\n",
    "\n",
    "for i in range(1, number_of_tests + 1):\n",
    "    real_alpha = hawkes_mle_data_experiment[hawkes_mle_data_experiment[\"Test Index\"] == i][\"Real Alpha\"].values[0]\n",
    "    real_beta = hawkes_mle_data_experiment[hawkes_mle_data_experiment[\"Test Index\"] == i][\"Real Beta\"].values[0]\n",
    "    real_baseline = hawkes_mle_data_experiment[hawkes_mle_data_experiment[\"Test Index\"] == i][\"Real Baseline\"].values[0]\n",
    "    mean_estimated_parameters_current_test_mle = mean_estimated_parameters_by_test_per_delta_mle[mean_estimated_parameters_by_test_per_delta_mle[\"Test Index\"] == i]\n",
    "    mean_estimated_parameters_current_test_whittle = mean_estimated_parameters_by_test_per_delta_whittle[mean_estimated_parameters_by_test_per_delta_whittle[\"Test Index\"] == i]\n",
    "    #plt.plot(mean_estimated_parameters_current_test_mle[\"Delta\"], mean_estimated_parameters_current_test_mle[\"Mean Estimated Alpha\"], linewidth = 1.5, markersize = 10, label = \"Estimated Mean Alpha - Mle\")\n",
    "    #plt.plot(mean_estimated_parameters_current_test_whittle[\"Delta\"], mean_estimated_parameters_current_test_whittle[\"Mean Estimated Alpha\"], linewidth = 1.5, markersize = 10, label = \"Estimated Mean Alpha - Whittle\")\n",
    "    plt.errorbar(mean_estimated_parameters_current_test_mle[\"Delta\"], mean_estimated_parameters_current_test_mle[\"Mean Estimated Alpha\"] , yerr = mean_estimated_parameters_current_test_mle[\"Std Estimated Alpha\"] , fmt='--o', label = \"Estimated Mean Alpha - MLE\")\n",
    "    ##plt.errorbar(mean_estimated_parameters_current_test_whittle[\"Delta\"], mean_estimated_parameters_current_test_whittle[\"Mean Estimated Alpha\"] , yerr = mean_estimated_parameters_current_test_whittle[\"Std Estimated Alpha\"] , fmt='--o', label = \"Estimated Mean Alpha - Whittle\")\n",
    "    plt.plot([0], [real_alpha], marker = \"x\", linewidth = 1.5, markersize = 10, label = f\"Real Alpha = {real_alpha}\", color = 'r')\n",
    "    plt.title(f\"Mean Estimated Alpha vs Delta - Test {i}\")\n",
    "    plt.xlabel(\"Delta\")\n",
    "    plt.ylabel(\"Mean Estimated Alpha\")\n",
    "    plt.legend(loc =  1,  prop={\"size\":8})\n",
    "    plt.show()"
   ]
  },
  {
   "cell_type": "markdown",
   "metadata": {},
   "source": [
    "**Plotting mean of estimated $\\beta$ for each test vs $\\delta$**"
   ]
  },
  {
   "cell_type": "code",
   "execution_count": 221,
   "metadata": {},
   "outputs": [
    {
     "data": {
      "image/png": "[encoded data removed]",
      "text/plain": [
       "<Figure size 432x288 with 1 Axes>"
      ]
     },
     "metadata": {
      "needs_background": "light"
     },
     "output_type": "display_data"
    }
   ],
   "source": [
    "number_of_tests = hawkes_mle_data_experiment[\"Test Index\"].nunique()\n",
    "\n",
    "for i in range(1, number_of_tests + 1):\n",
    "    real_alpha = hawkes_mle_data_experiment[hawkes_mle_data_experiment[\"Test Index\"] == i][\"Real Alpha\"].values[0]\n",
    "    real_beta = hawkes_mle_data_experiment[hawkes_mle_data_experiment[\"Test Index\"] == i][\"Real Beta\"].values[0]\n",
    "    real_baseline = hawkes_mle_data_experiment[hawkes_mle_data_experiment[\"Test Index\"] == i][\"Real Baseline\"].values[0]\n",
    "    mean_estimated_parameters_current_test_mle = mean_estimated_parameters_by_test_per_delta_mle[mean_estimated_parameters_by_test_per_delta_mle[\"Test Index\"] == i]\n",
    "    mean_estimated_parameters_current_test_whittle = mean_estimated_parameters_by_test_per_delta_whittle[mean_estimated_parameters_by_test_per_delta_whittle[\"Test Index\"] == i]\n",
    "    ##plt.plot(mean_estimated_parameters_current_test_mle[\"Delta\"], mean_estimated_parameters_current_test_mle[\"Mean Estimated Beta\"], linewidth = 1.5, markersize = 10, label = \"Estimated Mean Alpha - Mle\")\n",
    "    ##plt.plot(mean_estimated_parameters_current_test_whittle[\"Delta\"], mean_estimated_parameters_current_test_whittle[\"Mean Estimated Beta\"], linewidth = 1.5, markersize = 10, label = \"Estimated Mean Alpha - Whittle\")\n",
    "    plt.errorbar(mean_estimated_parameters_current_test_mle[\"Delta\"], mean_estimated_parameters_current_test_mle[\"Mean Estimated Beta\"] , yerr = mean_estimated_parameters_current_test_mle[\"Std Estimated Beta\"] , fmt='--o', label = \"Estimated Mean Beta - MLE\")\n",
    "    ##plt.errorbar(mean_estimated_parameters_current_test_whittle[\"Delta\"], mean_estimated_parameters_current_test_whittle[\"Mean Estimated Beta\"] , yerr = mean_estimated_parameters_current_test_whittle[\"Std Estimated Beta\"] , fmt='--o', label = \"Estimated Mean Beta - Whittle\")\n",
    "    plt.plot([0], [real_beta], marker = \"x\", linewidth = 1.5, markersize = 10, label = f\"Real Beta = {real_beta}\", color = 'r')\n",
    "    plt.title(f\"Mean Estimated Beta vs Delta - Test {i}\")\n",
    "    plt.xlabel(\"Delta\")\n",
    "    plt.ylabel(\"Mean Estimated Beta\")\n",
    "    plt.legend(loc =  1,  prop={\"size\":8})\n",
    "    plt.show()\n",
    "\n"
   ]
  },
  {
   "cell_type": "markdown",
   "metadata": {},
   "source": [
    "**Plotting mean of estimated $\\lambda_{0}$ for each test vs $\\delta$**"
   ]
  },
  {
   "cell_type": "code",
   "execution_count": 222,
   "metadata": {},
   "outputs": [
    {
     "data": {
      "image/png": "[encoded data removed]",
      "text/plain": [
       "<Figure size 432x288 with 1 Axes>"
      ]
     },
     "metadata": {
      "needs_background": "light"
     },
     "output_type": "display_data"
    }
   ],
   "source": [
    "number_of_tests = hawkes_mle_data_experiment[\"Test Index\"].nunique()\n",
    "\n",
    "for i in range(1, number_of_tests + 1):\n",
    "    real_alpha = hawkes_mle_data_experiment[hawkes_mle_data_experiment[\"Test Index\"] == i][\"Real Alpha\"].values[0]\n",
    "    real_beta = hawkes_mle_data_experiment[hawkes_mle_data_experiment[\"Test Index\"] == i][\"Real Beta\"].values[0]\n",
    "    real_baseline = hawkes_mle_data_experiment[hawkes_mle_data_experiment[\"Test Index\"] == i][\"Real Baseline\"].values[0]\n",
    "    mean_estimated_parameters_current_test_mle = mean_estimated_parameters_by_test_per_delta_mle[mean_estimated_parameters_by_test_per_delta_mle[\"Test Index\"] == i]\n",
    "    mean_estimated_parameters_current_test_whittle = mean_estimated_parameters_by_test_per_delta_whittle[mean_estimated_parameters_by_test_per_delta_whittle[\"Test Index\"] == i]\n",
    "    ##plt.plot(mean_estimated_parameters_current_test_mle[\"Delta\"], mean_estimated_parameters_current_test_mle[\"Mean Estimated Alpha\"], linewidth = 1.5, markersize = 10, label = \"Estimated Mean Alpha - Mle\")\n",
    "    ##plt.plot(mean_estimated_parameters_current_test_whittle[\"Delta\"], mean_estimated_parameters_current_test_whittle[\"Mean Estimated Alpha\"], linewidth = 1.5, markersize = 10, label = \"Estimated Mean Alpha - Whittle\")\n",
    "    plt.errorbar(mean_estimated_parameters_current_test_mle[\"Delta\"][:30], mean_estimated_parameters_current_test_mle[\"Mean Estimated Baseline\"][:30] , yerr = mean_estimated_parameters_current_test_mle[\"Std Estimated Baseline\"][:30] , fmt='--o', label = \"Estimated Mean Baseline - MLE\")\n",
    "    ##plt.errorbar(mean_estimated_parameters_current_test_whittle[\"Delta\"][:30], mean_estimated_parameters_current_test_whittle[\"Mean Estimated Baseline\"][:30] , yerr = mean_estimated_parameters_current_test_whittle[\"Std Estimated Baseline\"][:30] , fmt='--o', label = \"Estimated Mean Baseline - Whittle\")\n",
    "    plt.plot([0], [real_baseline], marker = \"x\", linewidth = 1.5, markersize = 10, label = f\"Real Baseline = {real_baseline}\", color = 'r')\n",
    "    plt.title(f\"Mean Estimated Baseline vs Delta - Test {i}\")\n",
    "    plt.xlabel(\"Delta\")\n",
    "    plt.ylabel(\"Mean Estimated Baseline\")\n",
    "    plt.legend(loc =  1,  prop={\"size\":8})\n",
    "    plt.show()"
   ]
  },
  {
   "cell_type": "code",
   "execution_count": 223,
   "metadata": {},
   "outputs": [
    {
     "data": {
      "image/png": "[encoded data removed]",
      "text/plain": [
       "<Figure size 432x288 with 1 Axes>"
      ]
     },
     "metadata": {
      "needs_background": "light"
     },
     "output_type": "display_data"
    }
   ],
   "source": [
    "number_of_tests = hawkes_mle_data_experiment[\"Test Index\"].nunique()\n",
    "\n",
    "\n",
    "for i in range(1, number_of_tests + 1):\n",
    "    real_alpha = hawkes_mle_data_experiment[hawkes_mle_data_experiment[\"Test Index\"] == i][\"Real Alpha\"].values[0]\n",
    "    real_beta = hawkes_mle_data_experiment[hawkes_mle_data_experiment[\"Test Index\"] == i][\"Real Beta\"].values[0]\n",
    "    real_baseline = hawkes_mle_data_experiment[hawkes_mle_data_experiment[\"Test Index\"] == i][\"Real Baseline\"].values[0]\n",
    "    real_endogeneity = real_alpha/real_beta\n",
    "    mean_estimated_parameters_current_test_mle = mean_estimated_parameters_by_test_per_delta_mle[mean_estimated_parameters_by_test_per_delta_mle[\"Test Index\"] == i]\n",
    "    mean_estimated_parameters_current_test_whittle = mean_estimated_parameters_by_test_per_delta_whittle[mean_estimated_parameters_by_test_per_delta_whittle[\"Test Index\"] == i]\n",
    "    plt.plot(mean_estimated_parameters_current_test_mle[\"Delta\"], mean_estimated_parameters_current_test_mle[\"Mean Estimated Alpha\"]/mean_estimated_parameters_current_test_mle[\"Mean Estimated Beta\"], linewidth = 1.5, markersize = 10, label = \"Estimated Mean Endogeneity - MLE\")\n",
    "    ##plt.plot(mean_estimated_parameters_current_test_whittle[\"Delta\"], mean_estimated_parameters_current_test_whittle[\"Mean Estimated Alpha\"]/mean_estimated_parameters_current_test_whittle[\"Mean Estimated Beta\"], linewidth = 1.5, markersize = 10, label = \"Estimated Mean Endogeneity - Whittle\")\n",
    "    ##plt.errorbar(mean_estimated_parameters_current_test_mle[\"Delta\"], mean_estimated_parameters_current_test_mle[\"Mean Estimated Alpha\"]/mean_estimated_parameters_current_test_mle[\"Mean Estimated Beta\"] , yerr = mean_estimated_parameters_current_test_mle[\"Std Estimated Alpha\"]/mean_estimated_parameters_current_test_whittle[\"Std Estimated Beta\"] , fmt='--o', label = \"Estimated Mean ENdogeneity - MLE\")\n",
    "    ##plt.errorbar(mean_estimated_parameters_current_test_whittle[\"Delta\"], mean_estimated_parameters_current_test_whittle[\"Mean Estimated Alpha\"]/mean_estimated_parameters_current_test_whittle[\"Mean Estimated Beta\"] , yerr = mean_estimated_parameters_current_test_whittle[\"Std Estimated Alpha\"]/mean_estimated_parameters_current_test_whittle[\"Std Estimated Beta\"] , fmt='--o', label = \"Estimated Mean Endogeneity - Whittle\")\n",
    "    plt.plot([0], [real_endogeneity], marker = \"x\", linewidth = 1.5, markersize = 10, label = f\"Real Endogeneity = {real_endogeneity:.2f}\", color = 'r')\n",
    "    plt.title(f\"Mean Estimated Endogeneity vs Delta - Test {i}\")\n",
    "    plt.xlabel(\"Delta\")\n",
    "    plt.ylabel(\"Mean Estimated Endogeneity\")\n",
    "    plt.legend(loc =  1,  prop={\"size\":7})\n",
    "    plt.show()"
   ]
  },
  {
   "cell_type": "markdown",
   "metadata": {},
   "source": [
    "## Studying the mean distribution of timestamps within $\\delta$-bins"
   ]
  },
  {
   "cell_type": "code",
   "execution_count": 183,
   "metadata": {},
   "outputs": [],
   "source": [
    "bin_mean_count = pd.read_csv(\"bin_count.csv\")"
   ]
  },
  {
   "cell_type": "code",
   "execution_count": 184,
   "metadata": {},
   "outputs": [
    {
     "data": {
      "text/html": [
       "<div>\n",
       "<style scoped>\n",
       "    .dataframe tbody tr th:only-of-type {\n",
       "        vertical-align: middle;\n",
       "    }\n",
       "\n",
       "    .dataframe tbody tr th {\n",
       "        vertical-align: top;\n",
       "    }\n",
       "\n",
       "    .dataframe thead th {\n",
       "        text-align: right;\n",
       "    }\n",
       "</style>\n",
       "<table border=\"1\" class=\"dataframe\">\n",
       "  <thead>\n",
       "    <tr style=\"text-align: right;\">\n",
       "      <th></th>\n",
       "      <th>Test Index</th>\n",
       "      <th>Simulation Index</th>\n",
       "      <th>Delta</th>\n",
       "      <th>Mean Bin Count</th>\n",
       "    </tr>\n",
       "  </thead>\n",
       "  <tbody>\n",
       "    <tr>\n",
       "      <th>0</th>\n",
       "      <td>1</td>\n",
       "      <td>1</td>\n",
       "      <td>0.01</td>\n",
       "      <td>0.02164</td>\n",
       "    </tr>\n",
       "    <tr>\n",
       "      <th>1</th>\n",
       "      <td>1</td>\n",
       "      <td>1</td>\n",
       "      <td>0.01</td>\n",
       "      <td>0.02164</td>\n",
       "    </tr>\n",
       "    <tr>\n",
       "      <th>2</th>\n",
       "      <td>1</td>\n",
       "      <td>1</td>\n",
       "      <td>0.01</td>\n",
       "      <td>0.02164</td>\n",
       "    </tr>\n",
       "    <tr>\n",
       "      <th>3</th>\n",
       "      <td>1</td>\n",
       "      <td>1</td>\n",
       "      <td>0.01</td>\n",
       "      <td>0.02164</td>\n",
       "    </tr>\n",
       "    <tr>\n",
       "      <th>4</th>\n",
       "      <td>1</td>\n",
       "      <td>1</td>\n",
       "      <td>0.01</td>\n",
       "      <td>0.02164</td>\n",
       "    </tr>\n",
       "  </tbody>\n",
       "</table>\n",
       "</div>"
      ],
      "text/plain": [
       "   Test Index  Simulation Index  Delta  Mean Bin Count\n",
       "0           1                 1   0.01         0.02164\n",
       "1           1                 1   0.01         0.02164\n",
       "2           1                 1   0.01         0.02164\n",
       "3           1                 1   0.01         0.02164\n",
       "4           1                 1   0.01         0.02164"
      ]
     },
     "execution_count": 184,
     "metadata": {},
     "output_type": "execute_result"
    }
   ],
   "source": [
    "bin_mean_count.head()"
   ]
  },
  {
   "cell_type": "code",
   "execution_count": 185,
   "metadata": {},
   "outputs": [
    {
     "data": {
      "text/plain": [
       "(9700, 4)"
      ]
     },
     "execution_count": 185,
     "metadata": {},
     "output_type": "execute_result"
    }
   ],
   "source": [
    "bin_mean_count.shape"
   ]
  },
  {
   "cell_type": "markdown",
   "metadata": {},
   "source": [
    "**Mean Bin Cout per $\\delta$**"
   ]
  },
  {
   "cell_type": "code",
   "execution_count": 186,
   "metadata": {},
   "outputs": [],
   "source": [
    "bin_mean_count_per_delta = bin_mean_count.groupby(\"Delta\").mean()[\"Mean Bin Count\"]"
   ]
  },
  {
   "cell_type": "code",
   "execution_count": 188,
   "metadata": {},
   "outputs": [
    {
     "data": {
      "text/plain": [
       "Delta\n",
       "0.01    0.020018\n",
       "0.02    0.040035\n",
       "0.03    0.060053\n",
       "0.04    0.080070\n",
       "0.05    0.100086\n",
       "0.06    0.120109\n",
       "0.07    0.140127\n",
       "0.08    0.160138\n",
       "0.09    0.180156\n",
       "0.10    0.200166\n",
       "0.11    0.220204\n",
       "0.12    0.240208\n",
       "0.13    0.260225\n",
       "0.14    0.280262\n",
       "0.15    0.300275\n",
       "0.16    0.320261\n",
       "0.17    0.340298\n",
       "0.18    0.360329\n",
       "0.19    0.380321\n",
       "0.20    0.400326\n",
       "Name: Mean Bin Count, dtype: float64"
      ]
     },
     "execution_count": 188,
     "metadata": {},
     "output_type": "execute_result"
    }
   ],
   "source": [
    "bin_mean_count_per_delta"
   ]
  },
  {
   "cell_type": "code",
   "execution_count": 189,
   "metadata": {},
   "outputs": [
    {
     "data": {
      "text/plain": [
       "Text(0.01, 0.18, '$\\\\frac{\\\\alpha}{\\\\beta}$ = 0.33')"
      ]
     },
     "execution_count": 189,
     "metadata": {},
     "output_type": "execute_result"
    },
    {
     "data": {
      "image/png": "[encoded data removed]",
      "text/plain": [
       "<Figure size 432x288 with 1 Axes>"
      ]
     },
     "metadata": {
      "needs_background": "light"
     },
     "output_type": "display_data"
    }
   ],
   "source": [
    "plt.plot(bin_mean_count[\"Delta\"].unique(), bin_mean_count_per_delta)\n",
    "plt.title(r\"Bin Mean Count per $\\delta$\")\n",
    "plt.ylabel(\"Bin Mean Count\")\n",
    "plt.xlabel(r\"$\\delta$\")\n",
    "plt.text(0.01, 0.18, r\"$\\frac{{\\alpha}}{{\\beta}}$ = {:.2f}\".format(real_endogeneity), fontsize = 16)"
   ]
  },
  {
   "cell_type": "markdown",
   "metadata": {},
   "source": [
    "**From theory, we know that the mean baseline per unit time is given by: $\\overline{\\lambda} = \\frac{\\lambda_{0}}{1 - \\frac{\\alpha}{\\beta}}$:**"
   ]
  },
  {
   "cell_type": "markdown",
   "metadata": {},
   "source": [
    "**Theoretical mean baseline:**"
   ]
  },
  {
   "cell_type": "code",
   "execution_count": 190,
   "metadata": {},
   "outputs": [
    {
     "name": "stdout",
     "output_type": "stream",
     "text": [
      "1.50\n"
     ]
    }
   ],
   "source": [
    "print(f\"{real_baseline/(1 - (real_alpha/real_beta)):.2f}\")"
   ]
  },
  {
   "cell_type": "markdown",
   "metadata": {},
   "source": [
    "**Empirical mean baseline:**"
   ]
  },
  {
   "cell_type": "code",
   "execution_count": 191,
   "metadata": {},
   "outputs": [
    {
     "name": "stdout",
     "output_type": "stream",
     "text": [
      "2.00\n"
     ]
    }
   ],
   "source": [
    "print(\"{:.2f}\".format(np.mean(bin_mean_count_per_delta/bin_mean_count[\"Delta\"].unique())))"
   ]
  },
  {
   "cell_type": "markdown",
   "metadata": {},
   "source": [
    "## Testing for different $\\alpha$"
   ]
  },
  {
   "cell_type": "code",
   "execution_count": 81,
   "metadata": {},
   "outputs": [],
   "source": [
    "colors = ['b','g','r','m','w','c','y','k','orange','mediumblue']"
   ]
  },
  {
   "cell_type": "code",
   "execution_count": 82,
   "metadata": {},
   "outputs": [],
   "source": [
    "hawkes_mle_data_experiment_different_alphas = pd.read_csv(\"results_mle_different_alphas.csv\")"
   ]
  },
  {
   "cell_type": "code",
   "execution_count": 83,
   "metadata": {},
   "outputs": [],
   "source": [
    "mean_estimated_parameters_by_test_per_delta_mle_different_alphas  = return_mean_estimated_parameters_by_each_test_per_delta(hawkes_mle_data_experiment_different_alphas)"
   ]
  },
  {
   "cell_type": "code",
   "execution_count": 84,
   "metadata": {},
   "outputs": [
    {
     "data": {
      "text/html": [
       "<div>\n",
       "<style scoped>\n",
       "    .dataframe tbody tr th:only-of-type {\n",
       "        vertical-align: middle;\n",
       "    }\n",
       "\n",
       "    .dataframe tbody tr th {\n",
       "        vertical-align: top;\n",
       "    }\n",
       "\n",
       "    .dataframe thead th {\n",
       "        text-align: right;\n",
       "    }\n",
       "</style>\n",
       "<table border=\"1\" class=\"dataframe\">\n",
       "  <thead>\n",
       "    <tr style=\"text-align: right;\">\n",
       "      <th></th>\n",
       "      <th>Test Index</th>\n",
       "      <th>Delta</th>\n",
       "      <th>Mean Estimated Baseline</th>\n",
       "      <th>Mean Estimated Alpha</th>\n",
       "      <th>Mean Estimated Beta</th>\n",
       "      <th>Max Estimated Baseline</th>\n",
       "      <th>Max Estimated Alpha</th>\n",
       "      <th>Max Estimated Beta</th>\n",
       "      <th>Min Estimated Baseline</th>\n",
       "      <th>Min Estimated Alpha</th>\n",
       "      <th>Min Estimated Beta</th>\n",
       "      <th>Std Estimated Baseline</th>\n",
       "      <th>Std Estimated Alpha</th>\n",
       "      <th>Std Estimated Beta</th>\n",
       "    </tr>\n",
       "  </thead>\n",
       "  <tbody>\n",
       "    <tr>\n",
       "      <th>0</th>\n",
       "      <td>1.0</td>\n",
       "      <td>0.00</td>\n",
       "      <td>1.001465</td>\n",
       "      <td>0.098270</td>\n",
       "      <td>1.570687</td>\n",
       "      <td>1.049787</td>\n",
       "      <td>0.139544</td>\n",
       "      <td>3.077500</td>\n",
       "      <td>0.965658</td>\n",
       "      <td>0.059103</td>\n",
       "      <td>0.912089</td>\n",
       "      <td>0.019830</td>\n",
       "      <td>0.015251</td>\n",
       "      <td>0.407497</td>\n",
       "    </tr>\n",
       "    <tr>\n",
       "      <th>1</th>\n",
       "      <td>1.0</td>\n",
       "      <td>0.01</td>\n",
       "      <td>1.001588</td>\n",
       "      <td>0.098159</td>\n",
       "      <td>1.577056</td>\n",
       "      <td>1.049744</td>\n",
       "      <td>0.139407</td>\n",
       "      <td>3.067449</td>\n",
       "      <td>0.965819</td>\n",
       "      <td>0.059001</td>\n",
       "      <td>0.916324</td>\n",
       "      <td>0.019835</td>\n",
       "      <td>0.015267</td>\n",
       "      <td>0.410883</td>\n",
       "    </tr>\n",
       "    <tr>\n",
       "      <th>2</th>\n",
       "      <td>1.0</td>\n",
       "      <td>0.02</td>\n",
       "      <td>1.001941</td>\n",
       "      <td>0.097841</td>\n",
       "      <td>1.597611</td>\n",
       "      <td>1.051009</td>\n",
       "      <td>0.139397</td>\n",
       "      <td>3.268682</td>\n",
       "      <td>0.966112</td>\n",
       "      <td>0.057505</td>\n",
       "      <td>0.912740</td>\n",
       "      <td>0.019943</td>\n",
       "      <td>0.015363</td>\n",
       "      <td>0.430523</td>\n",
       "    </tr>\n",
       "    <tr>\n",
       "      <th>3</th>\n",
       "      <td>1.0</td>\n",
       "      <td>0.03</td>\n",
       "      <td>1.002516</td>\n",
       "      <td>0.097323</td>\n",
       "      <td>1.628141</td>\n",
       "      <td>1.051789</td>\n",
       "      <td>0.139101</td>\n",
       "      <td>3.359686</td>\n",
       "      <td>0.966561</td>\n",
       "      <td>0.057620</td>\n",
       "      <td>0.920186</td>\n",
       "      <td>0.020086</td>\n",
       "      <td>0.015512</td>\n",
       "      <td>0.454764</td>\n",
       "    </tr>\n",
       "    <tr>\n",
       "      <th>4</th>\n",
       "      <td>1.0</td>\n",
       "      <td>0.04</td>\n",
       "      <td>1.003433</td>\n",
       "      <td>0.096499</td>\n",
       "      <td>1.678006</td>\n",
       "      <td>1.054646</td>\n",
       "      <td>0.138854</td>\n",
       "      <td>3.879548</td>\n",
       "      <td>0.967260</td>\n",
       "      <td>0.055271</td>\n",
       "      <td>0.942029</td>\n",
       "      <td>0.020235</td>\n",
       "      <td>0.015592</td>\n",
       "      <td>0.500882</td>\n",
       "    </tr>\n",
       "  </tbody>\n",
       "</table>\n",
       "</div>"
      ],
      "text/plain": [
       "   Test Index  Delta  Mean Estimated Baseline  Mean Estimated Alpha  \\\n",
       "0         1.0   0.00                 1.001465              0.098270   \n",
       "1         1.0   0.01                 1.001588              0.098159   \n",
       "2         1.0   0.02                 1.001941              0.097841   \n",
       "3         1.0   0.03                 1.002516              0.097323   \n",
       "4         1.0   0.04                 1.003433              0.096499   \n",
       "\n",
       "   Mean Estimated Beta  Max Estimated Baseline  Max Estimated Alpha  \\\n",
       "0             1.570687                1.049787             0.139544   \n",
       "1             1.577056                1.049744             0.139407   \n",
       "2             1.597611                1.051009             0.139397   \n",
       "3             1.628141                1.051789             0.139101   \n",
       "4             1.678006                1.054646             0.138854   \n",
       "\n",
       "   Max Estimated Beta  Min Estimated Baseline  Min Estimated Alpha  \\\n",
       "0            3.077500                0.965658             0.059103   \n",
       "1            3.067449                0.965819             0.059001   \n",
       "2            3.268682                0.966112             0.057505   \n",
       "3            3.359686                0.966561             0.057620   \n",
       "4            3.879548                0.967260             0.055271   \n",
       "\n",
       "   Min Estimated Beta  Std Estimated Baseline  Std Estimated Alpha  \\\n",
       "0            0.912089                0.019830             0.015251   \n",
       "1            0.916324                0.019835             0.015267   \n",
       "2            0.912740                0.019943             0.015363   \n",
       "3            0.920186                0.020086             0.015512   \n",
       "4            0.942029                0.020235             0.015592   \n",
       "\n",
       "   Std Estimated Beta  \n",
       "0            0.407497  \n",
       "1            0.410883  \n",
       "2            0.430523  \n",
       "3            0.454764  \n",
       "4            0.500882  "
      ]
     },
     "execution_count": 84,
     "metadata": {},
     "output_type": "execute_result"
    }
   ],
   "source": [
    "mean_estimated_parameters_by_test_per_delta_mle_different_alphas.head(5)"
   ]
  },
  {
   "cell_type": "code",
   "execution_count": 123,
   "metadata": {},
   "outputs": [
    {
     "name": "stdout",
     "output_type": "stream",
     "text": [
      "10\n"
     ]
    },
    {
     "data": {
      "image/png": "[encoded data removed]",
      "text/plain": [
       "<Figure size 432x288 with 1 Axes>"
      ]
     },
     "metadata": {
      "needs_background": "light"
     },
     "output_type": "display_data"
    }
   ],
   "source": [
    "number_of_tests = hawkes_mle_data_experiment_different_alphas[\"Test Index\"].nunique()\n",
    "print(number_of_tests) \n",
    "\n",
    "\n",
    "for i in range(3, 10):\n",
    "    real_alpha = hawkes_mle_data_experiment_different_alphas[hawkes_mle_data_experiment_different_alphas[\"Test Index\"] == i][\"Real Alpha\"].values[0]\n",
    "    real_beta = hawkes_mle_data_experiment_different_alphas[hawkes_mle_data_experiment_different_alphas[\"Test Index\"] == i][\"Real Beta\"].values[0]\n",
    "    real_baseline = hawkes_mle_data_experiment_different_alphas[hawkes_mle_data_experiment_different_alphas[\"Test Index\"] == i][\"Real Baseline\"].values[0]\n",
    "    mean_estimated_parameters_current_test_mle_different_alphas = mean_estimated_parameters_by_test_per_delta_mle_different_alphas[mean_estimated_parameters_by_test_per_delta_mle_different_alphas[\"Test Index\"] == i]\n",
    "    plt.plot(mean_estimated_parameters_current_test_mle_different_alphas[\"Delta\"], mean_estimated_parameters_current_test_mle_different_alphas[\"Mean Estimated Alpha\"], linewidth = 1.5, markersize = 10, label = f\"Estimated Alpha\", color = colors[i-1])\n",
    "    plt.plot([0], [real_alpha], marker = \"x\", linewidth = 1.5, markersize = 10, label = f\"Real Alpha\", color = colors[i-1])\n",
    "    #plt.legend(loc = 1,  prop={\"size\":8})\n",
    "plt.title(f\"Mean Estimated Alpha vs Delta \")\n",
    "plt.xlabel(\"Delta\")\n",
    "plt.ylabel(\"Mean Estimated Alpha\")\n",
    "plt.show()"
   ]
  }
 ],
 "metadata": {
  "kernelspec": {
   "display_name": "Python 3",
   "language": "python",
   "name": "python3"
  },
  "language_info": {
   "codemirror_mode": {
    "name": "ipython",
    "version": 3
   },
   "file_extension": ".py",
   "mimetype": "text/x-python",
   "name": "python",
   "nbconvert_exporter": "python",
   "pygments_lexer": "ipython3",
   "version": "3.7.6"
  }
 },
 "nbformat": 4,
 "nbformat_minor": 4
}
