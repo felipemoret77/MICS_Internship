{
 "cells": [
  {
   "cell_type": "code",
   "execution_count": 408,
   "metadata": {},
   "outputs": [],
   "source": [
    "import pandas as pd\n",
    "import datetime as dt\n",
    "import numpy as np\n",
    "import matplotlib.pyplot as plt\n",
    "\n",
    "pd.set_option('display.max_columns', None)\n",
    "pd.set_option('display.max_rows', None)"
   ]
  },
  {
   "cell_type": "markdown",
   "metadata": {},
   "source": [
    "**Obtaning Results for Both Methods - Whittle and MLE**"
   ]
  },
  {
   "cell_type": "code",
   "execution_count": 409,
   "metadata": {},
   "outputs": [],
   "source": [
    "results_both_methods = pd.read_csv(\"results.csv\")"
   ]
  },
  {
   "cell_type": "code",
   "execution_count": 410,
   "metadata": {},
   "outputs": [],
   "source": [
    "hawkes_whittle_data_experiment = results_both_methods[results_both_methods[\"Estimation Method\"] == \"whittle\"]"
   ]
  },
  {
   "cell_type": "code",
   "execution_count": 411,
   "metadata": {},
   "outputs": [],
   "source": [
    "hawkes_mle_data_experiment = results_both_methods[results_both_methods[\"Estimation Method\"] == \"mle\"]"
   ]
  },
  {
   "cell_type": "markdown",
   "metadata": {},
   "source": [
    "**Shape of the data**"
   ]
  },
  {
   "cell_type": "code",
   "execution_count": 412,
   "metadata": {},
   "outputs": [
    {
     "data": {
      "text/plain": [
       "(0, 14)"
      ]
     },
     "execution_count": 412,
     "metadata": {},
     "output_type": "execute_result"
    }
   ],
   "source": [
    "hawkes_whittle_data_experiment.shape"
   ]
  },
  {
   "cell_type": "code",
   "execution_count": 413,
   "metadata": {},
   "outputs": [
    {
     "data": {
      "text/plain": [
       "(10000, 14)"
      ]
     },
     "execution_count": 413,
     "metadata": {},
     "output_type": "execute_result"
    }
   ],
   "source": [
    "hawkes_mle_data_experiment.shape"
   ]
  },
  {
   "cell_type": "markdown",
   "metadata": {},
   "source": [
    "**Type of the data**"
   ]
  },
  {
   "cell_type": "code",
   "execution_count": 414,
   "metadata": {},
   "outputs": [
    {
     "data": {
      "text/html": [
       "<div>\n",
       "<style scoped>\n",
       "    .dataframe tbody tr th:only-of-type {\n",
       "        vertical-align: middle;\n",
       "    }\n",
       "\n",
       "    .dataframe tbody tr th {\n",
       "        vertical-align: top;\n",
       "    }\n",
       "\n",
       "    .dataframe thead th {\n",
       "        text-align: right;\n",
       "    }\n",
       "</style>\n",
       "<table border=\"1\" class=\"dataframe\">\n",
       "  <thead>\n",
       "    <tr style=\"text-align: right;\">\n",
       "      <th></th>\n",
       "      <th>Test Index</th>\n",
       "      <th>Simulation Index</th>\n",
       "      <th>Real Alpha</th>\n",
       "      <th>Real Beta</th>\n",
       "      <th>Real Baseline</th>\n",
       "      <th>Real Endogeneity</th>\n",
       "      <th>Delta</th>\n",
       "      <th>Estimated Alpha</th>\n",
       "      <th>Estimated Beta</th>\n",
       "      <th>Estimated Baseline</th>\n",
       "      <th>Estimated Endogeneity</th>\n",
       "      <th>Duplicates</th>\n",
       "      <th>Estimation Method</th>\n",
       "      <th>Initial Estimation Point</th>\n",
       "    </tr>\n",
       "  </thead>\n",
       "  <tbody>\n",
       "  </tbody>\n",
       "</table>\n",
       "</div>"
      ],
      "text/plain": [
       "Empty DataFrame\n",
       "Columns: [Test Index, Simulation Index, Real Alpha, Real Beta, Real Baseline, Real Endogeneity, Delta, Estimated Alpha, Estimated Beta, Estimated Baseline, Estimated Endogeneity, Duplicates, Estimation Method, Initial Estimation Point]\n",
       "Index: []"
      ]
     },
     "execution_count": 414,
     "metadata": {},
     "output_type": "execute_result"
    }
   ],
   "source": [
    "hawkes_whittle_data_experiment.head()"
   ]
  },
  {
   "cell_type": "code",
   "execution_count": 415,
   "metadata": {},
   "outputs": [
    {
     "data": {
      "text/html": [
       "<div>\n",
       "<style scoped>\n",
       "    .dataframe tbody tr th:only-of-type {\n",
       "        vertical-align: middle;\n",
       "    }\n",
       "\n",
       "    .dataframe tbody tr th {\n",
       "        vertical-align: top;\n",
       "    }\n",
       "\n",
       "    .dataframe thead th {\n",
       "        text-align: right;\n",
       "    }\n",
       "</style>\n",
       "<table border=\"1\" class=\"dataframe\">\n",
       "  <thead>\n",
       "    <tr style=\"text-align: right;\">\n",
       "      <th></th>\n",
       "      <th>Test Index</th>\n",
       "      <th>Simulation Index</th>\n",
       "      <th>Real Alpha</th>\n",
       "      <th>Real Beta</th>\n",
       "      <th>Real Baseline</th>\n",
       "      <th>Real Endogeneity</th>\n",
       "      <th>Delta</th>\n",
       "      <th>Estimated Alpha</th>\n",
       "      <th>Estimated Beta</th>\n",
       "      <th>Estimated Baseline</th>\n",
       "      <th>Estimated Endogeneity</th>\n",
       "      <th>Duplicates</th>\n",
       "      <th>Estimation Method</th>\n",
       "      <th>Initial Estimation Point</th>\n",
       "    </tr>\n",
       "  </thead>\n",
       "  <tbody>\n",
       "    <tr>\n",
       "      <th>0</th>\n",
       "      <td>1</td>\n",
       "      <td>1</td>\n",
       "      <td>0.5</td>\n",
       "      <td>1.5</td>\n",
       "      <td>1</td>\n",
       "      <td>0.333333</td>\n",
       "      <td>0.0000</td>\n",
       "      <td>0.509574</td>\n",
       "      <td>1.670606</td>\n",
       "      <td>0.990822</td>\n",
       "      <td>0.305024</td>\n",
       "      <td>randomize</td>\n",
       "      <td>mle</td>\n",
       "      <td>original_parameters</td>\n",
       "    </tr>\n",
       "    <tr>\n",
       "      <th>1</th>\n",
       "      <td>1</td>\n",
       "      <td>1</td>\n",
       "      <td>0.5</td>\n",
       "      <td>1.5</td>\n",
       "      <td>1</td>\n",
       "      <td>0.333333</td>\n",
       "      <td>0.0020</td>\n",
       "      <td>0.509590</td>\n",
       "      <td>1.670633</td>\n",
       "      <td>0.990791</td>\n",
       "      <td>0.305028</td>\n",
       "      <td>randomize</td>\n",
       "      <td>mle</td>\n",
       "      <td>original_parameters</td>\n",
       "    </tr>\n",
       "    <tr>\n",
       "      <th>2</th>\n",
       "      <td>1</td>\n",
       "      <td>1</td>\n",
       "      <td>0.5</td>\n",
       "      <td>1.5</td>\n",
       "      <td>1</td>\n",
       "      <td>0.333333</td>\n",
       "      <td>0.0040</td>\n",
       "      <td>0.509536</td>\n",
       "      <td>1.671778</td>\n",
       "      <td>0.990899</td>\n",
       "      <td>0.304787</td>\n",
       "      <td>randomize</td>\n",
       "      <td>mle</td>\n",
       "      <td>original_parameters</td>\n",
       "    </tr>\n",
       "    <tr>\n",
       "      <th>3</th>\n",
       "      <td>1</td>\n",
       "      <td>1</td>\n",
       "      <td>0.5</td>\n",
       "      <td>1.5</td>\n",
       "      <td>1</td>\n",
       "      <td>0.333333</td>\n",
       "      <td>0.0061</td>\n",
       "      <td>0.509377</td>\n",
       "      <td>1.673369</td>\n",
       "      <td>0.991220</td>\n",
       "      <td>0.304402</td>\n",
       "      <td>randomize</td>\n",
       "      <td>mle</td>\n",
       "      <td>original_parameters</td>\n",
       "    </tr>\n",
       "    <tr>\n",
       "      <th>4</th>\n",
       "      <td>1</td>\n",
       "      <td>1</td>\n",
       "      <td>0.5</td>\n",
       "      <td>1.5</td>\n",
       "      <td>1</td>\n",
       "      <td>0.333333</td>\n",
       "      <td>0.0081</td>\n",
       "      <td>0.509636</td>\n",
       "      <td>1.669531</td>\n",
       "      <td>0.990698</td>\n",
       "      <td>0.305257</td>\n",
       "      <td>randomize</td>\n",
       "      <td>mle</td>\n",
       "      <td>original_parameters</td>\n",
       "    </tr>\n",
       "  </tbody>\n",
       "</table>\n",
       "</div>"
      ],
      "text/plain": [
       "   Test Index  Simulation Index  Real Alpha  Real Beta  Real Baseline  \\\n",
       "0           1                 1         0.5        1.5              1   \n",
       "1           1                 1         0.5        1.5              1   \n",
       "2           1                 1         0.5        1.5              1   \n",
       "3           1                 1         0.5        1.5              1   \n",
       "4           1                 1         0.5        1.5              1   \n",
       "\n",
       "   Real Endogeneity   Delta  Estimated Alpha  Estimated Beta  \\\n",
       "0          0.333333  0.0000         0.509574        1.670606   \n",
       "1          0.333333  0.0020         0.509590        1.670633   \n",
       "2          0.333333  0.0040         0.509536        1.671778   \n",
       "3          0.333333  0.0061         0.509377        1.673369   \n",
       "4          0.333333  0.0081         0.509636        1.669531   \n",
       "\n",
       "   Estimated Baseline  Estimated Endogeneity Duplicates Estimation Method  \\\n",
       "0            0.990822               0.305024  randomize               mle   \n",
       "1            0.990791               0.305028  randomize               mle   \n",
       "2            0.990899               0.304787  randomize               mle   \n",
       "3            0.991220               0.304402  randomize               mle   \n",
       "4            0.990698               0.305257  randomize               mle   \n",
       "\n",
       "  Initial Estimation Point  \n",
       "0      original_parameters  \n",
       "1      original_parameters  \n",
       "2      original_parameters  \n",
       "3      original_parameters  \n",
       "4      original_parameters  "
      ]
     },
     "execution_count": 415,
     "metadata": {},
     "output_type": "execute_result"
    }
   ],
   "source": [
    "hawkes_mle_data_experiment.head()"
   ]
  },
  {
   "cell_type": "markdown",
   "metadata": {},
   "source": [
    "**Plotting the mean of estimated values for each test for each delta value**"
   ]
  },
  {
   "cell_type": "code",
   "execution_count": 416,
   "metadata": {},
   "outputs": [],
   "source": [
    "def return_mean_estimated_parameters_by_each_test_per_delta(hawkes_data_experiment):\n",
    "    number_of_tests = hawkes_data_experiment[\"Test Index\"].nunique()\n",
    "    number_of_deltas = hawkes_data_experiment[\"Simulation Index\"].nunique()\n",
    "    different_deltas = hawkes_data_experiment[\"Delta\"].unique()\n",
    "    print(f\"Deltas Values: {different_deltas}\")\n",
    "\n",
    "    mean_estimated_parameters_by_test_per_delta = pd.DataFrame(columns = [\"Test Index\", \"Delta\", \"Mean Estimated Baseline\", \"Mean Estimated Alpha\", \"Mean Estimated Beta\", \"Max Estimated Baseline\", \"Max Estimated Alpha\", \"Max Estimated Beta\", \"Min Estimated Baseline\", \"Min Estimated Alpha\", \"Min Estimated Beta\",\"Std Estimated Baseline\", \"Std Estimated Alpha\", \"Std Estimated Beta\"])\n",
    "    \n",
    "    for i in range(1,number_of_tests + 1):\n",
    "        current_test = hawkes_data_experiment[hawkes_data_experiment[\"Test Index\"] == i]\n",
    "        for delta in different_deltas:\n",
    "            current_test_for_this_delta = current_test[current_test[\"Delta\"] == delta]\n",
    "            current_estimated_mean_alpha = current_test_for_this_delta[\"Estimated Alpha\"].mean()\n",
    "            current_estimated_mean_beta = current_test_for_this_delta[\"Estimated Beta\"].mean()\n",
    "            current_estimated_mean_baseline = current_test_for_this_delta[\"Estimated Baseline\"].mean()\n",
    "            current_max_estimated_alpha = current_test_for_this_delta[\"Estimated Alpha\"].max()\n",
    "            current_max_estimated_beta = current_test_for_this_delta[\"Estimated Beta\"].max()\n",
    "            current_max_estimated_baseline = current_test_for_this_delta[\"Estimated Baseline\"].max()\n",
    "            current_min_estimated_alpha = current_test_for_this_delta[\"Estimated Alpha\"].min()\n",
    "            current_min_estimated_beta = current_test_for_this_delta[\"Estimated Beta\"].min()\n",
    "            current_min_estimated_baseline = current_test_for_this_delta[\"Estimated Baseline\"].min()\n",
    "            current_std_estimated_baseline = current_test_for_this_delta[\"Estimated Baseline\"].std()\n",
    "            current_std_estimated_alpha = current_test_for_this_delta[\"Estimated Alpha\"].std()\n",
    "            current_std_estimated_beta = current_test_for_this_delta[\"Estimated Beta\"].std()\n",
    "            to_append = [i, delta, current_estimated_mean_baseline, current_estimated_mean_alpha, current_estimated_mean_beta, current_max_estimated_baseline, current_max_estimated_alpha, current_max_estimated_beta, current_min_estimated_baseline, current_min_estimated_alpha, current_min_estimated_beta, current_std_estimated_baseline, current_std_estimated_alpha, current_std_estimated_beta]\n",
    "            to_append_series = pd.Series(to_append, index = mean_estimated_parameters_by_test_per_delta.columns)\n",
    "            mean_estimated_parameters_by_test_per_delta = mean_estimated_parameters_by_test_per_delta.append(to_append_series, ignore_index = True)\n",
    "            \n",
    "    return mean_estimated_parameters_by_test_per_delta \n",
    "       "
   ]
  },
  {
   "cell_type": "code",
   "execution_count": 417,
   "metadata": {},
   "outputs": [
    {
     "name": "stdout",
     "output_type": "stream",
     "text": [
      "Deltas Values: [0.     0.002  0.004  0.0061 0.0081 0.0101 0.0121 0.0141 0.0162 0.0182\n",
      " 0.0202 0.0222 0.0242 0.0263 0.0283 0.0303 0.0323 0.0343 0.0364 0.0384\n",
      " 0.0404 0.0424 0.0444 0.0465 0.0485 0.0505 0.0525 0.0545 0.0566 0.0586\n",
      " 0.0606 0.0626 0.0646 0.0667 0.0687 0.0707 0.0727 0.0747 0.0768 0.0788\n",
      " 0.0808 0.0828 0.0848 0.0869 0.0889 0.0909 0.0929 0.0949 0.097  0.099\n",
      " 0.101  0.103  0.1051 0.1071 0.1091 0.1111 0.1131 0.1152 0.1172 0.1192\n",
      " 0.1212 0.1232 0.1253 0.1273 0.1293 0.1313 0.1333 0.1354 0.1374 0.1394\n",
      " 0.1414 0.1434 0.1455 0.1475 0.1495 0.1515 0.1535 0.1556 0.1576 0.1596\n",
      " 0.1616 0.1636 0.1657 0.1677 0.1697 0.1717 0.1737 0.1758 0.1778 0.1798\n",
      " 0.1818 0.1838 0.1859 0.1879 0.1899 0.1919 0.1939 0.196  0.198  0.2   ]\n"
     ]
    }
   ],
   "source": [
    "mean_estimated_parameters_by_test_per_delta_mle  = return_mean_estimated_parameters_by_each_test_per_delta(hawkes_mle_data_experiment)"
   ]
  },
  {
   "cell_type": "code",
   "execution_count": 418,
   "metadata": {},
   "outputs": [
    {
     "data": {
      "text/html": [
       "<div>\n",
       "<style scoped>\n",
       "    .dataframe tbody tr th:only-of-type {\n",
       "        vertical-align: middle;\n",
       "    }\n",
       "\n",
       "    .dataframe tbody tr th {\n",
       "        vertical-align: top;\n",
       "    }\n",
       "\n",
       "    .dataframe thead th {\n",
       "        text-align: right;\n",
       "    }\n",
       "</style>\n",
       "<table border=\"1\" class=\"dataframe\">\n",
       "  <thead>\n",
       "    <tr style=\"text-align: right;\">\n",
       "      <th></th>\n",
       "      <th>Test Index</th>\n",
       "      <th>Delta</th>\n",
       "      <th>Mean Estimated Baseline</th>\n",
       "      <th>Mean Estimated Alpha</th>\n",
       "      <th>Mean Estimated Beta</th>\n",
       "      <th>Max Estimated Baseline</th>\n",
       "      <th>Max Estimated Alpha</th>\n",
       "      <th>Max Estimated Beta</th>\n",
       "      <th>Min Estimated Baseline</th>\n",
       "      <th>Min Estimated Alpha</th>\n",
       "      <th>Min Estimated Beta</th>\n",
       "      <th>Std Estimated Baseline</th>\n",
       "      <th>Std Estimated Alpha</th>\n",
       "      <th>Std Estimated Beta</th>\n",
       "    </tr>\n",
       "  </thead>\n",
       "  <tbody>\n",
       "    <tr>\n",
       "      <th>0</th>\n",
       "      <td>1.0</td>\n",
       "      <td>0.0000</td>\n",
       "      <td>0.995140</td>\n",
       "      <td>0.494662</td>\n",
       "      <td>1.505341</td>\n",
       "      <td>1.161797</td>\n",
       "      <td>0.565743</td>\n",
       "      <td>1.889475</td>\n",
       "      <td>0.835060</td>\n",
       "      <td>0.430312</td>\n",
       "      <td>1.139445</td>\n",
       "      <td>0.063857</td>\n",
       "      <td>0.033627</td>\n",
       "      <td>0.167655</td>\n",
       "    </tr>\n",
       "    <tr>\n",
       "      <th>1</th>\n",
       "      <td>1.0</td>\n",
       "      <td>0.0020</td>\n",
       "      <td>0.995146</td>\n",
       "      <td>0.494659</td>\n",
       "      <td>1.505363</td>\n",
       "      <td>1.161742</td>\n",
       "      <td>0.565690</td>\n",
       "      <td>1.889475</td>\n",
       "      <td>0.835161</td>\n",
       "      <td>0.430339</td>\n",
       "      <td>1.139520</td>\n",
       "      <td>0.063852</td>\n",
       "      <td>0.033623</td>\n",
       "      <td>0.167582</td>\n",
       "    </tr>\n",
       "    <tr>\n",
       "      <th>2</th>\n",
       "      <td>1.0</td>\n",
       "      <td>0.0040</td>\n",
       "      <td>0.995186</td>\n",
       "      <td>0.494638</td>\n",
       "      <td>1.505692</td>\n",
       "      <td>1.161778</td>\n",
       "      <td>0.565755</td>\n",
       "      <td>1.892308</td>\n",
       "      <td>0.835035</td>\n",
       "      <td>0.430322</td>\n",
       "      <td>1.139908</td>\n",
       "      <td>0.063858</td>\n",
       "      <td>0.033628</td>\n",
       "      <td>0.167823</td>\n",
       "    </tr>\n",
       "    <tr>\n",
       "      <th>3</th>\n",
       "      <td>1.0</td>\n",
       "      <td>0.0061</td>\n",
       "      <td>0.995190</td>\n",
       "      <td>0.494636</td>\n",
       "      <td>1.505733</td>\n",
       "      <td>1.162054</td>\n",
       "      <td>0.565509</td>\n",
       "      <td>1.893749</td>\n",
       "      <td>0.835511</td>\n",
       "      <td>0.430186</td>\n",
       "      <td>1.139697</td>\n",
       "      <td>0.063895</td>\n",
       "      <td>0.033642</td>\n",
       "      <td>0.167798</td>\n",
       "    </tr>\n",
       "    <tr>\n",
       "      <th>4</th>\n",
       "      <td>1.0</td>\n",
       "      <td>0.0081</td>\n",
       "      <td>0.995204</td>\n",
       "      <td>0.494628</td>\n",
       "      <td>1.505781</td>\n",
       "      <td>1.161362</td>\n",
       "      <td>0.565956</td>\n",
       "      <td>1.886019</td>\n",
       "      <td>0.834654</td>\n",
       "      <td>0.430525</td>\n",
       "      <td>1.139182</td>\n",
       "      <td>0.063837</td>\n",
       "      <td>0.033632</td>\n",
       "      <td>0.167813</td>\n",
       "    </tr>\n",
       "  </tbody>\n",
       "</table>\n",
       "</div>"
      ],
      "text/plain": [
       "   Test Index   Delta  Mean Estimated Baseline  Mean Estimated Alpha  \\\n",
       "0         1.0  0.0000                 0.995140              0.494662   \n",
       "1         1.0  0.0020                 0.995146              0.494659   \n",
       "2         1.0  0.0040                 0.995186              0.494638   \n",
       "3         1.0  0.0061                 0.995190              0.494636   \n",
       "4         1.0  0.0081                 0.995204              0.494628   \n",
       "\n",
       "   Mean Estimated Beta  Max Estimated Baseline  Max Estimated Alpha  \\\n",
       "0             1.505341                1.161797             0.565743   \n",
       "1             1.505363                1.161742             0.565690   \n",
       "2             1.505692                1.161778             0.565755   \n",
       "3             1.505733                1.162054             0.565509   \n",
       "4             1.505781                1.161362             0.565956   \n",
       "\n",
       "   Max Estimated Beta  Min Estimated Baseline  Min Estimated Alpha  \\\n",
       "0            1.889475                0.835060             0.430312   \n",
       "1            1.889475                0.835161             0.430339   \n",
       "2            1.892308                0.835035             0.430322   \n",
       "3            1.893749                0.835511             0.430186   \n",
       "4            1.886019                0.834654             0.430525   \n",
       "\n",
       "   Min Estimated Beta  Std Estimated Baseline  Std Estimated Alpha  \\\n",
       "0            1.139445                0.063857             0.033627   \n",
       "1            1.139520                0.063852             0.033623   \n",
       "2            1.139908                0.063858             0.033628   \n",
       "3            1.139697                0.063895             0.033642   \n",
       "4            1.139182                0.063837             0.033632   \n",
       "\n",
       "   Std Estimated Beta  \n",
       "0            0.167655  \n",
       "1            0.167582  \n",
       "2            0.167823  \n",
       "3            0.167798  \n",
       "4            0.167813  "
      ]
     },
     "execution_count": 418,
     "metadata": {},
     "output_type": "execute_result"
    }
   ],
   "source": [
    "mean_estimated_parameters_by_test_per_delta_mle.head()"
   ]
  },
  {
   "cell_type": "code",
   "execution_count": 419,
   "metadata": {},
   "outputs": [
    {
     "name": "stdout",
     "output_type": "stream",
     "text": [
      "Deltas Values: []\n"
     ]
    }
   ],
   "source": [
    "mean_estimated_parameters_by_test_per_delta_whittle  = return_mean_estimated_parameters_by_each_test_per_delta(hawkes_whittle_data_experiment)"
   ]
  },
  {
   "cell_type": "code",
   "execution_count": 420,
   "metadata": {},
   "outputs": [
    {
     "data": {
      "text/html": [
       "<div>\n",
       "<style scoped>\n",
       "    .dataframe tbody tr th:only-of-type {\n",
       "        vertical-align: middle;\n",
       "    }\n",
       "\n",
       "    .dataframe tbody tr th {\n",
       "        vertical-align: top;\n",
       "    }\n",
       "\n",
       "    .dataframe thead th {\n",
       "        text-align: right;\n",
       "    }\n",
       "</style>\n",
       "<table border=\"1\" class=\"dataframe\">\n",
       "  <thead>\n",
       "    <tr style=\"text-align: right;\">\n",
       "      <th></th>\n",
       "      <th>Test Index</th>\n",
       "      <th>Delta</th>\n",
       "      <th>Mean Estimated Baseline</th>\n",
       "      <th>Mean Estimated Alpha</th>\n",
       "      <th>Mean Estimated Beta</th>\n",
       "      <th>Max Estimated Baseline</th>\n",
       "      <th>Max Estimated Alpha</th>\n",
       "      <th>Max Estimated Beta</th>\n",
       "      <th>Min Estimated Baseline</th>\n",
       "      <th>Min Estimated Alpha</th>\n",
       "      <th>Min Estimated Beta</th>\n",
       "      <th>Std Estimated Baseline</th>\n",
       "      <th>Std Estimated Alpha</th>\n",
       "      <th>Std Estimated Beta</th>\n",
       "    </tr>\n",
       "  </thead>\n",
       "  <tbody>\n",
       "  </tbody>\n",
       "</table>\n",
       "</div>"
      ],
      "text/plain": [
       "Empty DataFrame\n",
       "Columns: [Test Index, Delta, Mean Estimated Baseline, Mean Estimated Alpha, Mean Estimated Beta, Max Estimated Baseline, Max Estimated Alpha, Max Estimated Beta, Min Estimated Baseline, Min Estimated Alpha, Min Estimated Beta, Std Estimated Baseline, Std Estimated Alpha, Std Estimated Beta]\n",
       "Index: []"
      ]
     },
     "execution_count": 420,
     "metadata": {},
     "output_type": "execute_result"
    }
   ],
   "source": [
    "mean_estimated_parameters_by_test_per_delta_whittle.head()"
   ]
  },
  {
   "cell_type": "markdown",
   "metadata": {},
   "source": [
    "**Plotting mean of estimated $\\alpha$ for each test vs $\\delta$**"
   ]
  },
  {
   "cell_type": "code",
   "execution_count": 421,
   "metadata": {},
   "outputs": [
    {
     "data": {
      "image/png": "[encoded data removed]",
      "text/plain": [
       "<Figure size 432x288 with 1 Axes>"
      ]
     },
     "metadata": {
      "needs_background": "light"
     },
     "output_type": "display_data"
    }
   ],
   "source": [
    "number_of_tests = hawkes_mle_data_experiment[\"Test Index\"].nunique()\n",
    "\n",
    "\n",
    "for i in range(1, number_of_tests + 1):\n",
    "    real_alpha = hawkes_mle_data_experiment[hawkes_mle_data_experiment[\"Test Index\"] == i][\"Real Alpha\"].values[0]\n",
    "    real_beta = hawkes_mle_data_experiment[hawkes_mle_data_experiment[\"Test Index\"] == i][\"Real Beta\"].values[0]\n",
    "    real_baseline = hawkes_mle_data_experiment[hawkes_mle_data_experiment[\"Test Index\"] == i][\"Real Baseline\"].values[0]\n",
    "    mean_estimated_parameters_current_test_mle = mean_estimated_parameters_by_test_per_delta_mle[mean_estimated_parameters_by_test_per_delta_mle[\"Test Index\"] == i]\n",
    "    mean_estimated_parameters_current_test_whittle = mean_estimated_parameters_by_test_per_delta_whittle[mean_estimated_parameters_by_test_per_delta_whittle[\"Test Index\"] == i]\n",
    "    #plt.plot(mean_estimated_parameters_current_test_mle[\"Delta\"], mean_estimated_parameters_current_test_mle[\"Mean Estimated Alpha\"], linewidth = 1.5, markersize = 10, label = \"Estimated Mean Alpha - Mle\")\n",
    "    #plt.plot(mean_estimated_parameters_current_test_whittle[\"Delta\"], mean_estimated_parameters_current_test_whittle[\"Mean Estimated Alpha\"], linewidth = 1.5, markersize = 10, label = \"Estimated Mean Alpha - Whittle\")\n",
    "    plt.errorbar(mean_estimated_parameters_current_test_mle[\"Delta\"], mean_estimated_parameters_current_test_mle[\"Mean Estimated Alpha\"] , yerr = mean_estimated_parameters_current_test_mle[\"Std Estimated Alpha\"] , fmt='--o', label = \"Estimated Mean Alpha - MLE\")\n",
    "    plt.errorbar(mean_estimated_parameters_current_test_whittle[\"Delta\"], mean_estimated_parameters_current_test_whittle[\"Mean Estimated Alpha\"] , yerr = mean_estimated_parameters_current_test_whittle[\"Std Estimated Alpha\"] , fmt='--o', label = \"Estimated Mean Alpha - Whittle\")\n",
    "    plt.plot([0], [real_alpha], marker = \"x\", linewidth = 1.5, markersize = 10, label = f\"Real Alpha = {real_alpha}\", color = 'r')\n",
    "    plt.title(f\"Mean Estimated Alpha vs Delta - Test {i}\")\n",
    "    plt.xlabel(\"Delta\")\n",
    "    plt.ylabel(\"Mean Estimated Alpha\")\n",
    "    plt.legend(loc =  1,  prop={\"size\":8})\n",
    "    plt.show()"
   ]
  },
  {
   "cell_type": "markdown",
   "metadata": {},
   "source": [
    "**Plotting mean of estimated $\\beta$ for each test vs $\\delta$**"
   ]
  },
  {
   "cell_type": "code",
   "execution_count": 422,
   "metadata": {},
   "outputs": [
    {
     "data": {
      "image/png": "[encoded data removed]",
      "text/plain": [
       "<Figure size 432x288 with 1 Axes>"
      ]
     },
     "metadata": {
      "needs_background": "light"
     },
     "output_type": "display_data"
    }
   ],
   "source": [
    "number_of_tests = hawkes_mle_data_experiment[\"Test Index\"].nunique()\n",
    "\n",
    "for i in range(1, number_of_tests + 1):\n",
    "    real_alpha = hawkes_mle_data_experiment[hawkes_mle_data_experiment[\"Test Index\"] == i][\"Real Alpha\"].values[0]\n",
    "    real_beta = hawkes_mle_data_experiment[hawkes_mle_data_experiment[\"Test Index\"] == i][\"Real Beta\"].values[0]\n",
    "    real_baseline = hawkes_mle_data_experiment[hawkes_mle_data_experiment[\"Test Index\"] == i][\"Real Baseline\"].values[0]\n",
    "    mean_estimated_parameters_current_test_mle = mean_estimated_parameters_by_test_per_delta_mle[mean_estimated_parameters_by_test_per_delta_mle[\"Test Index\"] == i]\n",
    "    mean_estimated_parameters_current_test_whittle = mean_estimated_parameters_by_test_per_delta_whittle[mean_estimated_parameters_by_test_per_delta_whittle[\"Test Index\"] == i]\n",
    "    ##plt.plot(mean_estimated_parameters_current_test_mle[\"Delta\"], mean_estimated_parameters_current_test_mle[\"Mean Estimated Beta\"], linewidth = 1.5, markersize = 10, label = \"Estimated Mean Alpha - Mle\")\n",
    "    ##plt.plot(mean_estimated_parameters_current_test_whittle[\"Delta\"], mean_estimated_parameters_current_test_whittle[\"Mean Estimated Beta\"], linewidth = 1.5, markersize = 10, label = \"Estimated Mean Alpha - Whittle\")\n",
    "    plt.errorbar(mean_estimated_parameters_current_test_mle[\"Delta\"], mean_estimated_parameters_current_test_mle[\"Mean Estimated Beta\"] , yerr = mean_estimated_parameters_current_test_mle[\"Std Estimated Beta\"] , fmt='--o', label = \"Estimated Mean Beta - MLE\")\n",
    "    ##plt.errorbar(mean_estimated_parameters_current_test_whittle[\"Delta\"], mean_estimated_parameters_current_test_whittle[\"Mean Estimated Beta\"] , yerr = mean_estimated_parameters_current_test_whittle[\"Std Estimated Beta\"] , fmt='--o', label = \"Estimated Mean Beta - Whittle\")\n",
    "    plt.plot([0], [real_beta], marker = \"x\", linewidth = 1.5, markersize = 10, label = f\"Real Beta = {real_beta}\", color = 'r')\n",
    "    plt.title(f\"Mean Estimated Beta vs Delta - Test {i}\")\n",
    "    plt.xlabel(\"Delta\")\n",
    "    plt.ylabel(\"Mean Estimated Beta\")\n",
    "    plt.legend(loc =  1,  prop={\"size\":8})\n",
    "    plt.show()\n",
    "\n"
   ]
  },
  {
   "cell_type": "markdown",
   "metadata": {},
   "source": [
    "**Plotting mean of estimated $\\lambda_{0}$ for each test vs $\\delta$**"
   ]
  },
  {
   "cell_type": "code",
   "execution_count": 423,
   "metadata": {},
   "outputs": [
    {
     "data": {
      "image/png": "[encoded data removed]",
      "text/plain": [
       "<Figure size 432x288 with 1 Axes>"
      ]
     },
     "metadata": {
      "needs_background": "light"
     },
     "output_type": "display_data"
    }
   ],
   "source": [
    "number_of_tests = hawkes_mle_data_experiment[\"Test Index\"].nunique()\n",
    "\n",
    "for i in range(1, number_of_tests + 1):\n",
    "    real_alpha = hawkes_mle_data_experiment[hawkes_mle_data_experiment[\"Test Index\"] == i][\"Real Alpha\"].values[0]\n",
    "    real_beta = hawkes_mle_data_experiment[hawkes_mle_data_experiment[\"Test Index\"] == i][\"Real Beta\"].values[0]\n",
    "    real_baseline = hawkes_mle_data_experiment[hawkes_mle_data_experiment[\"Test Index\"] == i][\"Real Baseline\"].values[0]\n",
    "    mean_estimated_parameters_current_test_mle = mean_estimated_parameters_by_test_per_delta_mle[mean_estimated_parameters_by_test_per_delta_mle[\"Test Index\"] == i]\n",
    "    mean_estimated_parameters_current_test_whittle = mean_estimated_parameters_by_test_per_delta_whittle[mean_estimated_parameters_by_test_per_delta_whittle[\"Test Index\"] == i]\n",
    "    ##plt.plot(mean_estimated_parameters_current_test_mle[\"Delta\"], mean_estimated_parameters_current_test_mle[\"Mean Estimated Alpha\"], linewidth = 1.5, markersize = 10, label = \"Estimated Mean Alpha - Mle\")\n",
    "    ##plt.plot(mean_estimated_parameters_current_test_whittle[\"Delta\"], mean_estimated_parameters_current_test_whittle[\"Mean Estimated Alpha\"], linewidth = 1.5, markersize = 10, label = \"Estimated Mean Alpha - Whittle\")\n",
    "    plt.errorbar(mean_estimated_parameters_current_test_mle[\"Delta\"][:30], mean_estimated_parameters_current_test_mle[\"Mean Estimated Baseline\"][:30] , yerr = mean_estimated_parameters_current_test_mle[\"Std Estimated Baseline\"][:30] , fmt='--o', label = \"Estimated Mean Baseline - MLE\")\n",
    "    ##plt.errorbar(mean_estimated_parameters_current_test_whittle[\"Delta\"][:30], mean_estimated_parameters_current_test_whittle[\"Mean Estimated Baseline\"][:30] , yerr = mean_estimated_parameters_current_test_whittle[\"Std Estimated Baseline\"][:30] , fmt='--o', label = \"Estimated Mean Baseline - Whittle\")\n",
    "    plt.plot([0], [real_baseline], marker = \"x\", linewidth = 1.5, markersize = 10, label = f\"Real Baseline = {real_baseline}\", color = 'r')\n",
    "    plt.title(f\"Mean Estimated Baseline vs Delta - Test {i}\")\n",
    "    plt.xlabel(\"Delta\")\n",
    "    plt.ylabel(\"Mean Estimated Baseline\")\n",
    "    plt.legend(loc =  1,  prop={\"size\":8})\n",
    "    plt.show()"
   ]
  },
  {
   "cell_type": "code",
   "execution_count": 424,
   "metadata": {},
   "outputs": [
    {
     "data": {
      "image/png": "[encoded data removed]",
      "text/plain": [
       "<Figure size 432x288 with 1 Axes>"
      ]
     },
     "metadata": {
      "needs_background": "light"
     },
     "output_type": "display_data"
    }
   ],
   "source": [
    "number_of_tests = hawkes_mle_data_experiment[\"Test Index\"].nunique()\n",
    "\n",
    "\n",
    "for i in range(1, number_of_tests + 1):\n",
    "    real_alpha = hawkes_mle_data_experiment[hawkes_mle_data_experiment[\"Test Index\"] == i][\"Real Alpha\"].values[0]\n",
    "    real_beta = hawkes_mle_data_experiment[hawkes_mle_data_experiment[\"Test Index\"] == i][\"Real Beta\"].values[0]\n",
    "    real_baseline = hawkes_mle_data_experiment[hawkes_mle_data_experiment[\"Test Index\"] == i][\"Real Baseline\"].values[0]\n",
    "    real_endogeneity = real_alpha/real_beta\n",
    "    mean_estimated_parameters_current_test_mle = mean_estimated_parameters_by_test_per_delta_mle[mean_estimated_parameters_by_test_per_delta_mle[\"Test Index\"] == i]\n",
    "    mean_estimated_parameters_current_test_whittle = mean_estimated_parameters_by_test_per_delta_whittle[mean_estimated_parameters_by_test_per_delta_whittle[\"Test Index\"] == i]\n",
    "    plt.plot(mean_estimated_parameters_current_test_mle[\"Delta\"], mean_estimated_parameters_current_test_mle[\"Mean Estimated Alpha\"]/mean_estimated_parameters_current_test_mle[\"Mean Estimated Beta\"], linewidth = 1.5, markersize = 10, label = \"Estimated Mean Endogeneity - MLE\")\n",
    "    ##plt.plot(mean_estimated_parameters_current_test_whittle[\"Delta\"], mean_estimated_parameters_current_test_whittle[\"Mean Estimated Alpha\"]/mean_estimated_parameters_current_test_whittle[\"Mean Estimated Beta\"], linewidth = 1.5, markersize = 10, label = \"Estimated Mean Endogeneity - Whittle\")\n",
    "    ##plt.errorbar(mean_estimated_parameters_current_test_mle[\"Delta\"], mean_estimated_parameters_current_test_mle[\"Mean Estimated Alpha\"]/mean_estimated_parameters_current_test_mle[\"Mean Estimated Beta\"] , yerr = mean_estimated_parameters_current_test_mle[\"Std Estimated Alpha\"]/mean_estimated_parameters_current_test_whittle[\"Std Estimated Beta\"] , fmt='--o', label = \"Estimated Mean ENdogeneity - MLE\")\n",
    "    ##plt.errorbar(mean_estimated_parameters_current_test_whittle[\"Delta\"], mean_estimated_parameters_current_test_whittle[\"Mean Estimated Alpha\"]/mean_estimated_parameters_current_test_whittle[\"Mean Estimated Beta\"] , yerr = mean_estimated_parameters_current_test_whittle[\"Std Estimated Alpha\"]/mean_estimated_parameters_current_test_whittle[\"Std Estimated Beta\"] , fmt='--o', label = \"Estimated Mean Endogeneity - Whittle\")\n",
    "    plt.plot([0], [real_endogeneity], marker = \"x\", linewidth = 1.5, markersize = 10, label = f\"Real Endogeneity = {real_endogeneity:.2f}\", color = 'r')\n",
    "    plt.title(f\"Mean Estimated Endogeneity vs Delta - Test {i}\")\n",
    "    plt.xlabel(\"Delta\")\n",
    "    plt.ylabel(\"Mean Estimated Endogeneity\")\n",
    "    plt.legend(loc =  1,  prop={\"size\":7})\n",
    "    plt.show()"
   ]
  },
  {
   "cell_type": "markdown",
   "metadata": {},
   "source": [
    "## Studying the mean distribution of timestamps within $\\delta$-bins"
   ]
  },
  {
   "cell_type": "code",
   "execution_count": 425,
   "metadata": {},
   "outputs": [],
   "source": [
    "bin_mean_count = pd.read_csv(\"bin_count.csv\")"
   ]
  },
  {
   "cell_type": "code",
   "execution_count": 426,
   "metadata": {},
   "outputs": [
    {
     "data": {
      "text/html": [
       "<div>\n",
       "<style scoped>\n",
       "    .dataframe tbody tr th:only-of-type {\n",
       "        vertical-align: middle;\n",
       "    }\n",
       "\n",
       "    .dataframe tbody tr th {\n",
       "        vertical-align: top;\n",
       "    }\n",
       "\n",
       "    .dataframe thead th {\n",
       "        text-align: right;\n",
       "    }\n",
       "</style>\n",
       "<table border=\"1\" class=\"dataframe\">\n",
       "  <thead>\n",
       "    <tr style=\"text-align: right;\">\n",
       "      <th></th>\n",
       "      <th>Test Index</th>\n",
       "      <th>Simulation Index</th>\n",
       "      <th>Delta</th>\n",
       "      <th>Mean Bin Count</th>\n",
       "    </tr>\n",
       "  </thead>\n",
       "  <tbody>\n",
       "    <tr>\n",
       "      <th>0</th>\n",
       "      <td>1</td>\n",
       "      <td>1</td>\n",
       "      <td>0.0020</td>\n",
       "      <td>0.004040</td>\n",
       "    </tr>\n",
       "    <tr>\n",
       "      <th>1</th>\n",
       "      <td>1</td>\n",
       "      <td>1</td>\n",
       "      <td>0.0040</td>\n",
       "      <td>0.008080</td>\n",
       "    </tr>\n",
       "    <tr>\n",
       "      <th>2</th>\n",
       "      <td>1</td>\n",
       "      <td>1</td>\n",
       "      <td>0.0061</td>\n",
       "      <td>0.012322</td>\n",
       "    </tr>\n",
       "    <tr>\n",
       "      <th>3</th>\n",
       "      <td>1</td>\n",
       "      <td>1</td>\n",
       "      <td>0.0081</td>\n",
       "      <td>0.016362</td>\n",
       "    </tr>\n",
       "    <tr>\n",
       "      <th>4</th>\n",
       "      <td>1</td>\n",
       "      <td>1</td>\n",
       "      <td>0.0101</td>\n",
       "      <td>0.020402</td>\n",
       "    </tr>\n",
       "  </tbody>\n",
       "</table>\n",
       "</div>"
      ],
      "text/plain": [
       "   Test Index  Simulation Index   Delta  Mean Bin Count\n",
       "0           1                 1  0.0020        0.004040\n",
       "1           1                 1  0.0040        0.008080\n",
       "2           1                 1  0.0061        0.012322\n",
       "3           1                 1  0.0081        0.016362\n",
       "4           1                 1  0.0101        0.020402"
      ]
     },
     "execution_count": 426,
     "metadata": {},
     "output_type": "execute_result"
    }
   ],
   "source": [
    "bin_mean_count.head()"
   ]
  },
  {
   "cell_type": "code",
   "execution_count": 427,
   "metadata": {},
   "outputs": [
    {
     "data": {
      "text/plain": [
       "(9900, 4)"
      ]
     },
     "execution_count": 427,
     "metadata": {},
     "output_type": "execute_result"
    }
   ],
   "source": [
    "bin_mean_count.shape"
   ]
  },
  {
   "cell_type": "markdown",
   "metadata": {},
   "source": [
    "**Mean Bin Cout per $\\delta$**"
   ]
  },
  {
   "cell_type": "code",
   "execution_count": 428,
   "metadata": {},
   "outputs": [],
   "source": [
    "bin_mean_count_per_delta = bin_mean_count.groupby(\"Delta\").mean()[\"Mean Bin Count\"]"
   ]
  },
  {
   "cell_type": "code",
   "execution_count": 429,
   "metadata": {},
   "outputs": [
    {
     "data": {
      "text/plain": [
       "Delta\n",
       "0.0020    0.003940\n",
       "0.0040    0.007879\n",
       "0.0061    0.012016\n",
       "0.0081    0.015955\n",
       "0.0101    0.019895\n",
       "0.0121    0.023835\n",
       "0.0141    0.027774\n",
       "0.0162    0.031910\n",
       "0.0182    0.035850\n",
       "0.0202    0.039790\n",
       "0.0222    0.043729\n",
       "0.0242    0.047669\n",
       "0.0263    0.051806\n",
       "0.0283    0.055745\n",
       "0.0303    0.059684\n",
       "0.0323    0.063625\n",
       "0.0343    0.067564\n",
       "0.0364    0.071701\n",
       "0.0384    0.075641\n",
       "0.0404    0.079580\n",
       "0.0424    0.083521\n",
       "0.0444    0.087459\n",
       "0.0465    0.091595\n",
       "0.0485    0.095536\n",
       "0.0505    0.099478\n",
       "0.0525    0.103415\n",
       "0.0545    0.107355\n",
       "0.0566    0.111493\n",
       "0.0586    0.115433\n",
       "0.0606    0.119372\n",
       "0.0626    0.123310\n",
       "0.0646    0.127253\n",
       "0.0667    0.131387\n",
       "0.0687    0.135322\n",
       "0.0707    0.139264\n",
       "0.0727    0.143202\n",
       "0.0747    0.147150\n",
       "0.0768    0.151286\n",
       "0.0788    0.155220\n",
       "0.0808    0.159158\n",
       "0.0828    0.163098\n",
       "0.0848    0.167040\n",
       "0.0869    0.171177\n",
       "0.0889    0.175118\n",
       "0.0909    0.179050\n",
       "0.0929    0.182992\n",
       "0.0949    0.186934\n",
       "0.0970    0.191068\n",
       "0.0990    0.195002\n",
       "0.1010    0.198962\n",
       "0.1030    0.202896\n",
       "0.1051    0.207033\n",
       "0.1071    0.210957\n",
       "0.1091    0.214917\n",
       "0.1111    0.218857\n",
       "0.1131    0.222793\n",
       "0.1152    0.226925\n",
       "0.1172    0.230861\n",
       "0.1192    0.234796\n",
       "0.1212    0.238752\n",
       "0.1232    0.242692\n",
       "0.1253    0.246827\n",
       "0.1273    0.250755\n",
       "0.1293    0.254710\n",
       "0.1313    0.258623\n",
       "0.1333    0.262588\n",
       "0.1354    0.266710\n",
       "0.1374    0.270631\n",
       "0.1394    0.274592\n",
       "0.1414    0.278514\n",
       "0.1434    0.282468\n",
       "0.1455    0.286620\n",
       "0.1475    0.290550\n",
       "0.1495    0.294504\n",
       "0.1515    0.298430\n",
       "0.1535    0.302370\n",
       "0.1556    0.306511\n",
       "0.1576    0.310424\n",
       "0.1596    0.314388\n",
       "0.1616    0.318300\n",
       "0.1636    0.322256\n",
       "0.1657    0.326368\n",
       "0.1677    0.330309\n",
       "0.1697    0.334289\n",
       "0.1717    0.338192\n",
       "0.1737    0.342128\n",
       "0.1758    0.346278\n",
       "0.1778    0.350219\n",
       "0.1798    0.354186\n",
       "0.1818    0.358115\n",
       "0.1838    0.362064\n",
       "0.1859    0.366168\n",
       "0.1879    0.370158\n",
       "0.1899    0.374095\n",
       "0.1919    0.377972\n",
       "0.1939    0.381929\n",
       "0.1960    0.386047\n",
       "0.1980    0.390022\n",
       "0.2000    0.393922\n",
       "Name: Mean Bin Count, dtype: float64"
      ]
     },
     "execution_count": 429,
     "metadata": {},
     "output_type": "execute_result"
    }
   ],
   "source": [
    "bin_mean_count_per_delta"
   ]
  },
  {
   "cell_type": "code",
   "execution_count": 430,
   "metadata": {},
   "outputs": [
    {
     "data": {
      "text/plain": [
       "Text(0.01, 0.18, '$\\\\alpha$ = 0.50')"
      ]
     },
     "execution_count": 430,
     "metadata": {},
     "output_type": "execute_result"
    },
    {
     "data": {
      "image/png": "[encoded data removed]",
      "text/plain": [
       "<Figure size 432x288 with 1 Axes>"
      ]
     },
     "metadata": {
      "needs_background": "light"
     },
     "output_type": "display_data"
    }
   ],
   "source": [
    "plt.plot(bin_mean_count[\"Delta\"].unique(), bin_mean_count_per_delta)\n",
    "plt.title(r\"Bin Mean Count per $\\delta$\")\n",
    "plt.ylabel(\"Bin Mean Count\")\n",
    "plt.xlabel(r\"$\\delta$\")\n",
    "plt.text(0.01, 0.18, r\"$\\alpha$ = {:.2f}\".format(real_alpha), fontsize = 16)"
   ]
  },
  {
   "cell_type": "markdown",
   "metadata": {},
   "source": [
    "**From theory, we know that the mean baseline per unit time is given by: $\\overline{\\lambda} = \\frac{\\lambda_{0}}{1 - \\frac{\\alpha}{\\beta}}$:**"
   ]
  },
  {
   "cell_type": "markdown",
   "metadata": {},
   "source": [
    "**Theoretical mean baseline:**"
   ]
  },
  {
   "cell_type": "code",
   "execution_count": 431,
   "metadata": {},
   "outputs": [
    {
     "name": "stdout",
     "output_type": "stream",
     "text": [
      "1.50\n"
     ]
    }
   ],
   "source": [
    "print(f\"{real_baseline/(1 - (real_alpha/real_beta)):.2f}\")"
   ]
  },
  {
   "cell_type": "markdown",
   "metadata": {},
   "source": [
    "**Empirical mean baseline:**"
   ]
  },
  {
   "cell_type": "code",
   "execution_count": 432,
   "metadata": {},
   "outputs": [
    {
     "name": "stdout",
     "output_type": "stream",
     "text": [
      "1.97\n"
     ]
    }
   ],
   "source": [
    "print(\"{:.2f}\".format(np.mean(bin_mean_count_per_delta/bin_mean_count[\"Delta\"].unique())))"
   ]
  },
  {
   "cell_type": "markdown",
   "metadata": {},
   "source": [
    "## Testing for different $\\alpha$"
   ]
  },
  {
   "cell_type": "code",
   "execution_count": 433,
   "metadata": {},
   "outputs": [],
   "source": [
    "colors = ['b','g','r','m','peru','c','y','k','orange','mediumblue']"
   ]
  },
  {
   "cell_type": "code",
   "execution_count": 434,
   "metadata": {},
   "outputs": [],
   "source": [
    "hawkes_mle_data_experiment_different_alphas = pd.read_csv(\"results_mle_different_alphas.csv\")"
   ]
  },
  {
   "cell_type": "code",
   "execution_count": 435,
   "metadata": {},
   "outputs": [
    {
     "name": "stdout",
     "output_type": "stream",
     "text": [
      "Deltas Values: [0.   0.01 0.02 0.03 0.04 0.05 0.06 0.07 0.08 0.09 0.1  0.11 0.12 0.13\n",
      " 0.14 0.15 0.16 0.17 0.18 0.19 0.2 ]\n"
     ]
    }
   ],
   "source": [
    "mean_estimated_parameters_by_test_per_delta_mle_different_alphas  = return_mean_estimated_parameters_by_each_test_per_delta(hawkes_mle_data_experiment_different_alphas)"
   ]
  },
  {
   "cell_type": "code",
   "execution_count": 436,
   "metadata": {},
   "outputs": [
    {
     "data": {
      "text/html": [
       "<div>\n",
       "<style scoped>\n",
       "    .dataframe tbody tr th:only-of-type {\n",
       "        vertical-align: middle;\n",
       "    }\n",
       "\n",
       "    .dataframe tbody tr th {\n",
       "        vertical-align: top;\n",
       "    }\n",
       "\n",
       "    .dataframe thead th {\n",
       "        text-align: right;\n",
       "    }\n",
       "</style>\n",
       "<table border=\"1\" class=\"dataframe\">\n",
       "  <thead>\n",
       "    <tr style=\"text-align: right;\">\n",
       "      <th></th>\n",
       "      <th>Test Index</th>\n",
       "      <th>Delta</th>\n",
       "      <th>Mean Estimated Baseline</th>\n",
       "      <th>Mean Estimated Alpha</th>\n",
       "      <th>Mean Estimated Beta</th>\n",
       "      <th>Max Estimated Baseline</th>\n",
       "      <th>Max Estimated Alpha</th>\n",
       "      <th>Max Estimated Beta</th>\n",
       "      <th>Min Estimated Baseline</th>\n",
       "      <th>Min Estimated Alpha</th>\n",
       "      <th>Min Estimated Beta</th>\n",
       "      <th>Std Estimated Baseline</th>\n",
       "      <th>Std Estimated Alpha</th>\n",
       "      <th>Std Estimated Beta</th>\n",
       "    </tr>\n",
       "  </thead>\n",
       "  <tbody>\n",
       "    <tr>\n",
       "      <th>0</th>\n",
       "      <td>1.0</td>\n",
       "      <td>0.00</td>\n",
       "      <td>1.010064</td>\n",
       "      <td>0.497804</td>\n",
       "      <td>1.563619</td>\n",
       "      <td>1.200821</td>\n",
       "      <td>0.564573</td>\n",
       "      <td>2.079975</td>\n",
       "      <td>0.847174</td>\n",
       "      <td>0.421768</td>\n",
       "      <td>1.029990</td>\n",
       "      <td>0.071606</td>\n",
       "      <td>0.032052</td>\n",
       "      <td>0.199863</td>\n",
       "    </tr>\n",
       "    <tr>\n",
       "      <th>1</th>\n",
       "      <td>1.0</td>\n",
       "      <td>0.01</td>\n",
       "      <td>1.010174</td>\n",
       "      <td>0.497750</td>\n",
       "      <td>1.564377</td>\n",
       "      <td>1.201356</td>\n",
       "      <td>0.564781</td>\n",
       "      <td>2.086809</td>\n",
       "      <td>0.846621</td>\n",
       "      <td>0.421512</td>\n",
       "      <td>1.027871</td>\n",
       "      <td>0.071581</td>\n",
       "      <td>0.032043</td>\n",
       "      <td>0.200046</td>\n",
       "    </tr>\n",
       "    <tr>\n",
       "      <th>2</th>\n",
       "      <td>1.0</td>\n",
       "      <td>0.02</td>\n",
       "      <td>1.010607</td>\n",
       "      <td>0.497532</td>\n",
       "      <td>1.567491</td>\n",
       "      <td>1.202012</td>\n",
       "      <td>0.564780</td>\n",
       "      <td>2.090438</td>\n",
       "      <td>0.847497</td>\n",
       "      <td>0.421191</td>\n",
       "      <td>1.027085</td>\n",
       "      <td>0.071671</td>\n",
       "      <td>0.032113</td>\n",
       "      <td>0.201672</td>\n",
       "    </tr>\n",
       "    <tr>\n",
       "      <th>3</th>\n",
       "      <td>1.0</td>\n",
       "      <td>0.03</td>\n",
       "      <td>1.011357</td>\n",
       "      <td>0.497162</td>\n",
       "      <td>1.572244</td>\n",
       "      <td>1.202215</td>\n",
       "      <td>0.564657</td>\n",
       "      <td>2.122490</td>\n",
       "      <td>0.846480</td>\n",
       "      <td>0.421096</td>\n",
       "      <td>1.027242</td>\n",
       "      <td>0.071874</td>\n",
       "      <td>0.032147</td>\n",
       "      <td>0.202204</td>\n",
       "    </tr>\n",
       "    <tr>\n",
       "      <th>4</th>\n",
       "      <td>1.0</td>\n",
       "      <td>0.04</td>\n",
       "      <td>1.012439</td>\n",
       "      <td>0.496622</td>\n",
       "      <td>1.579561</td>\n",
       "      <td>1.203559</td>\n",
       "      <td>0.564064</td>\n",
       "      <td>2.167932</td>\n",
       "      <td>0.847089</td>\n",
       "      <td>0.420445</td>\n",
       "      <td>1.033735</td>\n",
       "      <td>0.072160</td>\n",
       "      <td>0.032285</td>\n",
       "      <td>0.207421</td>\n",
       "    </tr>\n",
       "  </tbody>\n",
       "</table>\n",
       "</div>"
      ],
      "text/plain": [
       "   Test Index  Delta  Mean Estimated Baseline  Mean Estimated Alpha  \\\n",
       "0         1.0   0.00                 1.010064              0.497804   \n",
       "1         1.0   0.01                 1.010174              0.497750   \n",
       "2         1.0   0.02                 1.010607              0.497532   \n",
       "3         1.0   0.03                 1.011357              0.497162   \n",
       "4         1.0   0.04                 1.012439              0.496622   \n",
       "\n",
       "   Mean Estimated Beta  Max Estimated Baseline  Max Estimated Alpha  \\\n",
       "0             1.563619                1.200821             0.564573   \n",
       "1             1.564377                1.201356             0.564781   \n",
       "2             1.567491                1.202012             0.564780   \n",
       "3             1.572244                1.202215             0.564657   \n",
       "4             1.579561                1.203559             0.564064   \n",
       "\n",
       "   Max Estimated Beta  Min Estimated Baseline  Min Estimated Alpha  \\\n",
       "0            2.079975                0.847174             0.421768   \n",
       "1            2.086809                0.846621             0.421512   \n",
       "2            2.090438                0.847497             0.421191   \n",
       "3            2.122490                0.846480             0.421096   \n",
       "4            2.167932                0.847089             0.420445   \n",
       "\n",
       "   Min Estimated Beta  Std Estimated Baseline  Std Estimated Alpha  \\\n",
       "0            1.029990                0.071606             0.032052   \n",
       "1            1.027871                0.071581             0.032043   \n",
       "2            1.027085                0.071671             0.032113   \n",
       "3            1.027242                0.071874             0.032147   \n",
       "4            1.033735                0.072160             0.032285   \n",
       "\n",
       "   Std Estimated Beta  \n",
       "0            0.199863  \n",
       "1            0.200046  \n",
       "2            0.201672  \n",
       "3            0.202204  \n",
       "4            0.207421  "
      ]
     },
     "execution_count": 436,
     "metadata": {},
     "output_type": "execute_result"
    }
   ],
   "source": [
    "mean_estimated_parameters_by_test_per_delta_mle_different_alphas.head(5)"
   ]
  },
  {
   "cell_type": "code",
   "execution_count": 437,
   "metadata": {},
   "outputs": [
    {
     "name": "stdout",
     "output_type": "stream",
     "text": [
      "5\n"
     ]
    },
    {
     "data": {
      "image/png": "[encoded data removed]",
      "text/plain": [
       "<Figure size 432x288 with 1 Axes>"
      ]
     },
     "metadata": {
      "needs_background": "light"
     },
     "output_type": "display_data"
    },
    {
     "data": {
      "image/png": "[encoded data removed]",
      "text/plain": [
       "<Figure size 432x288 with 1 Axes>"
      ]
     },
     "metadata": {
      "needs_background": "light"
     },
     "output_type": "display_data"
    },
    {
     "data": {
      "image/png": "[encoded data removed]",
      "text/plain": [
       "<Figure size 432x288 with 1 Axes>"
      ]
     },
     "metadata": {
      "needs_background": "light"
     },
     "output_type": "display_data"
    },
    {
     "data": {
      "image/png": "[encoded data removed]",
      "text/plain": [
       "<Figure size 432x288 with 1 Axes>"
      ]
     },
     "metadata": {
      "needs_background": "light"
     },
     "output_type": "display_data"
    }
   ],
   "source": [
    "number_of_tests = hawkes_mle_data_experiment_different_alphas[\"Test Index\"].nunique()\n",
    "print(number_of_tests) \n",
    "\n",
    "\n",
    "for i in range(1, number_of_tests + 1):\n",
    "    real_alpha = hawkes_mle_data_experiment_different_alphas[hawkes_mle_data_experiment_different_alphas[\"Test Index\"] == i][\"Real Alpha\"].values[0]\n",
    "    real_beta = hawkes_mle_data_experiment_different_alphas[hawkes_mle_data_experiment_different_alphas[\"Test Index\"] == i][\"Real Beta\"].values[0]\n",
    "    real_baseline = hawkes_mle_data_experiment_different_alphas[hawkes_mle_data_experiment_different_alphas[\"Test Index\"] == i][\"Real Baseline\"].values[0] \n",
    "    mean_estimated_parameters_current_test_mle_different_alphas = mean_estimated_parameters_by_test_per_delta_mle_different_alphas[mean_estimated_parameters_by_test_per_delta_mle_different_alphas[\"Test Index\"] == i]\n",
    "    plt.plot(mean_estimated_parameters_current_test_mle_different_alphas[\"Delta\"], mean_estimated_parameters_current_test_mle_different_alphas[\"Mean Estimated Alpha\"], linewidth = 1.5, markersize = 10, label = r\"$\\alpha = {}$\".format(real_alpha), color = colors[i-1])\n",
    "    plt.plot([0], [real_alpha], marker = \"x\", linewidth = 1.5, markersize = 10, color = colors[i-1])\n",
    "    plt.legend(loc = 1,  prop={\"size\":8})\n",
    "plt.title(f\"Mean Estimated Alpha vs Delta \")\n",
    "plt.xlabel(\"Delta\")\n",
    "plt.ylabel(\"Mean Estimated Alpha\")\n",
    "plt.show()\n",
    "\n",
    "for i in range(1, number_of_tests + 1):\n",
    "    real_alpha = hawkes_mle_data_experiment_different_alphas[hawkes_mle_data_experiment_different_alphas[\"Test Index\"] == i][\"Real Alpha\"].values[0]\n",
    "    real_beta = hawkes_mle_data_experiment_different_alphas[hawkes_mle_data_experiment_different_alphas[\"Test Index\"] == i][\"Real Beta\"].values[0]\n",
    "    real_baseline = hawkes_mle_data_experiment_different_alphas[hawkes_mle_data_experiment_different_alphas[\"Test Index\"] == i][\"Real Baseline\"].values[0] \n",
    "    mean_estimated_parameters_current_test_mle_different_alphas = mean_estimated_parameters_by_test_per_delta_mle_different_alphas[mean_estimated_parameters_by_test_per_delta_mle_different_alphas[\"Test Index\"] == i]\n",
    "    plt.plot(mean_estimated_parameters_current_test_mle_different_alphas[\"Delta\"], mean_estimated_parameters_current_test_mle_different_alphas[\"Mean Estimated Beta\"], linewidth = 1.5, markersize = 10, label = r\"$\\alpha = {}$\".format(real_alpha), color = colors[i-1])\n",
    "    plt.plot([0], [real_beta], marker = \"x\", linewidth = 1.5, markersize = 10, color = colors[i-1])\n",
    "    plt.legend(loc = 1,  prop={\"size\":8})\n",
    "plt.title(f\"Mean Estimated Beta vs Delta \")\n",
    "plt.xlabel(\"Delta\")\n",
    "plt.ylabel(\"Mean Estimated Beta\")\n",
    "plt.show()\n",
    "\n",
    "for i in range(1, number_of_tests + 1):\n",
    "    real_alpha = hawkes_mle_data_experiment_different_alphas[hawkes_mle_data_experiment_different_alphas[\"Test Index\"] == i][\"Real Alpha\"].values[0]\n",
    "    real_beta = hawkes_mle_data_experiment_different_alphas[hawkes_mle_data_experiment_different_alphas[\"Test Index\"] == i][\"Real Beta\"].values[0]\n",
    "    real_baseline = hawkes_mle_data_experiment_different_alphas[hawkes_mle_data_experiment_different_alphas[\"Test Index\"] == i][\"Real Baseline\"].values[0] \n",
    "    mean_estimated_parameters_current_test_mle_different_alphas = mean_estimated_parameters_by_test_per_delta_mle_different_alphas[mean_estimated_parameters_by_test_per_delta_mle_different_alphas[\"Test Index\"] == i]\n",
    "    plt.plot(mean_estimated_parameters_current_test_mle_different_alphas[\"Delta\"], mean_estimated_parameters_current_test_mle_different_alphas[\"Mean Estimated Baseline\"], linewidth = 1.5, markersize = 10, label = r\"$\\alpha = {}$\".format(real_alpha), color = colors[i-1])\n",
    "    plt.plot([0], [real_baseline], marker = \"x\", linewidth = 1.5, markersize = 10, color = colors[i-1])\n",
    "    plt.legend(loc = 1,  prop={\"size\":8})\n",
    "plt.title(f\"Mean Estimated Baseline vs Delta \")\n",
    "plt.xlabel(\"Delta\")\n",
    "plt.ylabel(\"Mean Estimated Baseline\")\n",
    "plt.show()\n",
    "\n",
    "for i in range(1, number_of_tests + 1):\n",
    "    real_alpha = hawkes_mle_data_experiment_different_alphas[hawkes_mle_data_experiment_different_alphas[\"Test Index\"] == i][\"Real Alpha\"].values[0]\n",
    "    real_beta = hawkes_mle_data_experiment_different_alphas[hawkes_mle_data_experiment_different_alphas[\"Test Index\"] == i][\"Real Beta\"].values[0]\n",
    "    real_baseline = hawkes_mle_data_experiment_different_alphas[hawkes_mle_data_experiment_different_alphas[\"Test Index\"] == i][\"Real Baseline\"].values[0] \n",
    "    mean_estimated_parameters_current_test_mle_different_alphas = mean_estimated_parameters_by_test_per_delta_mle_different_alphas[mean_estimated_parameters_by_test_per_delta_mle_different_alphas[\"Test Index\"] == i]\n",
    "    plt.plot(mean_estimated_parameters_current_test_mle_different_alphas[\"Delta\"], mean_estimated_parameters_current_test_mle_different_alphas[\"Mean Estimated Alpha\"]/mean_estimated_parameters_current_test_mle_different_alphas[\"Mean Estimated Beta\"], linewidth = 1.5, markersize = 10, label = r\"$\\alpha = {}$\".format(real_alpha), color = colors[i-1])\n",
    "    plt.plot([0], [real_alpha/real_beta], marker = \"x\", linewidth = 1.5, markersize = 10, color = colors[i-1])\n",
    "    plt.legend(loc = 1,  prop={\"size\":8})\n",
    "plt.title(f\"Mean Estimated Endogeneity vs Delta \")\n",
    "plt.xlabel(\"Delta\")\n",
    "plt.ylabel(\"Mean Estimated Endogeneity\")\n",
    "plt.show()"
   ]
  },
  {
   "cell_type": "code",
   "execution_count": 448,
   "metadata": {},
   "outputs": [],
   "source": [
    "bin_mean_count_different_alphas = pd.read_csv(\"bin_count_different_alphas.csv\")"
   ]
  },
  {
   "cell_type": "code",
   "execution_count": 449,
   "metadata": {},
   "outputs": [],
   "source": [
    "bin_mean_count_per_delta_different_alphas = []\n",
    "for i in range(1, number_of_tests + 1):\n",
    "    bin_mean_count_different_alphas_test_i = bin_mean_count_different_alphas[bin_mean_count_different_alphas[\"Test Index\"] == i]\n",
    "    bin_mean_count_per_delta_different_alphas.append(bin_mean_count_different_alphas_test_i.groupby(\"Delta\").mean()[\"Mean Bin Count\"])"
   ]
  },
  {
   "cell_type": "code",
   "execution_count": 450,
   "metadata": {},
   "outputs": [
    {
     "data": {
      "text/plain": [
       "5"
      ]
     },
     "execution_count": 450,
     "metadata": {},
     "output_type": "execute_result"
    }
   ],
   "source": [
    "len(bin_mean_count_per_delta_different_alphas)"
   ]
  },
  {
   "cell_type": "code",
   "execution_count": 451,
   "metadata": {},
   "outputs": [
    {
     "data": {
      "image/png": "[encoded data removed]",
      "text/plain": [
       "<Figure size 432x288 with 1 Axes>"
      ]
     },
     "metadata": {
      "needs_background": "light"
     },
     "output_type": "display_data"
    }
   ],
   "source": [
    "for i in range(1, number_of_tests + 1):\n",
    "    real_alpha = hawkes_mle_data_experiment_different_alphas[hawkes_mle_data_experiment_different_alphas[\"Test Index\"] == i][\"Real Alpha\"].values[0]\n",
    "    plt.plot(bin_mean_count_different_alphas[\"Delta\"].unique(), bin_mean_count_per_delta_different_alphas[i-1], label = r\"$\\alpha$ = {}\".format(real_alpha))\n",
    "plt.title(r\"Bin Mean Count per $\\delta$\")\n",
    "plt.ylabel(\"Bin Mean Count\")\n",
    "plt.xlabel(r\"$\\delta$\")\n",
    "plt.legend()\n",
    "plt.show()"
   ]
  },
  {
   "cell_type": "markdown",
   "metadata": {},
   "source": [
    "**Theoretical Expected Values for Mean Intensity Rate**"
   ]
  },
  {
   "cell_type": "code",
   "execution_count": 452,
   "metadata": {},
   "outputs": [
    {
     "name": "stdout",
     "output_type": "stream",
     "text": [
      "Test 1: 1.50\n",
      "Test 2: 1.69\n",
      "Test 3: 1.92\n",
      "Test 4: 2.24\n",
      "Test 5: 2.68\n"
     ]
    }
   ],
   "source": [
    "for i in range(1, number_of_tests + 1):\n",
    "    real_alpha = hawkes_mle_data_experiment_different_alphas[hawkes_mle_data_experiment_different_alphas[\"Test Index\"] == i][\"Real Alpha\"].values[0]\n",
    "    real_beta = hawkes_mle_data_experiment_different_alphas[hawkes_mle_data_experiment_different_alphas[\"Test Index\"] == i][\"Real Beta\"].values[0]\n",
    "    real_baseline = hawkes_mle_data_experiment_different_alphas[hawkes_mle_data_experiment_different_alphas[\"Test Index\"] == i][\"Real Baseline\"].values[0]\n",
    "    print(f\"Test {i}: {real_baseline/(1 - (real_alpha/real_beta)):.2f}\")\n"
   ]
  },
  {
   "cell_type": "markdown",
   "metadata": {},
   "source": [
    "**Empirical Values for Mean Intensity Rate**"
   ]
  },
  {
   "cell_type": "code",
   "execution_count": 454,
   "metadata": {},
   "outputs": [
    {
     "name": "stdout",
     "output_type": "stream",
     "text": [
      "2.01\n",
      "2.56\n",
      "3.59\n",
      "5.79\n",
      "16.48\n"
     ]
    }
   ],
   "source": [
    "for i in range(1, number_of_tests + 1):\n",
    "    print(\"{:.2f}\".format(np.mean(bin_mean_count_per_delta_different_alphas[i-1]/bin_mean_count_different_alphas[\"Delta\"].unique())))"
   ]
  },
  {
   "cell_type": "code",
   "execution_count": null,
   "metadata": {},
   "outputs": [],
   "source": []
  }
 ],
 "metadata": {
  "kernelspec": {
   "display_name": "Python 3",
   "language": "python",
   "name": "python3"
  },
  "language_info": {
   "codemirror_mode": {
    "name": "ipython",
    "version": 3
   },
   "file_extension": ".py",
   "mimetype": "text/x-python",
   "name": "python",
   "nbconvert_exporter": "python",
   "pygments_lexer": "ipython3",
   "version": "3.7.6"
  }
 },
 "nbformat": 4,
 "nbformat_minor": 4
}
