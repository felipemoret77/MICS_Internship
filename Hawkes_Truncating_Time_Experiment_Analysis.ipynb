{
 "cells": [
  {
   "cell_type": "code",
   "execution_count": 1,
   "metadata": {},
   "outputs": [],
   "source": [
    "import pandas as pd\n",
    "import datetime as dt\n",
    "import numpy as np\n",
    "import matplotlib.pyplot as plt\n",
    "\n",
    "pd.set_option('display.max_columns', None)\n",
    "pd.set_option('display.max_rows', None)"
   ]
  },
  {
   "cell_type": "code",
   "execution_count": 2,
   "metadata": {},
   "outputs": [],
   "source": [
    "hawkes_data_experiment = pd.read_csv(\"/Users/felipemoret/Desktop/results.csv\")"
   ]
  },
  {
   "cell_type": "markdown",
   "metadata": {},
   "source": [
    "**Shape of the data**"
   ]
  },
  {
   "cell_type": "code",
   "execution_count": 3,
   "metadata": {},
   "outputs": [
    {
     "data": {
      "text/plain": [
       "(1151, 14)"
      ]
     },
     "execution_count": 3,
     "metadata": {},
     "output_type": "execute_result"
    }
   ],
   "source": [
    "hawkes_data_experiment.shape"
   ]
  },
  {
   "cell_type": "markdown",
   "metadata": {},
   "source": [
    "**Type of the data**"
   ]
  },
  {
   "cell_type": "code",
   "execution_count": 4,
   "metadata": {},
   "outputs": [
    {
     "data": {
      "text/html": [
       "<div>\n",
       "<style scoped>\n",
       "    .dataframe tbody tr th:only-of-type {\n",
       "        vertical-align: middle;\n",
       "    }\n",
       "\n",
       "    .dataframe tbody tr th {\n",
       "        vertical-align: top;\n",
       "    }\n",
       "\n",
       "    .dataframe thead th {\n",
       "        text-align: right;\n",
       "    }\n",
       "</style>\n",
       "<table border=\"1\" class=\"dataframe\">\n",
       "  <thead>\n",
       "    <tr style=\"text-align: right;\">\n",
       "      <th></th>\n",
       "      <th>Test Index</th>\n",
       "      <th>Simulation Index</th>\n",
       "      <th>Real Alpha</th>\n",
       "      <th>Real Beta</th>\n",
       "      <th>Real Baseline</th>\n",
       "      <th>Real Endogeneity</th>\n",
       "      <th>Delta</th>\n",
       "      <th>Estimated Alpha</th>\n",
       "      <th>Estimated Beta</th>\n",
       "      <th>Estimated Baseline</th>\n",
       "      <th>Estimated Endogeneity</th>\n",
       "      <th>Duplicates</th>\n",
       "      <th>Estimation Method</th>\n",
       "      <th>Initial Estimation Point</th>\n",
       "    </tr>\n",
       "  </thead>\n",
       "  <tbody>\n",
       "    <tr>\n",
       "      <th>0</th>\n",
       "      <td>1</td>\n",
       "      <td>1</td>\n",
       "      <td>0.1</td>\n",
       "      <td>1</td>\n",
       "      <td>1</td>\n",
       "      <td>0.1</td>\n",
       "      <td>0.000100</td>\n",
       "      <td>0.123382</td>\n",
       "      <td>1.634047</td>\n",
       "      <td>0.994104</td>\n",
       "      <td>0.075507</td>\n",
       "      <td>supression</td>\n",
       "      <td>mle</td>\n",
       "      <td>original_parameters</td>\n",
       "    </tr>\n",
       "    <tr>\n",
       "      <th>1</th>\n",
       "      <td>1</td>\n",
       "      <td>1</td>\n",
       "      <td>0.1</td>\n",
       "      <td>1</td>\n",
       "      <td>1</td>\n",
       "      <td>0.1</td>\n",
       "      <td>0.002139</td>\n",
       "      <td>0.123014</td>\n",
       "      <td>1.535922</td>\n",
       "      <td>0.992771</td>\n",
       "      <td>0.080091</td>\n",
       "      <td>supression</td>\n",
       "      <td>mle</td>\n",
       "      <td>original_parameters</td>\n",
       "    </tr>\n",
       "    <tr>\n",
       "      <th>2</th>\n",
       "      <td>1</td>\n",
       "      <td>1</td>\n",
       "      <td>0.1</td>\n",
       "      <td>1</td>\n",
       "      <td>1</td>\n",
       "      <td>0.1</td>\n",
       "      <td>0.004178</td>\n",
       "      <td>0.122112</td>\n",
       "      <td>1.538372</td>\n",
       "      <td>0.992914</td>\n",
       "      <td>0.079377</td>\n",
       "      <td>supression</td>\n",
       "      <td>mle</td>\n",
       "      <td>original_parameters</td>\n",
       "    </tr>\n",
       "    <tr>\n",
       "      <th>3</th>\n",
       "      <td>1</td>\n",
       "      <td>1</td>\n",
       "      <td>0.1</td>\n",
       "      <td>1</td>\n",
       "      <td>1</td>\n",
       "      <td>0.1</td>\n",
       "      <td>0.006216</td>\n",
       "      <td>0.118407</td>\n",
       "      <td>1.469223</td>\n",
       "      <td>0.994462</td>\n",
       "      <td>0.080591</td>\n",
       "      <td>supression</td>\n",
       "      <td>mle</td>\n",
       "      <td>original_parameters</td>\n",
       "    </tr>\n",
       "    <tr>\n",
       "      <th>4</th>\n",
       "      <td>1</td>\n",
       "      <td>1</td>\n",
       "      <td>0.1</td>\n",
       "      <td>1</td>\n",
       "      <td>1</td>\n",
       "      <td>0.1</td>\n",
       "      <td>0.008255</td>\n",
       "      <td>0.115987</td>\n",
       "      <td>1.390032</td>\n",
       "      <td>0.994544</td>\n",
       "      <td>0.083442</td>\n",
       "      <td>supression</td>\n",
       "      <td>mle</td>\n",
       "      <td>original_parameters</td>\n",
       "    </tr>\n",
       "  </tbody>\n",
       "</table>\n",
       "</div>"
      ],
      "text/plain": [
       "   Test Index  Simulation Index  Real Alpha  Real Beta  Real Baseline  \\\n",
       "0           1                 1         0.1          1              1   \n",
       "1           1                 1         0.1          1              1   \n",
       "2           1                 1         0.1          1              1   \n",
       "3           1                 1         0.1          1              1   \n",
       "4           1                 1         0.1          1              1   \n",
       "\n",
       "   Real Endogeneity     Delta  Estimated Alpha  Estimated Beta  \\\n",
       "0               0.1  0.000100         0.123382        1.634047   \n",
       "1               0.1  0.002139         0.123014        1.535922   \n",
       "2               0.1  0.004178         0.122112        1.538372   \n",
       "3               0.1  0.006216         0.118407        1.469223   \n",
       "4               0.1  0.008255         0.115987        1.390032   \n",
       "\n",
       "   Estimated Baseline  Estimated Endogeneity  Duplicates Estimation Method  \\\n",
       "0            0.994104               0.075507  supression               mle   \n",
       "1            0.992771               0.080091  supression               mle   \n",
       "2            0.992914               0.079377  supression               mle   \n",
       "3            0.994462               0.080591  supression               mle   \n",
       "4            0.994544               0.083442  supression               mle   \n",
       "\n",
       "  Initial Estimation Point  \n",
       "0      original_parameters  \n",
       "1      original_parameters  \n",
       "2      original_parameters  \n",
       "3      original_parameters  \n",
       "4      original_parameters  "
      ]
     },
     "execution_count": 4,
     "metadata": {},
     "output_type": "execute_result"
    }
   ],
   "source": [
    "hawkes_data_experiment.head()"
   ]
  },
  {
   "cell_type": "markdown",
   "metadata": {},
   "source": [
    "**Plotting the mean of estimated values for each test for each delta value**"
   ]
  },
  {
   "cell_type": "code",
   "execution_count": 5,
   "metadata": {},
   "outputs": [],
   "source": [
    "def return_mean_estimated_parameters_by_each_test_per_delta(hawkes_data_experiment):\n",
    "    number_of_tests = hawkes_data_experiment[\"Test Index\"].nunique()\n",
    "    number_of_deltas = hawkes_data_experiment[\"Simulation Index\"].nunique()\n",
    "    different_deltas = hawkes_data_experiment[\"Delta\"].unique() \n",
    "\n",
    "    mean_estimated_parameters_by_test_per_delta = pd.DataFrame(columns = [\"Test Index\", \"Delta\", \"Mean Estimated Baseline\", \"Mean Estimated Alpha\", \"Mean Estimated Beta\", \"Max Estimated Baseline\", \"Max Estimated Alpha\", \"Max Estimated Beta\", \"Min Estimated Baseline\", \"Min Estimated Alpha\", \"Min Estimated Beta\",\"Std Estimated Baseline\", \"Std Estimated Alpha\", \"Std Estimated Beta\"])\n",
    "    \n",
    "    for i in range(1,number_of_tests + 1):\n",
    "        current_test = hawkes_data_experiment[hawkes_data_experiment[\"Test Index\"] == i]\n",
    "        for delta in different_deltas:\n",
    "            current_test_for_this_delta = current_test[current_test[\"Delta\"] == delta]\n",
    "            current_estimated_mean_alpha = current_test_for_this_delta[\"Estimated Alpha\"].mean()\n",
    "            current_estimated_mean_beta = current_test_for_this_delta[\"Estimated Beta\"].mean()\n",
    "            current_estimated_mean_baseline = current_test_for_this_delta[\"Estimated Baseline\"].mean()\n",
    "            current_max_estimated_alpha = current_test_for_this_delta[\"Estimated Alpha\"].max()\n",
    "            current_max_estimated_beta = current_test_for_this_delta[\"Estimated Beta\"].max()\n",
    "            current_max_estimated_baseline = current_test_for_this_delta[\"Estimated Baseline\"].max()\n",
    "            current_min_estimated_alpha = current_test_for_this_delta[\"Estimated Alpha\"].min()\n",
    "            current_min_estimated_beta = current_test_for_this_delta[\"Estimated Beta\"].min()\n",
    "            current_min_estimated_baseline = current_test_for_this_delta[\"Estimated Baseline\"].min()\n",
    "            current_std_estimated_baseline = current_test_for_this_delta[\"Estimated Baseline\"].std()\n",
    "            current_std_estimated_alpha = current_test_for_this_delta[\"Estimated Alpha\"].std()\n",
    "            current_std_estimated_beta = current_test_for_this_delta[\"Estimated Beta\"].std()\n",
    "            to_append = [i, delta, current_estimated_mean_baseline, current_estimated_mean_alpha, current_estimated_mean_beta, current_max_estimated_baseline, current_max_estimated_alpha, current_max_estimated_beta, current_min_estimated_baseline, current_min_estimated_alpha, current_min_estimated_beta, current_std_estimated_baseline, current_std_estimated_alpha, current_std_estimated_beta]\n",
    "            to_append_series = pd.Series(to_append, index = mean_estimated_parameters_by_test_per_delta.columns)\n",
    "            mean_estimated_parameters_by_test_per_delta = mean_estimated_parameters_by_test_per_delta.append(to_append_series, ignore_index = True)\n",
    "            \n",
    "    return mean_estimated_parameters_by_test_per_delta \n",
    "       "
   ]
  },
  {
   "cell_type": "code",
   "execution_count": 6,
   "metadata": {},
   "outputs": [],
   "source": [
    "mean_estimated_parameters_by_test_per_delta  = return_mean_estimated_parameters_by_each_test_per_delta(hawkes_data_experiment)"
   ]
  },
  {
   "cell_type": "code",
   "execution_count": 7,
   "metadata": {},
   "outputs": [
    {
     "data": {
      "text/html": [
       "<div>\n",
       "<style scoped>\n",
       "    .dataframe tbody tr th:only-of-type {\n",
       "        vertical-align: middle;\n",
       "    }\n",
       "\n",
       "    .dataframe tbody tr th {\n",
       "        vertical-align: top;\n",
       "    }\n",
       "\n",
       "    .dataframe thead th {\n",
       "        text-align: right;\n",
       "    }\n",
       "</style>\n",
       "<table border=\"1\" class=\"dataframe\">\n",
       "  <thead>\n",
       "    <tr style=\"text-align: right;\">\n",
       "      <th></th>\n",
       "      <th>Test Index</th>\n",
       "      <th>Delta</th>\n",
       "      <th>Mean Estimated Baseline</th>\n",
       "      <th>Mean Estimated Alpha</th>\n",
       "      <th>Mean Estimated Beta</th>\n",
       "      <th>Max Estimated Baseline</th>\n",
       "      <th>Max Estimated Alpha</th>\n",
       "      <th>Max Estimated Beta</th>\n",
       "      <th>Min Estimated Baseline</th>\n",
       "      <th>Min Estimated Alpha</th>\n",
       "      <th>Min Estimated Beta</th>\n",
       "      <th>Std Estimated Baseline</th>\n",
       "      <th>Std Estimated Alpha</th>\n",
       "      <th>Std Estimated Beta</th>\n",
       "    </tr>\n",
       "  </thead>\n",
       "  <tbody>\n",
       "    <tr>\n",
       "      <th>0</th>\n",
       "      <td>1.0</td>\n",
       "      <td>0.000100</td>\n",
       "      <td>0.990005</td>\n",
       "      <td>0.140263</td>\n",
       "      <td>2.692744</td>\n",
       "      <td>1.158071</td>\n",
       "      <td>0.779142</td>\n",
       "      <td>33.665684</td>\n",
       "      <td>0.802533</td>\n",
       "      <td>0.013862</td>\n",
       "      <td>0.000120</td>\n",
       "      <td>0.085522</td>\n",
       "      <td>0.152107</td>\n",
       "      <td>6.686330</td>\n",
       "    </tr>\n",
       "    <tr>\n",
       "      <th>1</th>\n",
       "      <td>1.0</td>\n",
       "      <td>0.002139</td>\n",
       "      <td>0.988064</td>\n",
       "      <td>0.146983</td>\n",
       "      <td>2.621128</td>\n",
       "      <td>1.160608</td>\n",
       "      <td>0.882407</td>\n",
       "      <td>34.921832</td>\n",
       "      <td>0.802516</td>\n",
       "      <td>0.013874</td>\n",
       "      <td>0.000100</td>\n",
       "      <td>0.085166</td>\n",
       "      <td>0.174210</td>\n",
       "      <td>7.110297</td>\n",
       "    </tr>\n",
       "    <tr>\n",
       "      <th>2</th>\n",
       "      <td>1.0</td>\n",
       "      <td>0.004178</td>\n",
       "      <td>0.987688</td>\n",
       "      <td>0.141006</td>\n",
       "      <td>2.436348</td>\n",
       "      <td>1.161137</td>\n",
       "      <td>0.769696</td>\n",
       "      <td>31.382433</td>\n",
       "      <td>0.803311</td>\n",
       "      <td>0.012666</td>\n",
       "      <td>0.000121</td>\n",
       "      <td>0.085376</td>\n",
       "      <td>0.153033</td>\n",
       "      <td>6.381735</td>\n",
       "    </tr>\n",
       "    <tr>\n",
       "      <th>3</th>\n",
       "      <td>1.0</td>\n",
       "      <td>0.006216</td>\n",
       "      <td>0.982068</td>\n",
       "      <td>0.148734</td>\n",
       "      <td>2.247489</td>\n",
       "      <td>1.159012</td>\n",
       "      <td>0.860212</td>\n",
       "      <td>30.247559</td>\n",
       "      <td>0.804487</td>\n",
       "      <td>0.009643</td>\n",
       "      <td>0.000101</td>\n",
       "      <td>0.091177</td>\n",
       "      <td>0.170655</td>\n",
       "      <td>6.161876</td>\n",
       "    </tr>\n",
       "    <tr>\n",
       "      <th>4</th>\n",
       "      <td>1.0</td>\n",
       "      <td>0.008255</td>\n",
       "      <td>0.985439</td>\n",
       "      <td>0.109182</td>\n",
       "      <td>2.164264</td>\n",
       "      <td>1.162752</td>\n",
       "      <td>0.278242</td>\n",
       "      <td>26.595858</td>\n",
       "      <td>0.806299</td>\n",
       "      <td>0.009677</td>\n",
       "      <td>0.021045</td>\n",
       "      <td>0.086033</td>\n",
       "      <td>0.068957</td>\n",
       "      <td>5.393857</td>\n",
       "    </tr>\n",
       "  </tbody>\n",
       "</table>\n",
       "</div>"
      ],
      "text/plain": [
       "   Test Index     Delta  Mean Estimated Baseline  Mean Estimated Alpha  \\\n",
       "0         1.0  0.000100                 0.990005              0.140263   \n",
       "1         1.0  0.002139                 0.988064              0.146983   \n",
       "2         1.0  0.004178                 0.987688              0.141006   \n",
       "3         1.0  0.006216                 0.982068              0.148734   \n",
       "4         1.0  0.008255                 0.985439              0.109182   \n",
       "\n",
       "   Mean Estimated Beta  Max Estimated Baseline  Max Estimated Alpha  \\\n",
       "0             2.692744                1.158071             0.779142   \n",
       "1             2.621128                1.160608             0.882407   \n",
       "2             2.436348                1.161137             0.769696   \n",
       "3             2.247489                1.159012             0.860212   \n",
       "4             2.164264                1.162752             0.278242   \n",
       "\n",
       "   Max Estimated Beta  Min Estimated Baseline  Min Estimated Alpha  \\\n",
       "0           33.665684                0.802533             0.013862   \n",
       "1           34.921832                0.802516             0.013874   \n",
       "2           31.382433                0.803311             0.012666   \n",
       "3           30.247559                0.804487             0.009643   \n",
       "4           26.595858                0.806299             0.009677   \n",
       "\n",
       "   Min Estimated Beta  Std Estimated Baseline  Std Estimated Alpha  \\\n",
       "0            0.000120                0.085522             0.152107   \n",
       "1            0.000100                0.085166             0.174210   \n",
       "2            0.000121                0.085376             0.153033   \n",
       "3            0.000101                0.091177             0.170655   \n",
       "4            0.021045                0.086033             0.068957   \n",
       "\n",
       "   Std Estimated Beta  \n",
       "0            6.686330  \n",
       "1            7.110297  \n",
       "2            6.381735  \n",
       "3            6.161876  \n",
       "4            5.393857  "
      ]
     },
     "execution_count": 7,
     "metadata": {},
     "output_type": "execute_result"
    }
   ],
   "source": [
    "mean_estimated_parameters_by_test_per_delta.head()"
   ]
  },
  {
   "cell_type": "markdown",
   "metadata": {},
   "source": [
    "**Plotting mean of estimated $\\alpha$ for each test vs $\\delta$**"
   ]
  },
  {
   "cell_type": "code",
   "execution_count": 9,
   "metadata": {},
   "outputs": [
    {
     "data": {
      "image/png": "[encoded data removed]",
      "text/plain": [
       "<Figure size 432x288 with 1 Axes>"
      ]
     },
     "metadata": {
      "needs_background": "light"
     },
     "output_type": "display_data"
    }
   ],
   "source": [
    "number_of_tests = hawkes_data_experiment[\"Test Index\"].nunique()\n",
    "\n",
    "for i in range(1, number_of_tests + 1):\n",
    "    real_alpha = hawkes_data_experiment[hawkes_data_experiment[\"Test Index\"] == i][\"Real Alpha\"].values[0]\n",
    "    real_beta = hawkes_data_experiment[hawkes_data_experiment[\"Test Index\"] == i][\"Real Beta\"].values[0]\n",
    "    real_baseline = hawkes_data_experiment[hawkes_data_experiment[\"Test Index\"] == i][\"Real Baseline\"].values[0]\n",
    "    mean_estimated_parameters_current_test = mean_estimated_parameters_by_test_per_delta[mean_estimated_parameters_by_test_per_delta[\"Test Index\"] == i]\n",
    "    #plt.plot(mean_estimated_parameters_current_test[\"Delta\"], mean_estimated_parameters_current_test[\"Mean Estimated Alpha\"], linewidth = 1.5, markersize = 10, label = \"Estimated Mean Alpha\")\n",
    "    plt.errorbar(mean_estimated_parameters_current_test[\"Delta\"], mean_estimated_parameters_current_test[\"Mean Estimated Alpha\"] , yerr = mean_estimated_parameters_current_test[\"Std Estimated Alpha\"] , fmt='--o', label = \"Estimated Mean Alpha\")\n",
    "    plt.plot([0], [real_alpha], marker = \"x\", linewidth = 1.5, markersize = 10, label = f\"Real Alpha = {real_alpha}\", color = 'r')\n",
    "    plt.title(f\"Mean Estimated Alpha vs Delta - Test {i}\")\n",
    "    plt.xlabel(\"Delta\")\n",
    "    plt.ylabel(\"Mean Estimated Alpha\")\n",
    "    plt.legend()\n",
    "    plt.show()\n"
   ]
  },
  {
   "cell_type": "markdown",
   "metadata": {},
   "source": [
    "**Plotting mean of estimated $\\beta$ for each test vs $\\delta$**"
   ]
  },
  {
   "cell_type": "code",
   "execution_count": 10,
   "metadata": {},
   "outputs": [
    {
     "data": {
      "image/png": "[encoded data removed]",
      "text/plain": [
       "<Figure size 432x288 with 1 Axes>"
      ]
     },
     "metadata": {
      "needs_background": "light"
     },
     "output_type": "display_data"
    }
   ],
   "source": [
    "number_of_tests = hawkes_data_experiment[\"Test Index\"].nunique()\n",
    "\n",
    "for i in range(1, number_of_tests + 1):\n",
    "    real_beta = hawkes_data_experiment[hawkes_data_experiment[\"Test Index\"] == i][\"Real Beta\"].values[0]\n",
    "    mean_estimated_parameters_current_test = mean_estimated_parameters_by_test_per_delta[mean_estimated_parameters_by_test_per_delta[\"Test Index\"] == i]\n",
    "    plt.errorbar(mean_estimated_parameters_current_test[\"Delta\"], mean_estimated_parameters_current_test[\"Mean Estimated Beta\"] , yerr = mean_estimated_parameters_current_test[\"Std Estimated Beta\"] , fmt='--o', label = \"Estimated Mean Beta\")\n",
    "    plt.plot([0], [real_beta], marker = \"x\", linewidth = 1.5, markersize = 10, label = f\"Real Beta = {real_beta}\", color = 'r')\n",
    "    plt.title(f\"Mean Estimated Beta vs Delta - Test {i}\")\n",
    "    plt.xlabel(\"Delta\")\n",
    "    plt.ylabel(\"Mean Estimated Beta\")\n",
    "    plt.legend()\n",
    "    plt.show()"
   ]
  },
  {
   "cell_type": "markdown",
   "metadata": {},
   "source": [
    "**Plotting mean of estimated $\\lambda_{0}$ for each test vs $\\delta$**"
   ]
  },
  {
   "cell_type": "code",
   "execution_count": 11,
   "metadata": {},
   "outputs": [
    {
     "data": {
      "image/png": "[encoded data removed]",
      "text/plain": [
       "<Figure size 432x288 with 1 Axes>"
      ]
     },
     "metadata": {
      "needs_background": "light"
     },
     "output_type": "display_data"
    }
   ],
   "source": [
    "number_of_tests = hawkes_data_experiment[\"Test Index\"].nunique()\n",
    "\n",
    "for i in range(1, number_of_tests + 1):\n",
    "    real_baseline = hawkes_data_experiment[hawkes_data_experiment[\"Test Index\"] == i][\"Real Baseline\"].values[0]\n",
    "    mean_estimated_parameters_current_test = mean_estimated_parameters_by_test_per_delta[mean_estimated_parameters_by_test_per_delta[\"Test Index\"] == i]\n",
    "    plt.errorbar(mean_estimated_parameters_current_test[\"Delta\"], mean_estimated_parameters_current_test[\"Mean Estimated Baseline\"] , yerr = mean_estimated_parameters_current_test[\"Std Estimated Baseline\"] , fmt='--o', label = \"Estimated Mean Baseline\")\n",
    "    plt.plot([0], [real_baseline], marker = \"x\", linewidth = 1.5, markersize = 10, label = f\"Real Baseline = {real_baseline}\", color = 'r')\n",
    "    plt.title(f\"Mean Estimated Baseline vs Delta - Test {i}\")\n",
    "    plt.xlabel(\"Delta\")\n",
    "    plt.ylabel(\"Mean Estimated Baseline\")\n",
    "    plt.legend()\n",
    "    plt.show()"
   ]
  },
  {
   "cell_type": "code",
   "execution_count": null,
   "metadata": {},
   "outputs": [],
   "source": []
  }
 ],
 "metadata": {
  "kernelspec": {
   "display_name": "Python 3",
   "language": "python",
   "name": "python3"
  },
  "language_info": {
   "codemirror_mode": {
    "name": "ipython",
    "version": 3
   },
   "file_extension": ".py",
   "mimetype": "text/x-python",
   "name": "python",
   "nbconvert_exporter": "python",
   "pygments_lexer": "ipython3",
   "version": "3.7.6"
  }
 },
 "nbformat": 4,
 "nbformat_minor": 4
}
